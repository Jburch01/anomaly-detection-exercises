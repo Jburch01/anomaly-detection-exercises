{
 "cells": [
  {
   "cell_type": "code",
   "execution_count": 1,
   "id": "73cde545-f549-4468-bcee-ce31b6efd099",
   "metadata": {},
   "outputs": [],
   "source": [
    "import pandas as pd\n",
    "import numpy as np\n",
    "\n",
    "import matplotlib.pyplot as plt\n",
    "import seaborn as sns\n",
    "from env import get_db_url"
   ]
  },
  {
   "cell_type": "markdown",
   "id": "8c938711-da4f-4865-acec-59a9a31a656b",
   "metadata": {},
   "source": [
    "## Acquire/Prep"
   ]
  },
  {
   "cell_type": "code",
   "execution_count": 2,
   "id": "f998782f-c8ac-4e97-bdc1-9616a966863c",
   "metadata": {},
   "outputs": [],
   "source": [
    "try:\n",
    "    df = pd.read_csv('logs.csv')\n",
    "except FileNotFoundError:\n",
    "    url = get_db_url('curriculum_logs')\n",
    "    query = \"select id, name, start_date, end_date, program_id, user_id, path, ip , date, time from cohorts right join logs on cohorts.id = logs.cohort_id\"\n",
    "    df = pd.read_sql(query, url)\n",
    "    df.to_csv('logs.csv', index=False)\n"
   ]
  },
  {
   "cell_type": "code",
   "execution_count": 3,
   "id": "8e1dc7bd-74ac-4684-88a6-6f483bec8ac9",
   "metadata": {},
   "outputs": [
    {
     "name": "stdout",
     "output_type": "stream",
     "text": [
      "<class 'pandas.core.frame.DataFrame'>\n",
      "RangeIndex: 900223 entries, 0 to 900222\n",
      "Data columns (total 10 columns):\n",
      " #   Column      Non-Null Count   Dtype  \n",
      "---  ------      --------------   -----  \n",
      " 0   id          847330 non-null  float64\n",
      " 1   name        847330 non-null  object \n",
      " 2   start_date  847330 non-null  object \n",
      " 3   end_date    847330 non-null  object \n",
      " 4   program_id  847330 non-null  float64\n",
      " 5   user_id     900223 non-null  int64  \n",
      " 6   path        900222 non-null  object \n",
      " 7   ip          900223 non-null  object \n",
      " 8   date        900223 non-null  object \n",
      " 9   time        900223 non-null  object \n",
      "dtypes: float64(2), int64(1), object(7)\n",
      "memory usage: 68.7+ MB\n"
     ]
    }
   ],
   "source": [
    "df.info()"
   ]
  },
  {
   "cell_type": "code",
   "execution_count": 4,
   "id": "aa37d2ee-98c6-4549-8dc5-592c319a3f99",
   "metadata": {},
   "outputs": [
    {
     "data": {
      "text/plain": [
       "id            52893\n",
       "name          52893\n",
       "start_date    52893\n",
       "end_date      52893\n",
       "program_id    52893\n",
       "user_id           0\n",
       "path              1\n",
       "ip                0\n",
       "date              0\n",
       "time              0\n",
       "dtype: int64"
      ]
     },
     "execution_count": 4,
     "metadata": {},
     "output_type": "execute_result"
    }
   ],
   "source": [
    "df.isna().sum()"
   ]
  },
  {
   "cell_type": "code",
   "execution_count": 5,
   "id": "1d948519-6582-4a5e-a7c4-103105222926",
   "metadata": {},
   "outputs": [
    {
     "data": {
      "text/html": [
       "<div>\n",
       "<style scoped>\n",
       "    .dataframe tbody tr th:only-of-type {\n",
       "        vertical-align: middle;\n",
       "    }\n",
       "\n",
       "    .dataframe tbody tr th {\n",
       "        vertical-align: top;\n",
       "    }\n",
       "\n",
       "    .dataframe thead th {\n",
       "        text-align: right;\n",
       "    }\n",
       "</style>\n",
       "<table border=\"1\" class=\"dataframe\">\n",
       "  <thead>\n",
       "    <tr style=\"text-align: right;\">\n",
       "      <th></th>\n",
       "      <th>id</th>\n",
       "      <th>name</th>\n",
       "      <th>start_date</th>\n",
       "      <th>end_date</th>\n",
       "      <th>program_id</th>\n",
       "      <th>user_id</th>\n",
       "      <th>path</th>\n",
       "      <th>ip</th>\n",
       "      <th>date</th>\n",
       "      <th>time</th>\n",
       "    </tr>\n",
       "  </thead>\n",
       "  <tbody>\n",
       "    <tr>\n",
       "      <th>0</th>\n",
       "      <td>8.0</td>\n",
       "      <td>Hampton</td>\n",
       "      <td>2015-09-22</td>\n",
       "      <td>2016-02-06</td>\n",
       "      <td>1.0</td>\n",
       "      <td>1</td>\n",
       "      <td>/</td>\n",
       "      <td>97.105.19.61</td>\n",
       "      <td>2018-01-26</td>\n",
       "      <td>09:55:03</td>\n",
       "    </tr>\n",
       "    <tr>\n",
       "      <th>1</th>\n",
       "      <td>8.0</td>\n",
       "      <td>Hampton</td>\n",
       "      <td>2015-09-22</td>\n",
       "      <td>2016-02-06</td>\n",
       "      <td>1.0</td>\n",
       "      <td>1</td>\n",
       "      <td>java-ii</td>\n",
       "      <td>97.105.19.61</td>\n",
       "      <td>2018-01-26</td>\n",
       "      <td>09:56:02</td>\n",
       "    </tr>\n",
       "    <tr>\n",
       "      <th>2</th>\n",
       "      <td>8.0</td>\n",
       "      <td>Hampton</td>\n",
       "      <td>2015-09-22</td>\n",
       "      <td>2016-02-06</td>\n",
       "      <td>1.0</td>\n",
       "      <td>1</td>\n",
       "      <td>java-ii/object-oriented-programming</td>\n",
       "      <td>97.105.19.61</td>\n",
       "      <td>2018-01-26</td>\n",
       "      <td>09:56:05</td>\n",
       "    </tr>\n",
       "    <tr>\n",
       "      <th>3</th>\n",
       "      <td>8.0</td>\n",
       "      <td>Hampton</td>\n",
       "      <td>2015-09-22</td>\n",
       "      <td>2016-02-06</td>\n",
       "      <td>1.0</td>\n",
       "      <td>1</td>\n",
       "      <td>slides/object_oriented_programming</td>\n",
       "      <td>97.105.19.61</td>\n",
       "      <td>2018-01-26</td>\n",
       "      <td>09:56:06</td>\n",
       "    </tr>\n",
       "    <tr>\n",
       "      <th>4</th>\n",
       "      <td>22.0</td>\n",
       "      <td>Teddy</td>\n",
       "      <td>2018-01-08</td>\n",
       "      <td>2018-05-17</td>\n",
       "      <td>2.0</td>\n",
       "      <td>2</td>\n",
       "      <td>javascript-i/conditionals</td>\n",
       "      <td>97.105.19.61</td>\n",
       "      <td>2018-01-26</td>\n",
       "      <td>09:56:24</td>\n",
       "    </tr>\n",
       "  </tbody>\n",
       "</table>\n",
       "</div>"
      ],
      "text/plain": [
       "     id     name  start_date    end_date  program_id  user_id  \\\n",
       "0   8.0  Hampton  2015-09-22  2016-02-06         1.0        1   \n",
       "1   8.0  Hampton  2015-09-22  2016-02-06         1.0        1   \n",
       "2   8.0  Hampton  2015-09-22  2016-02-06         1.0        1   \n",
       "3   8.0  Hampton  2015-09-22  2016-02-06         1.0        1   \n",
       "4  22.0    Teddy  2018-01-08  2018-05-17         2.0        2   \n",
       "\n",
       "                                  path            ip        date      time  \n",
       "0                                    /  97.105.19.61  2018-01-26  09:55:03  \n",
       "1                              java-ii  97.105.19.61  2018-01-26  09:56:02  \n",
       "2  java-ii/object-oriented-programming  97.105.19.61  2018-01-26  09:56:05  \n",
       "3   slides/object_oriented_programming  97.105.19.61  2018-01-26  09:56:06  \n",
       "4            javascript-i/conditionals  97.105.19.61  2018-01-26  09:56:24  "
      ]
     },
     "execution_count": 5,
     "metadata": {},
     "output_type": "execute_result"
    }
   ],
   "source": [
    "df.head()"
   ]
  },
  {
   "cell_type": "code",
   "execution_count": 6,
   "id": "071d2f35-a247-4720-a355-9a35480a7462",
   "metadata": {},
   "outputs": [],
   "source": [
    "df['date_time'] = df.date + ' ' + df.time"
   ]
  },
  {
   "cell_type": "code",
   "execution_count": 7,
   "id": "36bdf893-1045-4e6f-83dc-67a96eb526c4",
   "metadata": {
    "tags": []
   },
   "outputs": [],
   "source": [
    "df.date_time = pd.to_datetime(df.date_time)"
   ]
  },
  {
   "cell_type": "code",
   "execution_count": 8,
   "id": "e2436018-05bf-4acd-96bc-e619825b3d93",
   "metadata": {},
   "outputs": [
    {
     "data": {
      "text/html": [
       "<div>\n",
       "<style scoped>\n",
       "    .dataframe tbody tr th:only-of-type {\n",
       "        vertical-align: middle;\n",
       "    }\n",
       "\n",
       "    .dataframe tbody tr th {\n",
       "        vertical-align: top;\n",
       "    }\n",
       "\n",
       "    .dataframe thead th {\n",
       "        text-align: right;\n",
       "    }\n",
       "</style>\n",
       "<table border=\"1\" class=\"dataframe\">\n",
       "  <thead>\n",
       "    <tr style=\"text-align: right;\">\n",
       "      <th></th>\n",
       "      <th>id</th>\n",
       "      <th>name</th>\n",
       "      <th>start_date</th>\n",
       "      <th>end_date</th>\n",
       "      <th>program_id</th>\n",
       "      <th>user_id</th>\n",
       "      <th>path</th>\n",
       "      <th>ip</th>\n",
       "      <th>date</th>\n",
       "      <th>time</th>\n",
       "      <th>date_time</th>\n",
       "    </tr>\n",
       "  </thead>\n",
       "  <tbody>\n",
       "    <tr>\n",
       "      <th>0</th>\n",
       "      <td>8.0</td>\n",
       "      <td>Hampton</td>\n",
       "      <td>2015-09-22</td>\n",
       "      <td>2016-02-06</td>\n",
       "      <td>1.0</td>\n",
       "      <td>1</td>\n",
       "      <td>/</td>\n",
       "      <td>97.105.19.61</td>\n",
       "      <td>2018-01-26</td>\n",
       "      <td>09:55:03</td>\n",
       "      <td>2018-01-26 09:55:03</td>\n",
       "    </tr>\n",
       "    <tr>\n",
       "      <th>1</th>\n",
       "      <td>8.0</td>\n",
       "      <td>Hampton</td>\n",
       "      <td>2015-09-22</td>\n",
       "      <td>2016-02-06</td>\n",
       "      <td>1.0</td>\n",
       "      <td>1</td>\n",
       "      <td>java-ii</td>\n",
       "      <td>97.105.19.61</td>\n",
       "      <td>2018-01-26</td>\n",
       "      <td>09:56:02</td>\n",
       "      <td>2018-01-26 09:56:02</td>\n",
       "    </tr>\n",
       "    <tr>\n",
       "      <th>2</th>\n",
       "      <td>8.0</td>\n",
       "      <td>Hampton</td>\n",
       "      <td>2015-09-22</td>\n",
       "      <td>2016-02-06</td>\n",
       "      <td>1.0</td>\n",
       "      <td>1</td>\n",
       "      <td>java-ii/object-oriented-programming</td>\n",
       "      <td>97.105.19.61</td>\n",
       "      <td>2018-01-26</td>\n",
       "      <td>09:56:05</td>\n",
       "      <td>2018-01-26 09:56:05</td>\n",
       "    </tr>\n",
       "    <tr>\n",
       "      <th>3</th>\n",
       "      <td>8.0</td>\n",
       "      <td>Hampton</td>\n",
       "      <td>2015-09-22</td>\n",
       "      <td>2016-02-06</td>\n",
       "      <td>1.0</td>\n",
       "      <td>1</td>\n",
       "      <td>slides/object_oriented_programming</td>\n",
       "      <td>97.105.19.61</td>\n",
       "      <td>2018-01-26</td>\n",
       "      <td>09:56:06</td>\n",
       "      <td>2018-01-26 09:56:06</td>\n",
       "    </tr>\n",
       "    <tr>\n",
       "      <th>4</th>\n",
       "      <td>22.0</td>\n",
       "      <td>Teddy</td>\n",
       "      <td>2018-01-08</td>\n",
       "      <td>2018-05-17</td>\n",
       "      <td>2.0</td>\n",
       "      <td>2</td>\n",
       "      <td>javascript-i/conditionals</td>\n",
       "      <td>97.105.19.61</td>\n",
       "      <td>2018-01-26</td>\n",
       "      <td>09:56:24</td>\n",
       "      <td>2018-01-26 09:56:24</td>\n",
       "    </tr>\n",
       "  </tbody>\n",
       "</table>\n",
       "</div>"
      ],
      "text/plain": [
       "     id     name  start_date    end_date  program_id  user_id  \\\n",
       "0   8.0  Hampton  2015-09-22  2016-02-06         1.0        1   \n",
       "1   8.0  Hampton  2015-09-22  2016-02-06         1.0        1   \n",
       "2   8.0  Hampton  2015-09-22  2016-02-06         1.0        1   \n",
       "3   8.0  Hampton  2015-09-22  2016-02-06         1.0        1   \n",
       "4  22.0    Teddy  2018-01-08  2018-05-17         2.0        2   \n",
       "\n",
       "                                  path            ip        date      time  \\\n",
       "0                                    /  97.105.19.61  2018-01-26  09:55:03   \n",
       "1                              java-ii  97.105.19.61  2018-01-26  09:56:02   \n",
       "2  java-ii/object-oriented-programming  97.105.19.61  2018-01-26  09:56:05   \n",
       "3   slides/object_oriented_programming  97.105.19.61  2018-01-26  09:56:06   \n",
       "4            javascript-i/conditionals  97.105.19.61  2018-01-26  09:56:24   \n",
       "\n",
       "            date_time  \n",
       "0 2018-01-26 09:55:03  \n",
       "1 2018-01-26 09:56:02  \n",
       "2 2018-01-26 09:56:05  \n",
       "3 2018-01-26 09:56:06  \n",
       "4 2018-01-26 09:56:24  "
      ]
     },
     "execution_count": 8,
     "metadata": {},
     "output_type": "execute_result"
    }
   ],
   "source": [
    "df.head()"
   ]
  },
  {
   "cell_type": "code",
   "execution_count": 9,
   "id": "2303409a-397b-4c6a-81bc-2154bb5287d5",
   "metadata": {},
   "outputs": [
    {
     "name": "stdout",
     "output_type": "stream",
     "text": [
      "<class 'pandas.core.frame.DataFrame'>\n",
      "RangeIndex: 900223 entries, 0 to 900222\n",
      "Data columns (total 11 columns):\n",
      " #   Column      Non-Null Count   Dtype         \n",
      "---  ------      --------------   -----         \n",
      " 0   id          847330 non-null  float64       \n",
      " 1   name        847330 non-null  object        \n",
      " 2   start_date  847330 non-null  object        \n",
      " 3   end_date    847330 non-null  object        \n",
      " 4   program_id  847330 non-null  float64       \n",
      " 5   user_id     900223 non-null  int64         \n",
      " 6   path        900222 non-null  object        \n",
      " 7   ip          900223 non-null  object        \n",
      " 8   date        900223 non-null  object        \n",
      " 9   time        900223 non-null  object        \n",
      " 10  date_time   900223 non-null  datetime64[ns]\n",
      "dtypes: datetime64[ns](1), float64(2), int64(1), object(7)\n",
      "memory usage: 75.5+ MB\n"
     ]
    }
   ],
   "source": [
    "df.info()"
   ]
  },
  {
   "cell_type": "code",
   "execution_count": 10,
   "id": "3007484b-af3b-4cff-9f43-b946fb20f176",
   "metadata": {
    "tags": []
   },
   "outputs": [],
   "source": [
    "df.set_index(df.date_time, inplace=True)"
   ]
  },
  {
   "cell_type": "code",
   "execution_count": 11,
   "id": "1e1096c1-2a79-448e-9e61-cd9b87f1d042",
   "metadata": {},
   "outputs": [
    {
     "data": {
      "text/html": [
       "<div>\n",
       "<style scoped>\n",
       "    .dataframe tbody tr th:only-of-type {\n",
       "        vertical-align: middle;\n",
       "    }\n",
       "\n",
       "    .dataframe tbody tr th {\n",
       "        vertical-align: top;\n",
       "    }\n",
       "\n",
       "    .dataframe thead th {\n",
       "        text-align: right;\n",
       "    }\n",
       "</style>\n",
       "<table border=\"1\" class=\"dataframe\">\n",
       "  <thead>\n",
       "    <tr style=\"text-align: right;\">\n",
       "      <th></th>\n",
       "      <th>id</th>\n",
       "      <th>name</th>\n",
       "      <th>start_date</th>\n",
       "      <th>end_date</th>\n",
       "      <th>program_id</th>\n",
       "      <th>user_id</th>\n",
       "      <th>path</th>\n",
       "      <th>ip</th>\n",
       "      <th>date</th>\n",
       "    </tr>\n",
       "    <tr>\n",
       "      <th>date_time</th>\n",
       "      <th></th>\n",
       "      <th></th>\n",
       "      <th></th>\n",
       "      <th></th>\n",
       "      <th></th>\n",
       "      <th></th>\n",
       "      <th></th>\n",
       "      <th></th>\n",
       "      <th></th>\n",
       "    </tr>\n",
       "  </thead>\n",
       "  <tbody>\n",
       "    <tr>\n",
       "      <th>2018-01-26 09:55:03</th>\n",
       "      <td>8.0</td>\n",
       "      <td>Hampton</td>\n",
       "      <td>2015-09-22</td>\n",
       "      <td>2016-02-06</td>\n",
       "      <td>1.0</td>\n",
       "      <td>1</td>\n",
       "      <td>/</td>\n",
       "      <td>97.105.19.61</td>\n",
       "      <td>2018-01-26</td>\n",
       "    </tr>\n",
       "    <tr>\n",
       "      <th>2018-01-26 09:56:02</th>\n",
       "      <td>8.0</td>\n",
       "      <td>Hampton</td>\n",
       "      <td>2015-09-22</td>\n",
       "      <td>2016-02-06</td>\n",
       "      <td>1.0</td>\n",
       "      <td>1</td>\n",
       "      <td>java-ii</td>\n",
       "      <td>97.105.19.61</td>\n",
       "      <td>2018-01-26</td>\n",
       "    </tr>\n",
       "    <tr>\n",
       "      <th>2018-01-26 09:56:05</th>\n",
       "      <td>8.0</td>\n",
       "      <td>Hampton</td>\n",
       "      <td>2015-09-22</td>\n",
       "      <td>2016-02-06</td>\n",
       "      <td>1.0</td>\n",
       "      <td>1</td>\n",
       "      <td>java-ii/object-oriented-programming</td>\n",
       "      <td>97.105.19.61</td>\n",
       "      <td>2018-01-26</td>\n",
       "    </tr>\n",
       "    <tr>\n",
       "      <th>2018-01-26 09:56:06</th>\n",
       "      <td>8.0</td>\n",
       "      <td>Hampton</td>\n",
       "      <td>2015-09-22</td>\n",
       "      <td>2016-02-06</td>\n",
       "      <td>1.0</td>\n",
       "      <td>1</td>\n",
       "      <td>slides/object_oriented_programming</td>\n",
       "      <td>97.105.19.61</td>\n",
       "      <td>2018-01-26</td>\n",
       "    </tr>\n",
       "    <tr>\n",
       "      <th>2018-01-26 09:56:24</th>\n",
       "      <td>22.0</td>\n",
       "      <td>Teddy</td>\n",
       "      <td>2018-01-08</td>\n",
       "      <td>2018-05-17</td>\n",
       "      <td>2.0</td>\n",
       "      <td>2</td>\n",
       "      <td>javascript-i/conditionals</td>\n",
       "      <td>97.105.19.61</td>\n",
       "      <td>2018-01-26</td>\n",
       "    </tr>\n",
       "    <tr>\n",
       "      <th>...</th>\n",
       "      <td>...</td>\n",
       "      <td>...</td>\n",
       "      <td>...</td>\n",
       "      <td>...</td>\n",
       "      <td>...</td>\n",
       "      <td>...</td>\n",
       "      <td>...</td>\n",
       "      <td>...</td>\n",
       "      <td>...</td>\n",
       "    </tr>\n",
       "    <tr>\n",
       "      <th>2021-04-21 16:41:51</th>\n",
       "      <td>28.0</td>\n",
       "      <td>Staff</td>\n",
       "      <td>2014-02-04</td>\n",
       "      <td>2014-02-04</td>\n",
       "      <td>2.0</td>\n",
       "      <td>64</td>\n",
       "      <td>jquery/personal-site</td>\n",
       "      <td>71.150.217.33</td>\n",
       "      <td>2021-04-21</td>\n",
       "    </tr>\n",
       "    <tr>\n",
       "      <th>2021-04-21 16:42:02</th>\n",
       "      <td>28.0</td>\n",
       "      <td>Staff</td>\n",
       "      <td>2014-02-04</td>\n",
       "      <td>2014-02-04</td>\n",
       "      <td>2.0</td>\n",
       "      <td>64</td>\n",
       "      <td>jquery/mapbox-api</td>\n",
       "      <td>71.150.217.33</td>\n",
       "      <td>2021-04-21</td>\n",
       "    </tr>\n",
       "    <tr>\n",
       "      <th>2021-04-21 16:42:09</th>\n",
       "      <td>28.0</td>\n",
       "      <td>Staff</td>\n",
       "      <td>2014-02-04</td>\n",
       "      <td>2014-02-04</td>\n",
       "      <td>2.0</td>\n",
       "      <td>64</td>\n",
       "      <td>jquery/ajax/weather-map</td>\n",
       "      <td>71.150.217.33</td>\n",
       "      <td>2021-04-21</td>\n",
       "    </tr>\n",
       "    <tr>\n",
       "      <th>2021-04-21 16:44:37</th>\n",
       "      <td>28.0</td>\n",
       "      <td>Staff</td>\n",
       "      <td>2014-02-04</td>\n",
       "      <td>2014-02-04</td>\n",
       "      <td>2.0</td>\n",
       "      <td>744</td>\n",
       "      <td>anomaly-detection/discrete-probabilistic-methods</td>\n",
       "      <td>24.160.137.86</td>\n",
       "      <td>2021-04-21</td>\n",
       "    </tr>\n",
       "    <tr>\n",
       "      <th>2021-04-21 16:44:39</th>\n",
       "      <td>28.0</td>\n",
       "      <td>Staff</td>\n",
       "      <td>2014-02-04</td>\n",
       "      <td>2014-02-04</td>\n",
       "      <td>2.0</td>\n",
       "      <td>64</td>\n",
       "      <td>jquery/mapbox-api</td>\n",
       "      <td>71.150.217.33</td>\n",
       "      <td>2021-04-21</td>\n",
       "    </tr>\n",
       "  </tbody>\n",
       "</table>\n",
       "<p>900223 rows × 9 columns</p>\n",
       "</div>"
      ],
      "text/plain": [
       "                       id     name  start_date    end_date  program_id  \\\n",
       "date_time                                                                \n",
       "2018-01-26 09:55:03   8.0  Hampton  2015-09-22  2016-02-06         1.0   \n",
       "2018-01-26 09:56:02   8.0  Hampton  2015-09-22  2016-02-06         1.0   \n",
       "2018-01-26 09:56:05   8.0  Hampton  2015-09-22  2016-02-06         1.0   \n",
       "2018-01-26 09:56:06   8.0  Hampton  2015-09-22  2016-02-06         1.0   \n",
       "2018-01-26 09:56:24  22.0    Teddy  2018-01-08  2018-05-17         2.0   \n",
       "...                   ...      ...         ...         ...         ...   \n",
       "2021-04-21 16:41:51  28.0    Staff  2014-02-04  2014-02-04         2.0   \n",
       "2021-04-21 16:42:02  28.0    Staff  2014-02-04  2014-02-04         2.0   \n",
       "2021-04-21 16:42:09  28.0    Staff  2014-02-04  2014-02-04         2.0   \n",
       "2021-04-21 16:44:37  28.0    Staff  2014-02-04  2014-02-04         2.0   \n",
       "2021-04-21 16:44:39  28.0    Staff  2014-02-04  2014-02-04         2.0   \n",
       "\n",
       "                     user_id  \\\n",
       "date_time                      \n",
       "2018-01-26 09:55:03        1   \n",
       "2018-01-26 09:56:02        1   \n",
       "2018-01-26 09:56:05        1   \n",
       "2018-01-26 09:56:06        1   \n",
       "2018-01-26 09:56:24        2   \n",
       "...                      ...   \n",
       "2021-04-21 16:41:51       64   \n",
       "2021-04-21 16:42:02       64   \n",
       "2021-04-21 16:42:09       64   \n",
       "2021-04-21 16:44:37      744   \n",
       "2021-04-21 16:44:39       64   \n",
       "\n",
       "                                                                 path  \\\n",
       "date_time                                                               \n",
       "2018-01-26 09:55:03                                                 /   \n",
       "2018-01-26 09:56:02                                           java-ii   \n",
       "2018-01-26 09:56:05               java-ii/object-oriented-programming   \n",
       "2018-01-26 09:56:06                slides/object_oriented_programming   \n",
       "2018-01-26 09:56:24                         javascript-i/conditionals   \n",
       "...                                                               ...   \n",
       "2021-04-21 16:41:51                              jquery/personal-site   \n",
       "2021-04-21 16:42:02                                 jquery/mapbox-api   \n",
       "2021-04-21 16:42:09                           jquery/ajax/weather-map   \n",
       "2021-04-21 16:44:37  anomaly-detection/discrete-probabilistic-methods   \n",
       "2021-04-21 16:44:39                                 jquery/mapbox-api   \n",
       "\n",
       "                                ip        date  \n",
       "date_time                                       \n",
       "2018-01-26 09:55:03   97.105.19.61  2018-01-26  \n",
       "2018-01-26 09:56:02   97.105.19.61  2018-01-26  \n",
       "2018-01-26 09:56:05   97.105.19.61  2018-01-26  \n",
       "2018-01-26 09:56:06   97.105.19.61  2018-01-26  \n",
       "2018-01-26 09:56:24   97.105.19.61  2018-01-26  \n",
       "...                            ...         ...  \n",
       "2021-04-21 16:41:51  71.150.217.33  2021-04-21  \n",
       "2021-04-21 16:42:02  71.150.217.33  2021-04-21  \n",
       "2021-04-21 16:42:09  71.150.217.33  2021-04-21  \n",
       "2021-04-21 16:44:37  24.160.137.86  2021-04-21  \n",
       "2021-04-21 16:44:39  71.150.217.33  2021-04-21  \n",
       "\n",
       "[900223 rows x 9 columns]"
      ]
     },
     "execution_count": 11,
     "metadata": {},
     "output_type": "execute_result"
    }
   ],
   "source": [
    "df.drop(columns=['time', 'date_time'])"
   ]
  },
  {
   "cell_type": "code",
   "execution_count": 12,
   "id": "5b27aa34-7e57-441e-aca4-11a6e537651a",
   "metadata": {},
   "outputs": [],
   "source": [
    "df.loc[df['name'] == 'Staff', 'program_id'] = 5"
   ]
  },
  {
   "cell_type": "code",
   "execution_count": 13,
   "id": "37743f7a-a74f-4ea6-9e72-8aa68896056d",
   "metadata": {},
   "outputs": [
    {
     "data": {
      "text/html": [
       "<div>\n",
       "<style scoped>\n",
       "    .dataframe tbody tr th:only-of-type {\n",
       "        vertical-align: middle;\n",
       "    }\n",
       "\n",
       "    .dataframe tbody tr th {\n",
       "        vertical-align: top;\n",
       "    }\n",
       "\n",
       "    .dataframe thead th {\n",
       "        text-align: right;\n",
       "    }\n",
       "</style>\n",
       "<table border=\"1\" class=\"dataframe\">\n",
       "  <thead>\n",
       "    <tr style=\"text-align: right;\">\n",
       "      <th></th>\n",
       "      <th>id</th>\n",
       "      <th>name</th>\n",
       "      <th>start_date</th>\n",
       "      <th>end_date</th>\n",
       "      <th>program_id</th>\n",
       "      <th>user_id</th>\n",
       "      <th>path</th>\n",
       "      <th>ip</th>\n",
       "      <th>date</th>\n",
       "      <th>time</th>\n",
       "      <th>date_time</th>\n",
       "    </tr>\n",
       "    <tr>\n",
       "      <th>date_time</th>\n",
       "      <th></th>\n",
       "      <th></th>\n",
       "      <th></th>\n",
       "      <th></th>\n",
       "      <th></th>\n",
       "      <th></th>\n",
       "      <th></th>\n",
       "      <th></th>\n",
       "      <th></th>\n",
       "      <th></th>\n",
       "      <th></th>\n",
       "    </tr>\n",
       "  </thead>\n",
       "  <tbody>\n",
       "    <tr>\n",
       "      <th>2018-12-06 14:15:29</th>\n",
       "      <td>28.0</td>\n",
       "      <td>Staff</td>\n",
       "      <td>2014-02-04</td>\n",
       "      <td>2014-02-04</td>\n",
       "      <td>5.0</td>\n",
       "      <td>53</td>\n",
       "      <td>appendix/further-reading/java/intellij-tomcat-...</td>\n",
       "      <td>97.105.19.58</td>\n",
       "      <td>2018-12-06</td>\n",
       "      <td>14:15:29</td>\n",
       "      <td>2018-12-06 14:15:29</td>\n",
       "    </tr>\n",
       "    <tr>\n",
       "      <th>2018-12-06 14:25:40</th>\n",
       "      <td>28.0</td>\n",
       "      <td>Staff</td>\n",
       "      <td>2014-02-04</td>\n",
       "      <td>2014-02-04</td>\n",
       "      <td>5.0</td>\n",
       "      <td>314</td>\n",
       "      <td>javascript-i</td>\n",
       "      <td>97.105.19.58</td>\n",
       "      <td>2018-12-06</td>\n",
       "      <td>14:25:40</td>\n",
       "      <td>2018-12-06 14:25:40</td>\n",
       "    </tr>\n",
       "    <tr>\n",
       "      <th>2018-12-06 14:25:41</th>\n",
       "      <td>28.0</td>\n",
       "      <td>Staff</td>\n",
       "      <td>2014-02-04</td>\n",
       "      <td>2014-02-04</td>\n",
       "      <td>5.0</td>\n",
       "      <td>314</td>\n",
       "      <td>javascript-i/coffee-project</td>\n",
       "      <td>97.105.19.58</td>\n",
       "      <td>2018-12-06</td>\n",
       "      <td>14:25:41</td>\n",
       "      <td>2018-12-06 14:25:41</td>\n",
       "    </tr>\n",
       "    <tr>\n",
       "      <th>2018-12-06 15:31:29</th>\n",
       "      <td>28.0</td>\n",
       "      <td>Staff</td>\n",
       "      <td>2014-02-04</td>\n",
       "      <td>2014-02-04</td>\n",
       "      <td>5.0</td>\n",
       "      <td>40</td>\n",
       "      <td>spring</td>\n",
       "      <td>170.248.173.247</td>\n",
       "      <td>2018-12-06</td>\n",
       "      <td>15:31:29</td>\n",
       "      <td>2018-12-06 15:31:29</td>\n",
       "    </tr>\n",
       "    <tr>\n",
       "      <th>2018-12-06 15:31:33</th>\n",
       "      <td>28.0</td>\n",
       "      <td>Staff</td>\n",
       "      <td>2014-02-04</td>\n",
       "      <td>2014-02-04</td>\n",
       "      <td>5.0</td>\n",
       "      <td>40</td>\n",
       "      <td>spring/fundamentals/security</td>\n",
       "      <td>170.248.173.247</td>\n",
       "      <td>2018-12-06</td>\n",
       "      <td>15:31:33</td>\n",
       "      <td>2018-12-06 15:31:33</td>\n",
       "    </tr>\n",
       "    <tr>\n",
       "      <th>...</th>\n",
       "      <td>...</td>\n",
       "      <td>...</td>\n",
       "      <td>...</td>\n",
       "      <td>...</td>\n",
       "      <td>...</td>\n",
       "      <td>...</td>\n",
       "      <td>...</td>\n",
       "      <td>...</td>\n",
       "      <td>...</td>\n",
       "      <td>...</td>\n",
       "      <td>...</td>\n",
       "    </tr>\n",
       "    <tr>\n",
       "      <th>2021-04-21 16:41:51</th>\n",
       "      <td>28.0</td>\n",
       "      <td>Staff</td>\n",
       "      <td>2014-02-04</td>\n",
       "      <td>2014-02-04</td>\n",
       "      <td>5.0</td>\n",
       "      <td>64</td>\n",
       "      <td>jquery/personal-site</td>\n",
       "      <td>71.150.217.33</td>\n",
       "      <td>2021-04-21</td>\n",
       "      <td>16:41:51</td>\n",
       "      <td>2021-04-21 16:41:51</td>\n",
       "    </tr>\n",
       "    <tr>\n",
       "      <th>2021-04-21 16:42:02</th>\n",
       "      <td>28.0</td>\n",
       "      <td>Staff</td>\n",
       "      <td>2014-02-04</td>\n",
       "      <td>2014-02-04</td>\n",
       "      <td>5.0</td>\n",
       "      <td>64</td>\n",
       "      <td>jquery/mapbox-api</td>\n",
       "      <td>71.150.217.33</td>\n",
       "      <td>2021-04-21</td>\n",
       "      <td>16:42:02</td>\n",
       "      <td>2021-04-21 16:42:02</td>\n",
       "    </tr>\n",
       "    <tr>\n",
       "      <th>2021-04-21 16:42:09</th>\n",
       "      <td>28.0</td>\n",
       "      <td>Staff</td>\n",
       "      <td>2014-02-04</td>\n",
       "      <td>2014-02-04</td>\n",
       "      <td>5.0</td>\n",
       "      <td>64</td>\n",
       "      <td>jquery/ajax/weather-map</td>\n",
       "      <td>71.150.217.33</td>\n",
       "      <td>2021-04-21</td>\n",
       "      <td>16:42:09</td>\n",
       "      <td>2021-04-21 16:42:09</td>\n",
       "    </tr>\n",
       "    <tr>\n",
       "      <th>2021-04-21 16:44:37</th>\n",
       "      <td>28.0</td>\n",
       "      <td>Staff</td>\n",
       "      <td>2014-02-04</td>\n",
       "      <td>2014-02-04</td>\n",
       "      <td>5.0</td>\n",
       "      <td>744</td>\n",
       "      <td>anomaly-detection/discrete-probabilistic-methods</td>\n",
       "      <td>24.160.137.86</td>\n",
       "      <td>2021-04-21</td>\n",
       "      <td>16:44:37</td>\n",
       "      <td>2021-04-21 16:44:37</td>\n",
       "    </tr>\n",
       "    <tr>\n",
       "      <th>2021-04-21 16:44:39</th>\n",
       "      <td>28.0</td>\n",
       "      <td>Staff</td>\n",
       "      <td>2014-02-04</td>\n",
       "      <td>2014-02-04</td>\n",
       "      <td>5.0</td>\n",
       "      <td>64</td>\n",
       "      <td>jquery/mapbox-api</td>\n",
       "      <td>71.150.217.33</td>\n",
       "      <td>2021-04-21</td>\n",
       "      <td>16:44:39</td>\n",
       "      <td>2021-04-21 16:44:39</td>\n",
       "    </tr>\n",
       "  </tbody>\n",
       "</table>\n",
       "<p>84031 rows × 11 columns</p>\n",
       "</div>"
      ],
      "text/plain": [
       "                       id   name  start_date    end_date  program_id  user_id  \\\n",
       "date_time                                                                       \n",
       "2018-12-06 14:15:29  28.0  Staff  2014-02-04  2014-02-04         5.0       53   \n",
       "2018-12-06 14:25:40  28.0  Staff  2014-02-04  2014-02-04         5.0      314   \n",
       "2018-12-06 14:25:41  28.0  Staff  2014-02-04  2014-02-04         5.0      314   \n",
       "2018-12-06 15:31:29  28.0  Staff  2014-02-04  2014-02-04         5.0       40   \n",
       "2018-12-06 15:31:33  28.0  Staff  2014-02-04  2014-02-04         5.0       40   \n",
       "...                   ...    ...         ...         ...         ...      ...   \n",
       "2021-04-21 16:41:51  28.0  Staff  2014-02-04  2014-02-04         5.0       64   \n",
       "2021-04-21 16:42:02  28.0  Staff  2014-02-04  2014-02-04         5.0       64   \n",
       "2021-04-21 16:42:09  28.0  Staff  2014-02-04  2014-02-04         5.0       64   \n",
       "2021-04-21 16:44:37  28.0  Staff  2014-02-04  2014-02-04         5.0      744   \n",
       "2021-04-21 16:44:39  28.0  Staff  2014-02-04  2014-02-04         5.0       64   \n",
       "\n",
       "                                                                  path  \\\n",
       "date_time                                                                \n",
       "2018-12-06 14:15:29  appendix/further-reading/java/intellij-tomcat-...   \n",
       "2018-12-06 14:25:40                                       javascript-i   \n",
       "2018-12-06 14:25:41                        javascript-i/coffee-project   \n",
       "2018-12-06 15:31:29                                             spring   \n",
       "2018-12-06 15:31:33                       spring/fundamentals/security   \n",
       "...                                                                ...   \n",
       "2021-04-21 16:41:51                               jquery/personal-site   \n",
       "2021-04-21 16:42:02                                  jquery/mapbox-api   \n",
       "2021-04-21 16:42:09                            jquery/ajax/weather-map   \n",
       "2021-04-21 16:44:37   anomaly-detection/discrete-probabilistic-methods   \n",
       "2021-04-21 16:44:39                                  jquery/mapbox-api   \n",
       "\n",
       "                                  ip        date      time           date_time  \n",
       "date_time                                                                       \n",
       "2018-12-06 14:15:29     97.105.19.58  2018-12-06  14:15:29 2018-12-06 14:15:29  \n",
       "2018-12-06 14:25:40     97.105.19.58  2018-12-06  14:25:40 2018-12-06 14:25:40  \n",
       "2018-12-06 14:25:41     97.105.19.58  2018-12-06  14:25:41 2018-12-06 14:25:41  \n",
       "2018-12-06 15:31:29  170.248.173.247  2018-12-06  15:31:29 2018-12-06 15:31:29  \n",
       "2018-12-06 15:31:33  170.248.173.247  2018-12-06  15:31:33 2018-12-06 15:31:33  \n",
       "...                              ...         ...       ...                 ...  \n",
       "2021-04-21 16:41:51    71.150.217.33  2021-04-21  16:41:51 2021-04-21 16:41:51  \n",
       "2021-04-21 16:42:02    71.150.217.33  2021-04-21  16:42:02 2021-04-21 16:42:02  \n",
       "2021-04-21 16:42:09    71.150.217.33  2021-04-21  16:42:09 2021-04-21 16:42:09  \n",
       "2021-04-21 16:44:37    24.160.137.86  2021-04-21  16:44:37 2021-04-21 16:44:37  \n",
       "2021-04-21 16:44:39    71.150.217.33  2021-04-21  16:44:39 2021-04-21 16:44:39  \n",
       "\n",
       "[84031 rows x 11 columns]"
      ]
     },
     "execution_count": 13,
     "metadata": {},
     "output_type": "execute_result"
    }
   ],
   "source": [
    "df[df.name == \"Staff\"]"
   ]
  },
  {
   "cell_type": "code",
   "execution_count": 14,
   "id": "68df7c9c-600c-4f82-99cf-01a62e137246",
   "metadata": {},
   "outputs": [
    {
     "data": {
      "text/plain": [
       "2.0    629334\n",
       "3.0    103412\n",
       "5.0     84031\n",
       "1.0     30548\n",
       "4.0         5\n",
       "Name: program_id, dtype: int64"
      ]
     },
     "execution_count": 14,
     "metadata": {},
     "output_type": "execute_result"
    }
   ],
   "source": [
    "df.program_id.value_counts()"
   ]
  },
  {
   "cell_type": "code",
   "execution_count": 15,
   "id": "86724c14-b5db-4870-ba52-99106636c1ac",
   "metadata": {},
   "outputs": [
    {
     "data": {
      "text/html": [
       "<div>\n",
       "<style scoped>\n",
       "    .dataframe tbody tr th:only-of-type {\n",
       "        vertical-align: middle;\n",
       "    }\n",
       "\n",
       "    .dataframe tbody tr th {\n",
       "        vertical-align: top;\n",
       "    }\n",
       "\n",
       "    .dataframe thead th {\n",
       "        text-align: right;\n",
       "    }\n",
       "</style>\n",
       "<table border=\"1\" class=\"dataframe\">\n",
       "  <thead>\n",
       "    <tr style=\"text-align: right;\">\n",
       "      <th></th>\n",
       "      <th>id</th>\n",
       "      <th>name</th>\n",
       "      <th>start_date</th>\n",
       "      <th>end_date</th>\n",
       "      <th>program_id</th>\n",
       "      <th>user_id</th>\n",
       "      <th>path</th>\n",
       "      <th>ip</th>\n",
       "      <th>date</th>\n",
       "      <th>time</th>\n",
       "      <th>date_time</th>\n",
       "    </tr>\n",
       "    <tr>\n",
       "      <th>date_time</th>\n",
       "      <th></th>\n",
       "      <th></th>\n",
       "      <th></th>\n",
       "      <th></th>\n",
       "      <th></th>\n",
       "      <th></th>\n",
       "      <th></th>\n",
       "      <th></th>\n",
       "      <th></th>\n",
       "      <th></th>\n",
       "      <th></th>\n",
       "    </tr>\n",
       "  </thead>\n",
       "  <tbody>\n",
       "    <tr>\n",
       "      <th>2018-03-22 19:01:49</th>\n",
       "      <td>9.0</td>\n",
       "      <td>Apollo</td>\n",
       "      <td>2015-03-30</td>\n",
       "      <td>2015-07-29</td>\n",
       "      <td>4.0</td>\n",
       "      <td>152</td>\n",
       "      <td>/</td>\n",
       "      <td>207.68.209.17</td>\n",
       "      <td>2018-03-22</td>\n",
       "      <td>19:01:49</td>\n",
       "      <td>2018-03-22 19:01:49</td>\n",
       "    </tr>\n",
       "    <tr>\n",
       "      <th>2018-03-22 19:01:54</th>\n",
       "      <td>9.0</td>\n",
       "      <td>Apollo</td>\n",
       "      <td>2015-03-30</td>\n",
       "      <td>2015-07-29</td>\n",
       "      <td>4.0</td>\n",
       "      <td>152</td>\n",
       "      <td>content/html-css</td>\n",
       "      <td>207.68.209.17</td>\n",
       "      <td>2018-03-22</td>\n",
       "      <td>19:01:54</td>\n",
       "      <td>2018-03-22 19:01:54</td>\n",
       "    </tr>\n",
       "    <tr>\n",
       "      <th>2018-03-22 19:01:54</th>\n",
       "      <td>9.0</td>\n",
       "      <td>Apollo</td>\n",
       "      <td>2015-03-30</td>\n",
       "      <td>2015-07-29</td>\n",
       "      <td>4.0</td>\n",
       "      <td>152</td>\n",
       "      <td>content/html-css/gitbook/images/favicon.ico</td>\n",
       "      <td>207.68.209.17</td>\n",
       "      <td>2018-03-22</td>\n",
       "      <td>19:01:54</td>\n",
       "      <td>2018-03-22 19:01:54</td>\n",
       "    </tr>\n",
       "    <tr>\n",
       "      <th>2018-03-22 19:02:47</th>\n",
       "      <td>9.0</td>\n",
       "      <td>Apollo</td>\n",
       "      <td>2015-03-30</td>\n",
       "      <td>2015-07-29</td>\n",
       "      <td>4.0</td>\n",
       "      <td>152</td>\n",
       "      <td>content/html-css</td>\n",
       "      <td>207.68.209.17</td>\n",
       "      <td>2018-03-22</td>\n",
       "      <td>19:02:47</td>\n",
       "      <td>2018-03-22 19:02:47</td>\n",
       "    </tr>\n",
       "    <tr>\n",
       "      <th>2018-03-22 19:02:52</th>\n",
       "      <td>9.0</td>\n",
       "      <td>Apollo</td>\n",
       "      <td>2015-03-30</td>\n",
       "      <td>2015-07-29</td>\n",
       "      <td>4.0</td>\n",
       "      <td>152</td>\n",
       "      <td>content/html-css/introduction.html</td>\n",
       "      <td>207.68.209.17</td>\n",
       "      <td>2018-03-22</td>\n",
       "      <td>19:02:52</td>\n",
       "      <td>2018-03-22 19:02:52</td>\n",
       "    </tr>\n",
       "  </tbody>\n",
       "</table>\n",
       "</div>"
      ],
      "text/plain": [
       "                      id    name  start_date    end_date  program_id  user_id  \\\n",
       "date_time                                                                       \n",
       "2018-03-22 19:01:49  9.0  Apollo  2015-03-30  2015-07-29         4.0      152   \n",
       "2018-03-22 19:01:54  9.0  Apollo  2015-03-30  2015-07-29         4.0      152   \n",
       "2018-03-22 19:01:54  9.0  Apollo  2015-03-30  2015-07-29         4.0      152   \n",
       "2018-03-22 19:02:47  9.0  Apollo  2015-03-30  2015-07-29         4.0      152   \n",
       "2018-03-22 19:02:52  9.0  Apollo  2015-03-30  2015-07-29         4.0      152   \n",
       "\n",
       "                                                            path  \\\n",
       "date_time                                                          \n",
       "2018-03-22 19:01:49                                            /   \n",
       "2018-03-22 19:01:54                             content/html-css   \n",
       "2018-03-22 19:01:54  content/html-css/gitbook/images/favicon.ico   \n",
       "2018-03-22 19:02:47                             content/html-css   \n",
       "2018-03-22 19:02:52           content/html-css/introduction.html   \n",
       "\n",
       "                                ip        date      time           date_time  \n",
       "date_time                                                                     \n",
       "2018-03-22 19:01:49  207.68.209.17  2018-03-22  19:01:49 2018-03-22 19:01:49  \n",
       "2018-03-22 19:01:54  207.68.209.17  2018-03-22  19:01:54 2018-03-22 19:01:54  \n",
       "2018-03-22 19:01:54  207.68.209.17  2018-03-22  19:01:54 2018-03-22 19:01:54  \n",
       "2018-03-22 19:02:47  207.68.209.17  2018-03-22  19:02:47 2018-03-22 19:02:47  \n",
       "2018-03-22 19:02:52  207.68.209.17  2018-03-22  19:02:52 2018-03-22 19:02:52  "
      ]
     },
     "execution_count": 15,
     "metadata": {},
     "output_type": "execute_result"
    }
   ],
   "source": [
    "df[df.program_id == 4]"
   ]
  },
  {
   "cell_type": "code",
   "execution_count": 305,
   "id": "4083da24-8385-4776-8be0-af07afcdbc69",
   "metadata": {},
   "outputs": [
    {
     "name": "stderr",
     "output_type": "stream",
     "text": [
      "/var/folders/ng/82m_197x6jd7ysrq5l2vxd280000gn/T/ipykernel_32150/2718205872.py:1: UserWarning: This pattern is interpreted as a regular expression, and has match groups. To actually get the groups, use str.extract.\n",
      "  df[df.program_id == 1].path.str.contains('(javascript|java|html|css|jquery|object_oriented_programming)').value_counts()\n"
     ]
    },
    {
     "data": {
      "text/plain": [
       "True     432648\n",
       "False    227234\n",
       "Name: path, dtype: int64"
      ]
     },
     "execution_count": 305,
     "metadata": {},
     "output_type": "execute_result"
    }
   ],
   "source": [
    "df[df.program_id == 1].path.str.contains('(javascript|java|html|css|jquery|object_oriented_programming)').value_counts()\n"
   ]
  },
  {
   "cell_type": "markdown",
   "id": "c747ba5f-db61-409a-b68a-51602729fd78",
   "metadata": {},
   "source": [
    "- program_id 1 is most likely web_dev based on the amount of times that webdev curriculum courses are accesed"
   ]
  },
  {
   "cell_type": "code",
   "execution_count": 309,
   "id": "147e9d98-b218-4164-867e-d013d0e6882a",
   "metadata": {},
   "outputs": [
    {
     "name": "stderr",
     "output_type": "stream",
     "text": [
      "/var/folders/ng/82m_197x6jd7ysrq5l2vxd280000gn/T/ipykernel_32150/761621176.py:1: UserWarning: This pattern is interpreted as a regular expression, and has match groups. To actually get the groups, use str.extract.\n",
      "  df[df.program_id == 2].path.str.contains('(javascript|java|html|css|jquery|object_oriented_programming)').value_counts()\n"
     ]
    },
    {
     "data": {
      "text/plain": [
       "False    103086\n",
       "True        325\n",
       "Name: path, dtype: int64"
      ]
     },
     "execution_count": 309,
     "metadata": {},
     "output_type": "execute_result"
    }
   ],
   "source": [
    "df[df.program_id == 2].path.str.contains('(javascript|java|html|css|jquery|object_oriented_programming)').value_counts()"
   ]
  },
  {
   "cell_type": "markdown",
   "id": "a051d7f3-bcf6-43b8-804b-4802382606d0",
   "metadata": {},
   "source": [
    "- program_id 2 is most likely web_dev based on the amount of times that webdev curriculum courses are accesed"
   ]
  },
  {
   "cell_type": "code",
   "execution_count": 308,
   "id": "cee76b91-72be-42c0-9f35-a4216b28cf3c",
   "metadata": {},
   "outputs": [
    {
     "name": "stderr",
     "output_type": "stream",
     "text": [
      "/var/folders/ng/82m_197x6jd7ysrq5l2vxd280000gn/T/ipykernel_32150/654221564.py:1: UserWarning: This pattern is interpreted as a regular expression, and has match groups. To actually get the groups, use str.extract.\n",
      "  df[df.program_id == 3].path.str.contains('(javascript|java|html|css|jquery)').value_counts()\n"
     ]
    },
    {
     "data": {
      "text/plain": [
       "False    52290\n",
       "True     31741\n",
       "Name: path, dtype: int64"
      ]
     },
     "execution_count": 308,
     "metadata": {},
     "output_type": "execute_result"
    }
   ],
   "source": [
    "df[df.program_id == 3].path.str.contains('(javascript|java|html|css|jquery)').value_counts()"
   ]
  },
  {
   "cell_type": "code",
   "execution_count": 310,
   "id": "4f825584-c058-4f93-8051-3f6f56eba97b",
   "metadata": {},
   "outputs": [
    {
     "name": "stderr",
     "output_type": "stream",
     "text": [
      "/var/folders/ng/82m_197x6jd7ysrq5l2vxd280000gn/T/ipykernel_32150/154440998.py:1: UserWarning: This pattern is interpreted as a regular expression, and has match groups. To actually get the groups, use str.extract.\n",
      "  df[df.program_id == 4].path.str.contains('(javascript|java|html|css|jquery)').value_counts()\n"
     ]
    },
    {
     "data": {
      "text/plain": [
       "True     4\n",
       "False    1\n",
       "Name: path, dtype: int64"
      ]
     },
     "execution_count": 310,
     "metadata": {},
     "output_type": "execute_result"
    }
   ],
   "source": [
    "df[df.program_id == 4].path.str.contains('(javascript|java|html|css|jquery)').value_counts()"
   ]
  },
  {
   "cell_type": "code",
   "execution_count": 19,
   "id": "c29b428f-7796-4041-b5c2-6419aed33197",
   "metadata": {},
   "outputs": [
    {
     "name": "stderr",
     "output_type": "stream",
     "text": [
      "/var/folders/ng/82m_197x6jd7ysrq5l2vxd280000gn/T/ipykernel_32150/3745163319.py:1: UserWarning: This pattern is interpreted as a regular expression, and has match groups. To actually get the groups, use str.extract.\n",
      "  df[df.program_id == 5].path.str.contains('(javascript|java|html|css|jquery)').value_counts()\n"
     ]
    },
    {
     "data": {
      "text/plain": [
       "False    52290\n",
       "True     31741\n",
       "Name: path, dtype: int64"
      ]
     },
     "execution_count": 19,
     "metadata": {},
     "output_type": "execute_result"
    }
   ],
   "source": [
    "df[df.program_id == 5].path.str.contains('(javascript|java|html|css|jquery)').value_counts()"
   ]
  },
  {
   "cell_type": "markdown",
   "id": "2b5b78e7-057e-4808-a8b7-ff5bc73d344d",
   "metadata": {},
   "source": [
    "- program id 3 is most likely Data scicence based off the lack of webdev courses accesed.  "
   ]
  },
  {
   "cell_type": "code",
   "execution_count": 20,
   "id": "38dd0234-9dc0-4b41-a053-48c8bac68a81",
   "metadata": {},
   "outputs": [],
   "source": [
    "# takes program 1 and 2 and sets both to 1 for WEBDEV\n",
    "df.program_id = np.where((df.program_id == 1) | (df.program_id == 2), 1, df.program_id)"
   ]
  },
  {
   "cell_type": "code",
   "execution_count": 21,
   "id": "736b5698-d918-4773-a330-6d8187ef2bb4",
   "metadata": {},
   "outputs": [],
   "source": [
    "# takes program 3 and changes it to 2 for Data Science\n",
    "df.loc[df.program_id == 3, 'program_id'] = 2"
   ]
  },
  {
   "cell_type": "code",
   "execution_count": 22,
   "id": "a2768509-ae4f-4071-9783-29b18b9857c8",
   "metadata": {},
   "outputs": [],
   "source": [
    "# changes the staff program id to 3\n",
    "df.loc[df['name'] == 'Staff', 'program_id'] = 3"
   ]
  },
  {
   "cell_type": "markdown",
   "id": "8009f55e-3c20-400b-84c5-0dd180df9a7e",
   "metadata": {},
   "source": [
    "- program id 3 is staff \n",
    "- program id 4 is a random early student form 2015 that had accessed the curicculum again after the logs were being recorded "
   ]
  },
  {
   "cell_type": "code",
   "execution_count": 311,
   "id": "e4c0d33a-52a4-40c9-9448-65019def5085",
   "metadata": {},
   "outputs": [
    {
     "data": {
      "text/plain": [
       "1.0    659882\n",
       "2.0    103412\n",
       "3.0     84031\n",
       "0.0     52893\n",
       "4.0         5\n",
       "Name: program_id, dtype: int64"
      ]
     },
     "execution_count": 311,
     "metadata": {},
     "output_type": "execute_result"
    }
   ],
   "source": [
    "df.program_id.value_counts()"
   ]
  },
  {
   "cell_type": "code",
   "execution_count": 24,
   "id": "55f97b45-9b09-4bc9-a28f-5d0c1659b712",
   "metadata": {},
   "outputs": [],
   "source": [
    "conditions = [\n",
    "    df['program_id'] == 1,\n",
    "    df['program_id'] == 2,\n",
    "    df['program_id'] == 3\n",
    "]\n",
    "\n",
    "choices = [\n",
    "    'Web_dev',\n",
    "    'Data Science',\n",
    "    'Staff'\n",
    "]\n",
    "\n",
    "df['program'] = np.select(conditions, choices)\n",
    "    \n",
    "    "
   ]
  },
  {
   "cell_type": "code",
   "execution_count": 73,
   "id": "4e60aac7-4a85-4b57-bb6d-eb30c94be75e",
   "metadata": {},
   "outputs": [],
   "source": [
    "df.rename(columns={'id': 'cohort_id'}, inplace=True)"
   ]
  },
  {
   "cell_type": "code",
   "execution_count": 26,
   "id": "6c06db61-d234-456c-84fd-ce79dc25b082",
   "metadata": {},
   "outputs": [],
   "source": [
    "df.fillna(0, inplace=True)"
   ]
  },
  {
   "cell_type": "code",
   "execution_count": 27,
   "id": "7778ed67-3a70-42fa-ac1f-633e4568cbc4",
   "metadata": {},
   "outputs": [
    {
     "data": {
      "text/plain": [
       "id            0\n",
       "name          0\n",
       "start_date    0\n",
       "end_date      0\n",
       "program_id    0\n",
       "user_id       0\n",
       "path          0\n",
       "ip            0\n",
       "date          0\n",
       "time          0\n",
       "date_time     0\n",
       "program       0\n",
       "dtype: int64"
      ]
     },
     "execution_count": 27,
     "metadata": {},
     "output_type": "execute_result"
    }
   ],
   "source": [
    "df.isna().sum()"
   ]
  },
  {
   "cell_type": "markdown",
   "id": "8aa41772-dbbc-4217-8128-667c9dfc987c",
   "metadata": {},
   "source": [
    "#### Is there any suspicious activity, such as users/machines/etc accessing the curriculum who shouldn’t be? Does it appear that any web-scraping is happening? Are there any suspicious IP addresses?"
   ]
  },
  {
   "cell_type": "code",
   "execution_count": 28,
   "id": "8038f660-e319-44ce-b101-9761ecb8e022",
   "metadata": {},
   "outputs": [
    {
     "data": {
      "text/plain": [
       "5531"
      ]
     },
     "execution_count": 28,
     "metadata": {},
     "output_type": "execute_result"
    }
   ],
   "source": [
    "df.ip.nunique()"
   ]
  },
  {
   "cell_type": "code",
   "execution_count": 29,
   "id": "403f1be4-bb94-4352-bb8e-28f06154e5c9",
   "metadata": {},
   "outputs": [],
   "source": [
    "unique_ip = df['ip'].unique().tolist()"
   ]
  },
  {
   "cell_type": "code",
   "execution_count": 323,
   "id": "12cbb9f4-66b5-45ac-abed-1c82fcd09396",
   "metadata": {},
   "outputs": [
    {
     "data": {
      "text/plain": [
       "5531"
      ]
     },
     "execution_count": 323,
     "metadata": {},
     "output_type": "execute_result"
    }
   ],
   "source": [
    "len(unique_ip)"
   ]
  },
  {
   "cell_type": "code",
   "execution_count": 50,
   "id": "0f56e326-95ed-4568-88c1-e50011a3d0c6",
   "metadata": {},
   "outputs": [
    {
     "name": "stdout",
     "output_type": "stream",
     "text": [
      "The list does not contain duplicates.\n"
     ]
    }
   ],
   "source": [
    "if len(unique_ip) != len(set(unique_ip)):\n",
    "    print(\"The list contains duplicates.\")\n",
    "else:\n",
    "    print(\"The list does not contain duplicates.\")"
   ]
  },
  {
   "cell_type": "code",
   "execution_count": 52,
   "id": "9d303bf5-2333-4330-a8bc-c28190161fce",
   "metadata": {},
   "outputs": [],
   "source": [
    "df['ip_origin_country'] = ''"
   ]
  },
  {
   "cell_type": "code",
   "execution_count": 51,
   "id": "bc7eddb9-32ae-4bb3-b114-f9f0f18ea413",
   "metadata": {},
   "outputs": [
    {
     "name": "stdout",
     "output_type": "stream",
     "text": [
      "The IP address 196.52.2.30 is from a different country (MU).\n",
      "The IP address 196.52.2.70 is from a different country (MU).\n",
      "The IP address 196.52.2.49 is from a different country (MU).\n",
      "The IP address 196.52.2.52 is from a different country (MU).\n",
      "The IP address 187.220.23.224 is from a different country (MX).\n",
      "The IP address 196.52.39.2 is from a different country (MU).\n",
      "The IP address 196.52.39.32 is from a different country (MU).\n",
      "The IP address 189.146.56.56 is from a different country (MX).\n",
      "The IP address 201.103.134.102 is from a different country (MX).\n",
      "The IP address 80.137.93.59 is from a different country (DE).\n",
      "The IP address 189.146.46.149 is from a different country (MX).\n",
      "The IP address 196.52.39.29 is from a different country (MU).\n",
      "The IP address 196.52.39.11 is from a different country (MU).\n",
      "The IP address 104.156.210.199 is from a different country (FR).\n",
      "The IP address 196.52.39.23 is from a different country (MU).\n",
      "The IP address 104.156.210.198 is from a different country (FR).\n",
      "The IP address 165.84.230.4 is from a different country (CA).\n",
      "The IP address 84.14.10.91 is from a different country (FR).\n",
      "The IP address 177.247.132.187 is from a different country (MX).\n"
     ]
    },
    {
     "ename": "InvalidRequestError",
     "evalue": "",
     "output_type": "error",
     "traceback": [
      "\u001b[0;31m---------------------------------------------------------------------------\u001b[0m",
      "\u001b[0;31mInvalidRequestError\u001b[0m                       Traceback (most recent call last)",
      "Input \u001b[0;32mIn [51]\u001b[0m, in \u001b[0;36m<cell line: 4>\u001b[0;34m()\u001b[0m\n\u001b[1;32m      3\u001b[0m \u001b[38;5;66;03m# get the country information for an IP address\u001b[39;00m\n\u001b[1;32m      4\u001b[0m \u001b[38;5;28;01mfor\u001b[39;00m ip \u001b[38;5;129;01min\u001b[39;00m unique_ip:\n\u001b[0;32m----> 5\u001b[0m     response \u001b[38;5;241m=\u001b[39m \u001b[43mDbIpCity\u001b[49m\u001b[38;5;241;43m.\u001b[39;49m\u001b[43mget\u001b[49m\u001b[43m(\u001b[49m\u001b[43mip\u001b[49m\u001b[43m,\u001b[49m\u001b[43m \u001b[49m\u001b[43mapi_key\u001b[49m\u001b[38;5;241;43m=\u001b[39;49m\u001b[38;5;124;43m'\u001b[39;49m\u001b[38;5;124;43mfree\u001b[39;49m\u001b[38;5;124;43m'\u001b[39;49m\u001b[43m)\u001b[49m\n\u001b[1;32m      6\u001b[0m     \u001b[38;5;66;03m# check if the IP address is from the US\u001b[39;00m\n\u001b[1;32m      7\u001b[0m     \u001b[38;5;28;01mif\u001b[39;00m response\u001b[38;5;241m.\u001b[39mcountry \u001b[38;5;241m!=\u001b[39m \u001b[38;5;124m'\u001b[39m\u001b[38;5;124mUS\u001b[39m\u001b[38;5;124m'\u001b[39m:\n",
      "File \u001b[0;32m/opt/homebrew/anaconda3/lib/python3.9/site-packages/ip2geotools/databases/noncommercial.py:60\u001b[0m, in \u001b[0;36mDbIpCity.get\u001b[0;34m(ip_address, api_key, db_path, username, password)\u001b[0m\n\u001b[1;32m     58\u001b[0m         \u001b[38;5;28;01mraise\u001b[39;00m PermissionRequiredError()\n\u001b[1;32m     59\u001b[0m     \u001b[38;5;28;01melse\u001b[39;00m:\n\u001b[0;32m---> 60\u001b[0m         \u001b[38;5;28;01mraise\u001b[39;00m InvalidRequestError()\n\u001b[1;32m     62\u001b[0m \u001b[38;5;66;03m# prepare return value\u001b[39;00m\n\u001b[1;32m     63\u001b[0m ip_location \u001b[38;5;241m=\u001b[39m IpLocation(ip_address)\n",
      "\u001b[0;31mInvalidRequestError\u001b[0m: "
     ]
    }
   ],
   "source": [
    "from ip2geotools.databases.noncommercial import DbIpCity\n",
    "count = 0 \n",
    "# get the country information for an IP address\n",
    "for ip in unique_ip:\n",
    "    response = DbIpCity.get(ip, api_key='free')\n",
    "    count+=1\n",
    "    # check if the IP address is from the US\n",
    "    if response.country != 'US':\n",
    "        print(f\"The IP address {ip} is from a different country ({response.country}).\")\n",
    "    else:\n",
    "        \n",
    "\n"
   ]
  },
  {
   "cell_type": "code",
   "execution_count": null,
   "id": "8e8fd165-df8f-4501-8ff8-cd1a48f07c32",
   "metadata": {},
   "outputs": [],
   "source": []
  },
  {
   "cell_type": "code",
   "execution_count": 113,
   "id": "e54596eb-a54c-4a01-b4c0-ff51212f6546",
   "metadata": {},
   "outputs": [],
   "source": [
    "# from ip2geotools.databases.noncommercial import DbIpCity\n",
    "# count = 0 \n",
    "# # get the country information for an IP address\n",
    "# for ip in unique_ip:\n",
    "#     response = DbIpCity.get(ip, api_key='free')\n",
    "#     count+=1\n",
    "#     # check if the IP address is from the US\n",
    "#     if response.country != 'US':\n",
    "#         print(f\"The IP address {ip} is from a different country ({response.country}).\")\n"
   ]
  },
  {
   "cell_type": "code",
   "execution_count": 190,
   "id": "75643929-b20a-4d05-9a53-96400f04da22",
   "metadata": {},
   "outputs": [],
   "source": [
    "ip_dict = {}"
   ]
  },
  {
   "cell_type": "code",
   "execution_count": 188,
   "id": "e8f3a1e1-6bbb-40b4-ae1f-c463a20008bb",
   "metadata": {},
   "outputs": [],
   "source": [
    "ip_dict['123.3252.22.'] = 'USA'"
   ]
  },
  {
   "cell_type": "code",
   "execution_count": 340,
   "id": "2c9e1279-f966-448e-bc15-1ec93c16c418",
   "metadata": {},
   "outputs": [],
   "source": [
    "# ip_dict"
   ]
  },
  {
   "cell_type": "code",
   "execution_count": 325,
   "id": "8f437d86-fcfa-4db4-a50d-b92c597f06fb",
   "metadata": {},
   "outputs": [
    {
     "ename": "InvalidRequestError",
     "evalue": "",
     "output_type": "error",
     "traceback": [
      "\u001b[0;31m---------------------------------------------------------------------------\u001b[0m",
      "\u001b[0;31mInvalidRequestError\u001b[0m                       Traceback (most recent call last)",
      "Input \u001b[0;32mIn [325]\u001b[0m, in \u001b[0;36m<cell line: 1>\u001b[0;34m()\u001b[0m\n\u001b[1;32m      3\u001b[0m     \u001b[38;5;28;01mpass\u001b[39;00m\n\u001b[1;32m      4\u001b[0m \u001b[38;5;28;01melse\u001b[39;00m:\n\u001b[0;32m----> 5\u001b[0m     response \u001b[38;5;241m=\u001b[39m \u001b[43mDbIpCity\u001b[49m\u001b[38;5;241;43m.\u001b[39;49m\u001b[43mget\u001b[49m\u001b[43m(\u001b[49m\u001b[43mip\u001b[49m\u001b[43m,\u001b[49m\u001b[43m \u001b[49m\u001b[43mapi_key\u001b[49m\u001b[38;5;241;43m=\u001b[39;49m\u001b[38;5;124;43m'\u001b[39;49m\u001b[38;5;124;43mfree\u001b[39;49m\u001b[38;5;124;43m'\u001b[39;49m\u001b[43m)\u001b[49m\n\u001b[1;32m      6\u001b[0m     ip_dict[ip] \u001b[38;5;241m=\u001b[39m response\u001b[38;5;241m.\u001b[39mcountry\n",
      "File \u001b[0;32m/opt/homebrew/anaconda3/lib/python3.9/site-packages/ip2geotools/databases/noncommercial.py:60\u001b[0m, in \u001b[0;36mDbIpCity.get\u001b[0;34m(ip_address, api_key, db_path, username, password)\u001b[0m\n\u001b[1;32m     58\u001b[0m         \u001b[38;5;28;01mraise\u001b[39;00m PermissionRequiredError()\n\u001b[1;32m     59\u001b[0m     \u001b[38;5;28;01melse\u001b[39;00m:\n\u001b[0;32m---> 60\u001b[0m         \u001b[38;5;28;01mraise\u001b[39;00m InvalidRequestError()\n\u001b[1;32m     62\u001b[0m \u001b[38;5;66;03m# prepare return value\u001b[39;00m\n\u001b[1;32m     63\u001b[0m ip_location \u001b[38;5;241m=\u001b[39m IpLocation(ip_address)\n",
      "\u001b[0;31mInvalidRequestError\u001b[0m: "
     ]
    }
   ],
   "source": [
    "for ip in unique_ip:\n",
    "    if ip in ip_dict:\n",
    "        pass\n",
    "    else:\n",
    "        response = DbIpCity.get(ip, api_key='free')\n",
    "        ip_dict[ip] = response.country\n",
    "         #df.at[df.index[i], 'ip_origin_country'] = response.country\n",
    " \n"
   ]
  },
  {
   "cell_type": "code",
   "execution_count": 203,
   "id": "7cb1ee6d-68c7-4602-84b1-a4e8543238a1",
   "metadata": {},
   "outputs": [],
   "source": [
    "# for ip in unique_ip:\n",
    "#     if ip in ip_dict:\n",
    "#         print(ip)\n",
    "#     else:\n",
    "#         print('not ip')"
   ]
  },
  {
   "cell_type": "code",
   "execution_count": 326,
   "id": "989fcbe9-0bf1-459e-9d41-8900cc75546a",
   "metadata": {},
   "outputs": [
    {
     "data": {
      "text/plain": [
       "1114"
      ]
     },
     "execution_count": 326,
     "metadata": {},
     "output_type": "execute_result"
    }
   ],
   "source": [
    "len(ip_dict)"
   ]
  },
  {
   "cell_type": "code",
   "execution_count": 167,
   "id": "e5a572f6-3829-4d6b-a8c2-dc4f61b5bae3",
   "metadata": {},
   "outputs": [
    {
     "data": {
      "text/plain": [
       "'97.105.19.61'"
      ]
     },
     "execution_count": 167,
     "metadata": {},
     "output_type": "execute_result"
    }
   ],
   "source": [
    "df.ip.iloc[0]"
   ]
  },
  {
   "cell_type": "code",
   "execution_count": 153,
   "id": "0d44ac33-be40-41cd-bf4f-c2dbc83a4111",
   "metadata": {},
   "outputs": [],
   "source": [
    "df['ip_origin_country'] = 'test'"
   ]
  },
  {
   "cell_type": "code",
   "execution_count": 164,
   "id": "fcf03469-4a1a-4d90-82ae-ec70c92bebe9",
   "metadata": {},
   "outputs": [],
   "source": [
    "df.at[df.index[0], 'ip_origin_country'] = 'test'"
   ]
  },
  {
   "cell_type": "code",
   "execution_count": 195,
   "id": "a31abe53-8b46-48be-8428-92c31f9efed8",
   "metadata": {},
   "outputs": [],
   "source": [
    "# df[df.ip_origin_country != \"US\"]"
   ]
  },
  {
   "cell_type": "code",
   "execution_count": 75,
   "id": "eed032ff-a020-41ad-ab2f-8b9f9093efe6",
   "metadata": {},
   "outputs": [],
   "source": [
    "id_counts = df.groupby('user_id')[['path','date','cohort_id']].nunique()"
   ]
  },
  {
   "cell_type": "code",
   "execution_count": 86,
   "id": "b282999a-6edb-4b66-8f3b-b2adee91607d",
   "metadata": {},
   "outputs": [
    {
     "data": {
      "text/html": [
       "<div>\n",
       "<style scoped>\n",
       "    .dataframe tbody tr th:only-of-type {\n",
       "        vertical-align: middle;\n",
       "    }\n",
       "\n",
       "    .dataframe tbody tr th {\n",
       "        vertical-align: top;\n",
       "    }\n",
       "\n",
       "    .dataframe thead th {\n",
       "        text-align: right;\n",
       "    }\n",
       "</style>\n",
       "<table border=\"1\" class=\"dataframe\">\n",
       "  <thead>\n",
       "    <tr style=\"text-align: right;\">\n",
       "      <th></th>\n",
       "      <th>path</th>\n",
       "      <th>date</th>\n",
       "      <th>cohort_id</th>\n",
       "    </tr>\n",
       "    <tr>\n",
       "      <th>user_id</th>\n",
       "      <th></th>\n",
       "      <th></th>\n",
       "      <th></th>\n",
       "    </tr>\n",
       "  </thead>\n",
       "  <tbody>\n",
       "    <tr>\n",
       "      <th>1</th>\n",
       "      <td>976</td>\n",
       "      <td>637</td>\n",
       "      <td>2</td>\n",
       "    </tr>\n",
       "    <tr>\n",
       "      <th>2</th>\n",
       "      <td>151</td>\n",
       "      <td>83</td>\n",
       "      <td>1</td>\n",
       "    </tr>\n",
       "    <tr>\n",
       "      <th>3</th>\n",
       "      <td>169</td>\n",
       "      <td>107</td>\n",
       "      <td>1</td>\n",
       "    </tr>\n",
       "    <tr>\n",
       "      <th>4</th>\n",
       "      <td>143</td>\n",
       "      <td>54</td>\n",
       "      <td>1</td>\n",
       "    </tr>\n",
       "    <tr>\n",
       "      <th>5</th>\n",
       "      <td>197</td>\n",
       "      <td>82</td>\n",
       "      <td>1</td>\n",
       "    </tr>\n",
       "    <tr>\n",
       "      <th>...</th>\n",
       "      <td>...</td>\n",
       "      <td>...</td>\n",
       "      <td>...</td>\n",
       "    </tr>\n",
       "    <tr>\n",
       "      <th>977</th>\n",
       "      <td>12</td>\n",
       "      <td>10</td>\n",
       "      <td>1</td>\n",
       "    </tr>\n",
       "    <tr>\n",
       "      <th>978</th>\n",
       "      <td>18</td>\n",
       "      <td>9</td>\n",
       "      <td>1</td>\n",
       "    </tr>\n",
       "    <tr>\n",
       "      <th>979</th>\n",
       "      <td>20</td>\n",
       "      <td>9</td>\n",
       "      <td>1</td>\n",
       "    </tr>\n",
       "    <tr>\n",
       "      <th>980</th>\n",
       "      <td>1</td>\n",
       "      <td>3</td>\n",
       "      <td>1</td>\n",
       "    </tr>\n",
       "    <tr>\n",
       "      <th>981</th>\n",
       "      <td>9</td>\n",
       "      <td>3</td>\n",
       "      <td>1</td>\n",
       "    </tr>\n",
       "  </tbody>\n",
       "</table>\n",
       "<p>981 rows × 3 columns</p>\n",
       "</div>"
      ],
      "text/plain": [
       "         path  date  cohort_id\n",
       "user_id                       \n",
       "1         976   637          2\n",
       "2         151    83          1\n",
       "3         169   107          1\n",
       "4         143    54          1\n",
       "5         197    82          1\n",
       "...       ...   ...        ...\n",
       "977        12    10          1\n",
       "978        18     9          1\n",
       "979        20     9          1\n",
       "980         1     3          1\n",
       "981         9     3          1\n",
       "\n",
       "[981 rows x 3 columns]"
      ]
     },
     "execution_count": 86,
     "metadata": {},
     "output_type": "execute_result"
    }
   ],
   "source": [
    "id_counts"
   ]
  },
  {
   "cell_type": "code",
   "execution_count": 77,
   "id": "eb4ef28f-0769-4f87-8e1f-efb2386992f6",
   "metadata": {},
   "outputs": [],
   "source": [
    "cohort_counts = df.groupby('cohort_id')[['path','date','user_id']].nunique()"
   ]
  },
  {
   "cell_type": "code",
   "execution_count": 85,
   "id": "ca24be7e-fb4b-40ae-9205-4173c7b79047",
   "metadata": {},
   "outputs": [
    {
     "data": {
      "text/html": [
       "<div>\n",
       "<style scoped>\n",
       "    .dataframe tbody tr th:only-of-type {\n",
       "        vertical-align: middle;\n",
       "    }\n",
       "\n",
       "    .dataframe tbody tr th {\n",
       "        vertical-align: top;\n",
       "    }\n",
       "\n",
       "    .dataframe thead th {\n",
       "        text-align: right;\n",
       "    }\n",
       "</style>\n",
       "<table border=\"1\" class=\"dataframe\">\n",
       "  <thead>\n",
       "    <tr style=\"text-align: right;\">\n",
       "      <th></th>\n",
       "      <th>path</th>\n",
       "      <th>date</th>\n",
       "      <th>user_id</th>\n",
       "    </tr>\n",
       "    <tr>\n",
       "      <th>cohort_id</th>\n",
       "      <th></th>\n",
       "      <th></th>\n",
       "      <th></th>\n",
       "    </tr>\n",
       "  </thead>\n",
       "  <tbody>\n",
       "    <tr>\n",
       "      <th>0.0</th>\n",
       "      <td>1112</td>\n",
       "      <td>964</td>\n",
       "      <td>78</td>\n",
       "    </tr>\n",
       "    <tr>\n",
       "      <th>1.0</th>\n",
       "      <td>342</td>\n",
       "      <td>278</td>\n",
       "      <td>18</td>\n",
       "    </tr>\n",
       "    <tr>\n",
       "      <th>2.0</th>\n",
       "      <td>44</td>\n",
       "      <td>12</td>\n",
       "      <td>3</td>\n",
       "    </tr>\n",
       "    <tr>\n",
       "      <th>4.0</th>\n",
       "      <td>4</td>\n",
       "      <td>1</td>\n",
       "      <td>1</td>\n",
       "    </tr>\n",
       "    <tr>\n",
       "      <th>5.0</th>\n",
       "      <td>1</td>\n",
       "      <td>1</td>\n",
       "      <td>1</td>\n",
       "    </tr>\n",
       "    <tr>\n",
       "      <th>6.0</th>\n",
       "      <td>45</td>\n",
       "      <td>12</td>\n",
       "      <td>2</td>\n",
       "    </tr>\n",
       "    <tr>\n",
       "      <th>7.0</th>\n",
       "      <td>143</td>\n",
       "      <td>46</td>\n",
       "      <td>6</td>\n",
       "    </tr>\n",
       "    <tr>\n",
       "      <th>8.0</th>\n",
       "      <td>278</td>\n",
       "      <td>162</td>\n",
       "      <td>5</td>\n",
       "    </tr>\n",
       "    <tr>\n",
       "      <th>9.0</th>\n",
       "      <td>4</td>\n",
       "      <td>1</td>\n",
       "      <td>1</td>\n",
       "    </tr>\n",
       "    <tr>\n",
       "      <th>11.0</th>\n",
       "      <td>95</td>\n",
       "      <td>18</td>\n",
       "      <td>5</td>\n",
       "    </tr>\n",
       "    <tr>\n",
       "      <th>12.0</th>\n",
       "      <td>117</td>\n",
       "      <td>14</td>\n",
       "      <td>5</td>\n",
       "    </tr>\n",
       "    <tr>\n",
       "      <th>13.0</th>\n",
       "      <td>348</td>\n",
       "      <td>247</td>\n",
       "      <td>10</td>\n",
       "    </tr>\n",
       "    <tr>\n",
       "      <th>14.0</th>\n",
       "      <td>486</td>\n",
       "      <td>532</td>\n",
       "      <td>13</td>\n",
       "    </tr>\n",
       "    <tr>\n",
       "      <th>15.0</th>\n",
       "      <td>232</td>\n",
       "      <td>53</td>\n",
       "      <td>5</td>\n",
       "    </tr>\n",
       "    <tr>\n",
       "      <th>16.0</th>\n",
       "      <td>135</td>\n",
       "      <td>119</td>\n",
       "      <td>8</td>\n",
       "    </tr>\n",
       "    <tr>\n",
       "      <th>17.0</th>\n",
       "      <td>383</td>\n",
       "      <td>309</td>\n",
       "      <td>14</td>\n",
       "    </tr>\n",
       "    <tr>\n",
       "      <th>18.0</th>\n",
       "      <td>325</td>\n",
       "      <td>217</td>\n",
       "      <td>14</td>\n",
       "    </tr>\n",
       "    <tr>\n",
       "      <th>19.0</th>\n",
       "      <td>282</td>\n",
       "      <td>138</td>\n",
       "      <td>17</td>\n",
       "    </tr>\n",
       "    <tr>\n",
       "      <th>21.0</th>\n",
       "      <td>312</td>\n",
       "      <td>422</td>\n",
       "      <td>28</td>\n",
       "    </tr>\n",
       "    <tr>\n",
       "      <th>22.0</th>\n",
       "      <td>544</td>\n",
       "      <td>586</td>\n",
       "      <td>35</td>\n",
       "    </tr>\n",
       "    <tr>\n",
       "      <th>23.0</th>\n",
       "      <td>406</td>\n",
       "      <td>553</td>\n",
       "      <td>33</td>\n",
       "    </tr>\n",
       "    <tr>\n",
       "      <th>24.0</th>\n",
       "      <td>377</td>\n",
       "      <td>432</td>\n",
       "      <td>34</td>\n",
       "    </tr>\n",
       "    <tr>\n",
       "      <th>25.0</th>\n",
       "      <td>421</td>\n",
       "      <td>273</td>\n",
       "      <td>26</td>\n",
       "    </tr>\n",
       "    <tr>\n",
       "      <th>26.0</th>\n",
       "      <td>283</td>\n",
       "      <td>440</td>\n",
       "      <td>20</td>\n",
       "    </tr>\n",
       "    <tr>\n",
       "      <th>27.0</th>\n",
       "      <td>314</td>\n",
       "      <td>305</td>\n",
       "      <td>29</td>\n",
       "    </tr>\n",
       "    <tr>\n",
       "      <th>28.0</th>\n",
       "      <td>1404</td>\n",
       "      <td>810</td>\n",
       "      <td>51</td>\n",
       "    </tr>\n",
       "    <tr>\n",
       "      <th>29.0</th>\n",
       "      <td>317</td>\n",
       "      <td>469</td>\n",
       "      <td>25</td>\n",
       "    </tr>\n",
       "    <tr>\n",
       "      <th>31.0</th>\n",
       "      <td>366</td>\n",
       "      <td>447</td>\n",
       "      <td>28</td>\n",
       "    </tr>\n",
       "    <tr>\n",
       "      <th>32.0</th>\n",
       "      <td>334</td>\n",
       "      <td>430</td>\n",
       "      <td>22</td>\n",
       "    </tr>\n",
       "    <tr>\n",
       "      <th>33.0</th>\n",
       "      <td>301</td>\n",
       "      <td>466</td>\n",
       "      <td>29</td>\n",
       "    </tr>\n",
       "    <tr>\n",
       "      <th>34.0</th>\n",
       "      <td>533</td>\n",
       "      <td>512</td>\n",
       "      <td>23</td>\n",
       "    </tr>\n",
       "    <tr>\n",
       "      <th>51.0</th>\n",
       "      <td>288</td>\n",
       "      <td>483</td>\n",
       "      <td>27</td>\n",
       "    </tr>\n",
       "    <tr>\n",
       "      <th>52.0</th>\n",
       "      <td>267</td>\n",
       "      <td>394</td>\n",
       "      <td>28</td>\n",
       "    </tr>\n",
       "    <tr>\n",
       "      <th>53.0</th>\n",
       "      <td>258</td>\n",
       "      <td>356</td>\n",
       "      <td>29</td>\n",
       "    </tr>\n",
       "    <tr>\n",
       "      <th>55.0</th>\n",
       "      <td>419</td>\n",
       "      <td>372</td>\n",
       "      <td>21</td>\n",
       "    </tr>\n",
       "    <tr>\n",
       "      <th>56.0</th>\n",
       "      <td>273</td>\n",
       "      <td>386</td>\n",
       "      <td>24</td>\n",
       "    </tr>\n",
       "    <tr>\n",
       "      <th>57.0</th>\n",
       "      <td>296</td>\n",
       "      <td>330</td>\n",
       "      <td>29</td>\n",
       "    </tr>\n",
       "    <tr>\n",
       "      <th>58.0</th>\n",
       "      <td>270</td>\n",
       "      <td>277</td>\n",
       "      <td>23</td>\n",
       "    </tr>\n",
       "    <tr>\n",
       "      <th>59.0</th>\n",
       "      <td>420</td>\n",
       "      <td>277</td>\n",
       "      <td>29</td>\n",
       "    </tr>\n",
       "    <tr>\n",
       "      <th>61.0</th>\n",
       "      <td>275</td>\n",
       "      <td>252</td>\n",
       "      <td>23</td>\n",
       "    </tr>\n",
       "    <tr>\n",
       "      <th>62.0</th>\n",
       "      <td>288</td>\n",
       "      <td>213</td>\n",
       "      <td>33</td>\n",
       "    </tr>\n",
       "    <tr>\n",
       "      <th>132.0</th>\n",
       "      <td>273</td>\n",
       "      <td>169</td>\n",
       "      <td>23</td>\n",
       "    </tr>\n",
       "    <tr>\n",
       "      <th>133.0</th>\n",
       "      <td>230</td>\n",
       "      <td>135</td>\n",
       "      <td>17</td>\n",
       "    </tr>\n",
       "    <tr>\n",
       "      <th>134.0</th>\n",
       "      <td>239</td>\n",
       "      <td>135</td>\n",
       "      <td>20</td>\n",
       "    </tr>\n",
       "    <tr>\n",
       "      <th>135.0</th>\n",
       "      <td>248</td>\n",
       "      <td>86</td>\n",
       "      <td>31</td>\n",
       "    </tr>\n",
       "    <tr>\n",
       "      <th>137.0</th>\n",
       "      <td>162</td>\n",
       "      <td>38</td>\n",
       "      <td>21</td>\n",
       "    </tr>\n",
       "    <tr>\n",
       "      <th>138.0</th>\n",
       "      <td>136</td>\n",
       "      <td>38</td>\n",
       "      <td>37</td>\n",
       "    </tr>\n",
       "    <tr>\n",
       "      <th>139.0</th>\n",
       "      <td>48</td>\n",
       "      <td>10</td>\n",
       "      <td>26</td>\n",
       "    </tr>\n",
       "  </tbody>\n",
       "</table>\n",
       "</div>"
      ],
      "text/plain": [
       "           path  date  user_id\n",
       "cohort_id                     \n",
       "0.0        1112   964       78\n",
       "1.0         342   278       18\n",
       "2.0          44    12        3\n",
       "4.0           4     1        1\n",
       "5.0           1     1        1\n",
       "6.0          45    12        2\n",
       "7.0         143    46        6\n",
       "8.0         278   162        5\n",
       "9.0           4     1        1\n",
       "11.0         95    18        5\n",
       "12.0        117    14        5\n",
       "13.0        348   247       10\n",
       "14.0        486   532       13\n",
       "15.0        232    53        5\n",
       "16.0        135   119        8\n",
       "17.0        383   309       14\n",
       "18.0        325   217       14\n",
       "19.0        282   138       17\n",
       "21.0        312   422       28\n",
       "22.0        544   586       35\n",
       "23.0        406   553       33\n",
       "24.0        377   432       34\n",
       "25.0        421   273       26\n",
       "26.0        283   440       20\n",
       "27.0        314   305       29\n",
       "28.0       1404   810       51\n",
       "29.0        317   469       25\n",
       "31.0        366   447       28\n",
       "32.0        334   430       22\n",
       "33.0        301   466       29\n",
       "34.0        533   512       23\n",
       "51.0        288   483       27\n",
       "52.0        267   394       28\n",
       "53.0        258   356       29\n",
       "55.0        419   372       21\n",
       "56.0        273   386       24\n",
       "57.0        296   330       29\n",
       "58.0        270   277       23\n",
       "59.0        420   277       29\n",
       "61.0        275   252       23\n",
       "62.0        288   213       33\n",
       "132.0       273   169       23\n",
       "133.0       230   135       17\n",
       "134.0       239   135       20\n",
       "135.0       248    86       31\n",
       "137.0       162    38       21\n",
       "138.0       136    38       37\n",
       "139.0        48    10       26"
      ]
     },
     "execution_count": 85,
     "metadata": {},
     "output_type": "execute_result"
    }
   ],
   "source": [
    "cohort_counts"
   ]
  },
  {
   "cell_type": "code",
   "execution_count": 79,
   "id": "9158a3d8-599e-43c4-b18e-3cd298e116a5",
   "metadata": {},
   "outputs": [],
   "source": [
    "df['date'] = pd.to_datetime(df['date'])\n",
    "first_access = df.groupby('user_id').date.min()"
   ]
  },
  {
   "cell_type": "code",
   "execution_count": 84,
   "id": "62d7176f-8633-411e-9427-cf5e155a7046",
   "metadata": {},
   "outputs": [
    {
     "data": {
      "text/plain": [
       "user_id\n",
       "1     2018-01-26\n",
       "2     2018-01-26\n",
       "3     2018-01-26\n",
       "4     2018-01-26\n",
       "5     2018-01-26\n",
       "         ...    \n",
       "977   2021-04-12\n",
       "978   2021-04-12\n",
       "979   2021-04-12\n",
       "980   2021-04-13\n",
       "981   2021-04-19\n",
       "Name: date, Length: 981, dtype: datetime64[ns]"
      ]
     },
     "execution_count": 84,
     "metadata": {},
     "output_type": "execute_result"
    }
   ],
   "source": [
    "first_access"
   ]
  },
  {
   "cell_type": "code",
   "execution_count": 80,
   "id": "dd7669b7-9357-47bd-87ce-407a02321e55",
   "metadata": {},
   "outputs": [],
   "source": [
    "first_access_date = pd.DataFrame({'first_access_date': first_access}).reset_index()"
   ]
  },
  {
   "cell_type": "code",
   "execution_count": 83,
   "id": "75462bbe-17cc-4a05-adf2-333ac046f5e1",
   "metadata": {},
   "outputs": [
    {
     "data": {
      "text/html": [
       "<div>\n",
       "<style scoped>\n",
       "    .dataframe tbody tr th:only-of-type {\n",
       "        vertical-align: middle;\n",
       "    }\n",
       "\n",
       "    .dataframe tbody tr th {\n",
       "        vertical-align: top;\n",
       "    }\n",
       "\n",
       "    .dataframe thead th {\n",
       "        text-align: right;\n",
       "    }\n",
       "</style>\n",
       "<table border=\"1\" class=\"dataframe\">\n",
       "  <thead>\n",
       "    <tr style=\"text-align: right;\">\n",
       "      <th></th>\n",
       "      <th>user_id</th>\n",
       "      <th>first_access_date</th>\n",
       "    </tr>\n",
       "  </thead>\n",
       "  <tbody>\n",
       "    <tr>\n",
       "      <th>0</th>\n",
       "      <td>1</td>\n",
       "      <td>2018-01-26</td>\n",
       "    </tr>\n",
       "    <tr>\n",
       "      <th>1</th>\n",
       "      <td>2</td>\n",
       "      <td>2018-01-26</td>\n",
       "    </tr>\n",
       "    <tr>\n",
       "      <th>2</th>\n",
       "      <td>3</td>\n",
       "      <td>2018-01-26</td>\n",
       "    </tr>\n",
       "    <tr>\n",
       "      <th>3</th>\n",
       "      <td>4</td>\n",
       "      <td>2018-01-26</td>\n",
       "    </tr>\n",
       "    <tr>\n",
       "      <th>4</th>\n",
       "      <td>5</td>\n",
       "      <td>2018-01-26</td>\n",
       "    </tr>\n",
       "    <tr>\n",
       "      <th>...</th>\n",
       "      <td>...</td>\n",
       "      <td>...</td>\n",
       "    </tr>\n",
       "    <tr>\n",
       "      <th>976</th>\n",
       "      <td>977</td>\n",
       "      <td>2021-04-12</td>\n",
       "    </tr>\n",
       "    <tr>\n",
       "      <th>977</th>\n",
       "      <td>978</td>\n",
       "      <td>2021-04-12</td>\n",
       "    </tr>\n",
       "    <tr>\n",
       "      <th>978</th>\n",
       "      <td>979</td>\n",
       "      <td>2021-04-12</td>\n",
       "    </tr>\n",
       "    <tr>\n",
       "      <th>979</th>\n",
       "      <td>980</td>\n",
       "      <td>2021-04-13</td>\n",
       "    </tr>\n",
       "    <tr>\n",
       "      <th>980</th>\n",
       "      <td>981</td>\n",
       "      <td>2021-04-19</td>\n",
       "    </tr>\n",
       "  </tbody>\n",
       "</table>\n",
       "<p>981 rows × 2 columns</p>\n",
       "</div>"
      ],
      "text/plain": [
       "     user_id first_access_date\n",
       "0          1        2018-01-26\n",
       "1          2        2018-01-26\n",
       "2          3        2018-01-26\n",
       "3          4        2018-01-26\n",
       "4          5        2018-01-26\n",
       "..       ...               ...\n",
       "976      977        2021-04-12\n",
       "977      978        2021-04-12\n",
       "978      979        2021-04-12\n",
       "979      980        2021-04-13\n",
       "980      981        2021-04-19\n",
       "\n",
       "[981 rows x 2 columns]"
      ]
     },
     "execution_count": 83,
     "metadata": {},
     "output_type": "execute_result"
    }
   ],
   "source": [
    "first_access_date"
   ]
  },
  {
   "cell_type": "code",
   "execution_count": 81,
   "id": "72bb37ff-0a66-415e-bcf2-d90053608c29",
   "metadata": {
    "tags": []
   },
   "outputs": [],
   "source": [
    "id_by_first_access_date = first_access_date.groupby(['first_access_date']).count()"
   ]
  },
  {
   "cell_type": "code",
   "execution_count": 82,
   "id": "753944ff-ba45-490d-8e27-86e5f9082547",
   "metadata": {
    "tags": []
   },
   "outputs": [
    {
     "data": {
      "text/html": [
       "<div>\n",
       "<style scoped>\n",
       "    .dataframe tbody tr th:only-of-type {\n",
       "        vertical-align: middle;\n",
       "    }\n",
       "\n",
       "    .dataframe tbody tr th {\n",
       "        vertical-align: top;\n",
       "    }\n",
       "\n",
       "    .dataframe thead th {\n",
       "        text-align: right;\n",
       "    }\n",
       "</style>\n",
       "<table border=\"1\" class=\"dataframe\">\n",
       "  <thead>\n",
       "    <tr style=\"text-align: right;\">\n",
       "      <th></th>\n",
       "      <th>user_id</th>\n",
       "    </tr>\n",
       "    <tr>\n",
       "      <th>first_access_date</th>\n",
       "      <th></th>\n",
       "    </tr>\n",
       "  </thead>\n",
       "  <tbody>\n",
       "    <tr>\n",
       "      <th>2018-01-26</th>\n",
       "      <td>50</td>\n",
       "    </tr>\n",
       "    <tr>\n",
       "      <th>2018-01-27</th>\n",
       "      <td>2</td>\n",
       "    </tr>\n",
       "    <tr>\n",
       "      <th>2018-01-28</th>\n",
       "      <td>2</td>\n",
       "    </tr>\n",
       "    <tr>\n",
       "      <th>2018-01-29</th>\n",
       "      <td>12</td>\n",
       "    </tr>\n",
       "    <tr>\n",
       "      <th>2018-01-30</th>\n",
       "      <td>7</td>\n",
       "    </tr>\n",
       "    <tr>\n",
       "      <th>...</th>\n",
       "      <td>...</td>\n",
       "    </tr>\n",
       "    <tr>\n",
       "      <th>2021-04-08</th>\n",
       "      <td>1</td>\n",
       "    </tr>\n",
       "    <tr>\n",
       "      <th>2021-04-11</th>\n",
       "      <td>1</td>\n",
       "    </tr>\n",
       "    <tr>\n",
       "      <th>2021-04-12</th>\n",
       "      <td>26</td>\n",
       "    </tr>\n",
       "    <tr>\n",
       "      <th>2021-04-13</th>\n",
       "      <td>1</td>\n",
       "    </tr>\n",
       "    <tr>\n",
       "      <th>2021-04-19</th>\n",
       "      <td>1</td>\n",
       "    </tr>\n",
       "  </tbody>\n",
       "</table>\n",
       "<p>251 rows × 1 columns</p>\n",
       "</div>"
      ],
      "text/plain": [
       "                   user_id\n",
       "first_access_date         \n",
       "2018-01-26              50\n",
       "2018-01-27               2\n",
       "2018-01-28               2\n",
       "2018-01-29              12\n",
       "2018-01-30               7\n",
       "...                    ...\n",
       "2021-04-08               1\n",
       "2021-04-11               1\n",
       "2021-04-12              26\n",
       "2021-04-13               1\n",
       "2021-04-19               1\n",
       "\n",
       "[251 rows x 1 columns]"
      ]
     },
     "execution_count": 82,
     "metadata": {},
     "output_type": "execute_result"
    }
   ],
   "source": [
    "id_by_first_access_date"
   ]
  },
  {
   "cell_type": "markdown",
   "id": "1bcd440d-78d7-418b-b333-91792c725878",
   "metadata": {},
   "source": [
    "\n"
   ]
  },
  {
   "cell_type": "markdown",
   "id": "f088c55d-e3cd-4acd-b22b-6add9c85343d",
   "metadata": {},
   "source": [
    "#### 1. Which lesson appears to attract the most traffic consistently across cohorts (per program)?"
   ]
  },
  {
   "cell_type": "code",
   "execution_count": 231,
   "id": "9695e731-0219-4c5d-bca9-84613966909b",
   "metadata": {},
   "outputs": [],
   "source": [
    "df2 = df[df.path != '/']"
   ]
  },
  {
   "cell_type": "code",
   "execution_count": 232,
   "id": "6f0996a5-18d7-4d9b-bb9e-1469a80d96a2",
   "metadata": {},
   "outputs": [],
   "source": [
    "cohort_path_visit_counts = df2.groupby(['cohort_id', 'path']).size().reset_index(name='visit_count')"
   ]
  },
  {
   "cell_type": "code",
   "execution_count": 234,
   "id": "89270558-ace8-44b1-bde1-e6cfb5ae1c1a",
   "metadata": {},
   "outputs": [
    {
     "data": {
      "text/plain": [
       "0        48434\n",
       "1        48434\n",
       "2        48434\n",
       "3        48434\n",
       "4        48434\n",
       "         ...  \n",
       "14625     1541\n",
       "14626     1541\n",
       "14627     1541\n",
       "14628     1541\n",
       "14629     1541\n",
       "Name: visit_count, Length: 14630, dtype: int64"
      ]
     },
     "execution_count": 234,
     "metadata": {},
     "output_type": "execute_result"
    }
   ],
   "source": [
    "cohort_total"
   ]
  },
  {
   "cell_type": "code",
   "execution_count": 235,
   "id": "885fbff1-7d48-4799-9c69-5054320cd809",
   "metadata": {},
   "outputs": [],
   "source": [
    "cohort_path_visit_counts['visits_precent'] = cohort_path_visit_counts.visit_count/cohort_total"
   ]
  },
  {
   "cell_type": "code",
   "execution_count": 241,
   "id": "eb87038f-ecc6-455e-a118-c841907dc2ff",
   "metadata": {},
   "outputs": [
    {
     "data": {
      "text/plain": [
       "path\n",
       "prework/versioning/github    0.167000\n",
       "prework/databases            0.067597\n",
       "content/html-css             0.029863\n",
       "mkdocs/search_index.json     0.026619\n",
       "javascript-i                 0.025642\n",
       "Name: visits_precent, dtype: float64"
      ]
     },
     "execution_count": 241,
     "metadata": {},
     "output_type": "execute_result"
    }
   ],
   "source": [
    "cohort_path_visit_counts.groupby('path').visits_precent.mean().sort_values(ascending=False).head()"
   ]
  },
  {
   "cell_type": "code",
   "execution_count": 242,
   "id": "d0c19c30-29c9-4d5e-844f-d9f2fc732b52",
   "metadata": {},
   "outputs": [],
   "source": [
    "program_path_visit_counts = df2.groupby(['program_id', 'path']).size().reset_index(name='visit_count')  "
   ]
  },
  {
   "cell_type": "code",
   "execution_count": 244,
   "id": "85a1b8fa-c53a-4189-a879-91f6dfbb0c52",
   "metadata": {},
   "outputs": [],
   "source": [
    "program_total = program_path_visit_counts.groupby('program_id').visit_count.transform('sum')"
   ]
  },
  {
   "cell_type": "code",
   "execution_count": 246,
   "id": "34a69074-fadc-4ede-bf48-b4fdb4897406",
   "metadata": {},
   "outputs": [],
   "source": [
    "program_path_visit_counts['visits_precent'] = program_path_visit_counts.visit_count/program_total"
   ]
  },
  {
   "cell_type": "code",
   "execution_count": 247,
   "id": "e988e2d9-6194-4956-a44c-23ef09e4abfa",
   "metadata": {},
   "outputs": [
    {
     "data": {
      "text/plain": [
       "path\n",
       "content/html-css                               0.125211\n",
       "content/html-css/gitbook/images/favicon.ico    0.062594\n",
       "content/html-css/introduction.html             0.062584\n",
       "search/search_index.json                       0.025941\n",
       "javascript-i                                   0.016411\n",
       "Name: visits_precent, dtype: float64"
      ]
     },
     "execution_count": 247,
     "metadata": {},
     "output_type": "execute_result"
    }
   ],
   "source": [
    "program_path_visit_counts.groupby('path').visits_precent.mean().sort_values(ascending=False).head()"
   ]
  },
  {
   "cell_type": "markdown",
   "id": "cb4c76a1-540e-4656-aa38-06cedb597189",
   "metadata": {
    "tags": []
   },
   "source": [
    "#### 2. Is there a cohort that referred to a lesson significantly more than other cohorts seemed to gloss over?"
   ]
  },
  {
   "cell_type": "code",
   "execution_count": null,
   "id": "078a6dde-ee73-4bb3-a1fd-3e958ff8a392",
   "metadata": {},
   "outputs": [],
   "source": []
  },
  {
   "cell_type": "markdown",
   "id": "ce85d362-7926-450e-b5da-2782c4ae24a5",
   "metadata": {},
   "source": [
    "#### 3. Are there students who, when active, hardly access the curriculum? If so, what information do you have about these students?"
   ]
  },
  {
   "cell_type": "code",
   "execution_count": 251,
   "id": "e270a427-3004-427f-8756-b013f8bcd63a",
   "metadata": {},
   "outputs": [],
   "source": [
    "df.end_date = pd.to_datetime(df.end_date)"
   ]
  },
  {
   "cell_type": "code",
   "execution_count": 261,
   "id": "c1660ed2-b346-4a6e-9a04-c12081b026d9",
   "metadata": {},
   "outputs": [],
   "source": [
    "df.start_date = pd.to_datetime(df.start_date)"
   ]
  },
  {
   "cell_type": "code",
   "execution_count": 263,
   "id": "69557ab8-6068-42d8-b20c-1ce487ee76d9",
   "metadata": {},
   "outputs": [],
   "source": [
    "active_entries = df[df.index < df.end_date]"
   ]
  },
  {
   "cell_type": "code",
   "execution_count": 266,
   "id": "9e0ce672-a829-4201-9fdb-beb53f5ce347",
   "metadata": {},
   "outputs": [],
   "source": [
    "total_user_entries = active_entries.groupby(['user_id']).path.count()"
   ]
  },
  {
   "cell_type": "code",
   "execution_count": 272,
   "id": "30d57dea-eeb9-4e35-822d-f15746c039cc",
   "metadata": {},
   "outputs": [],
   "source": [
    "unique_user_entries = active_entries.groupby(['user_id']).path.nunique()"
   ]
  },
  {
   "cell_type": "code",
   "execution_count": 270,
   "id": "8959108c-2851-43b9-95a0-8acbb40390db",
   "metadata": {},
   "outputs": [
    {
     "name": "stderr",
     "output_type": "stream",
     "text": [
      "/var/folders/ng/82m_197x6jd7ysrq5l2vxd280000gn/T/ipykernel_32150/3432496927.py:1: SettingWithCopyWarning: \n",
      "A value is trying to be set on a copy of a slice from a DataFrame.\n",
      "Try using .loc[row_indexer,col_indexer] = value instead\n",
      "\n",
      "See the caveats in the documentation: https://pandas.pydata.org/pandas-docs/stable/user_guide/indexing.html#returning-a-view-versus-a-copy\n",
      "  active_entries['duration'] = active_entries.end_date - active_entries.start_date\n"
     ]
    }
   ],
   "source": [
    "active_entries['duration'] = active_entries.end_date - active_entries.start_date"
   ]
  },
  {
   "cell_type": "code",
   "execution_count": 275,
   "id": "3165ce36-3eee-44a4-96a1-212df95c4602",
   "metadata": {},
   "outputs": [
    {
     "data": {
      "text/plain": [
       "user_id\n",
       "918.0     1\n",
       "940.0     1\n",
       "619.0     1\n",
       "879.0     1\n",
       "278.0     3\n",
       "832.0     3\n",
       "956.0     4\n",
       "388.0     4\n",
       "679.0     5\n",
       "539.0     5\n",
       "812.0     6\n",
       "64.0      8\n",
       "889.0     9\n",
       "487.0     9\n",
       "968.0     9\n",
       "981.0     9\n",
       "772.0     9\n",
       "697.0    10\n",
       "340.0    10\n",
       "941.0    10\n",
       "Name: path, dtype: int64"
      ]
     },
     "execution_count": 275,
     "metadata": {},
     "output_type": "execute_result"
    }
   ],
   "source": [
    "unique_user_entries.sort_values(ascending=True).head(20)"
   ]
  },
  {
   "cell_type": "code",
   "execution_count": null,
   "id": "9cb2c562-743a-459f-9121-e1f3808a6499",
   "metadata": {},
   "outputs": [],
   "source": [
    "active_entries"
   ]
  },
  {
   "cell_type": "markdown",
   "id": "f3dd0c4f-a78d-4298-ab4a-add8f642de2b",
   "metadata": {},
   "source": [
    "#### 5. At some point in 2019, the ability for students and alumni to access both curriculums (web dev to ds, ds to web dev) should have been shut off. Do you see any evidence of that happening? Did it happen before?"
   ]
  },
  {
   "cell_type": "code",
   "execution_count": null,
   "id": "70711903-10bb-4fc6-9070-f37b60cc983e",
   "metadata": {},
   "outputs": [],
   "source": [
    "df[df.program_id == 3].path.str.contains('(javascript|java|html|css|jquery)').value_counts()"
   ]
  },
  {
   "cell_type": "code",
   "execution_count": 312,
   "id": "ac614167-cd4b-40fe-9eed-abde38db0264",
   "metadata": {},
   "outputs": [
    {
     "name": "stderr",
     "output_type": "stream",
     "text": [
      "/var/folders/ng/82m_197x6jd7ysrq5l2vxd280000gn/T/ipykernel_32150/1515820089.py:1: UserWarning: This pattern is interpreted as a regular expression, and has match groups. To actually get the groups, use str.extract.\n",
      "  ds_students_webdev = df[(df.program == 'Data Science') & (df.path.str.contains('(javascript|java|html|css|jquery|object_oriented_programming)'))]\n"
     ]
    }
   ],
   "source": [
    "ds_students_webdev = df[(df.program == 'Data Science') & (df.path.str.contains('(javascript|java|html|css|jquery|object_oriented_programming)'))]"
   ]
  },
  {
   "cell_type": "code",
   "execution_count": 327,
   "id": "b67eed2f-a2e0-4b68-851b-ef7eba0fe1f5",
   "metadata": {},
   "outputs": [
    {
     "ename": "AttributeError",
     "evalue": "'DatetimeIndex' object has no attribute 'plot'",
     "output_type": "error",
     "traceback": [
      "\u001b[0;31m---------------------------------------------------------------------------\u001b[0m",
      "\u001b[0;31mAttributeError\u001b[0m                            Traceback (most recent call last)",
      "Input \u001b[0;32mIn [327]\u001b[0m, in \u001b[0;36m<cell line: 1>\u001b[0;34m()\u001b[0m\n\u001b[0;32m----> 1\u001b[0m ds_students_webdev\u001b[38;5;241m.\u001b[39mindex \u001b[38;5;241m=\u001b[39m \u001b[43mpd\u001b[49m\u001b[38;5;241;43m.\u001b[39;49m\u001b[43mto_datetime\u001b[49m\u001b[43m(\u001b[49m\u001b[43mds_students_webdev\u001b[49m\u001b[38;5;241;43m.\u001b[39;49m\u001b[43mindex\u001b[49m\u001b[43m)\u001b[49m\u001b[38;5;241;43m.\u001b[39;49m\u001b[43mplot\u001b[49m()\n",
      "\u001b[0;31mAttributeError\u001b[0m: 'DatetimeIndex' object has no attribute 'plot'"
     ]
    }
   ],
   "source": [
    "ds_students_webdev.index = pd.to_datetime(ds_students_webdev.index)"
   ]
  },
  {
   "cell_type": "code",
   "execution_count": 339,
   "id": "a51280b6-3414-4a6e-8c9b-a70f331858da",
   "metadata": {},
   "outputs": [
    {
     "data": {
      "image/png": "[encoded data removed]",
      "text/plain": [
       "<Figure size 640x480 with 1 Axes>"
      ]
     },
     "metadata": {},
     "output_type": "display_data"
    }
   ],
   "source": [
    "ds_students_webdev.path.resample('M').count().plot()\n",
    "plt.show()"
   ]
  },
  {
   "cell_type": "markdown",
   "id": "4089ae3b-7b0b-49af-9a51-997938b47c77",
   "metadata": {},
   "source": [
    "#### 6. What topics are grads continuing to reference after graduation and into their jobs (for each program)?"
   ]
  },
  {
   "cell_type": "markdown",
   "id": "dec10616-4303-4746-813e-31cbdba4c57a",
   "metadata": {},
   "source": [
    "#### 7. Which lessons are least accessed?"
   ]
  },
  {
   "cell_type": "code",
   "execution_count": 337,
   "id": "1dee92f2-1e7f-4d5a-b449-1f462b157922",
   "metadata": {},
   "outputs": [
    {
     "data": {
      "text/plain": [
       "path\n",
       "0                                                                           1\n",
       "capstone/55                                                                 1\n",
       "capstone/index                                                              1\n",
       "capstone/index.md                                                           1\n",
       "capstone/jupiter                                                            1\n",
       "capstone/team                                                               1\n",
       "capstone/teams                                                              1\n",
       "case-statements                                                             1\n",
       "cheatsheet.tex                                                              1\n",
       "classification/explore-old                                                  1\n",
       "classification/knn.md                                                       1\n",
       "cli/4-navigating-the-filesystem                                             1\n",
       "code-standards/html-css                                                     1\n",
       "codeup-exercises                                                            1\n",
       "codeupexercises                                                             1\n",
       "coding-challenges                                                           1\n",
       "cohorts/%7Bid%7D/grades.csvhttp://tools.codeup.com/cohorts/26/grades.csv    1\n",
       "cohorts/24/capstone-all                                                     1\n",
       "cohorts/24/grades                                                           1\n",
       "cohorts/27/quizzes                                                          1\n",
       "wp-admin                                                                    1\n",
       "content/appendix/control-structures.html                                    1\n",
       "capstone/54                                                                 1\n",
       "content/appendix/javascript/functions/controllers.html                      1\n",
       "capstone/53                                                                 1\n",
       "capstone/50                                                                 1\n",
       "appendix/open_data/www.census.gov                                           1\n",
       "appendix/open_data/www.flickr.com/services/api                              1\n",
       "appendix/open_data/www.openstreetmap.org                                    1\n",
       "appendix/professional                                                       1\n",
       "appendix/professional-development/post-interview-review-form                1\n",
       "appendix/spring/authorization                                               1\n",
       "appendix/spring/security-use-cases                                          1\n",
       "appendix/spring/seeder                                                      1\n",
       "appendix/testing-code.md                                                    1\n",
       "appendix/www.opensecrets.org                                                1\n",
       "arash-arghavan                                                              1\n",
       "asdf                                                                        1\n",
       "asset-manifest.json                                                         1\n",
       "b-clustering/project                                                        1\n",
       "dtype: int64"
      ]
     },
     "execution_count": 337,
     "metadata": {},
     "output_type": "execute_result"
    }
   ],
   "source": [
    "df.groupby('path').size().sort_values().head(40)"
   ]
  },
  {
   "cell_type": "code",
   "execution_count": 333,
   "id": "697a8086-2f59-48f6-9b42-a7cf6f49b8fd",
   "metadata": {},
   "outputs": [
    {
     "data": {
      "text/html": [
       "<div>\n",
       "<style scoped>\n",
       "    .dataframe tbody tr th:only-of-type {\n",
       "        vertical-align: middle;\n",
       "    }\n",
       "\n",
       "    .dataframe tbody tr th {\n",
       "        vertical-align: top;\n",
       "    }\n",
       "\n",
       "    .dataframe thead th {\n",
       "        text-align: right;\n",
       "    }\n",
       "</style>\n",
       "<table border=\"1\" class=\"dataframe\">\n",
       "  <thead>\n",
       "    <tr style=\"text-align: right;\">\n",
       "      <th></th>\n",
       "      <th>cohort_id</th>\n",
       "      <th>name</th>\n",
       "      <th>start_date</th>\n",
       "      <th>end_date</th>\n",
       "      <th>program_id</th>\n",
       "      <th>user_id</th>\n",
       "      <th>path</th>\n",
       "      <th>ip</th>\n",
       "      <th>date</th>\n",
       "      <th>time</th>\n",
       "      <th>date_time</th>\n",
       "      <th>program</th>\n",
       "      <th>ip_origin_country</th>\n",
       "    </tr>\n",
       "    <tr>\n",
       "      <th>date_time</th>\n",
       "      <th></th>\n",
       "      <th></th>\n",
       "      <th></th>\n",
       "      <th></th>\n",
       "      <th></th>\n",
       "      <th></th>\n",
       "      <th></th>\n",
       "      <th></th>\n",
       "      <th></th>\n",
       "      <th></th>\n",
       "      <th></th>\n",
       "      <th></th>\n",
       "      <th></th>\n",
       "    </tr>\n",
       "  </thead>\n",
       "  <tbody>\n",
       "    <tr>\n",
       "      <th>2018-01-26 09:55:03</th>\n",
       "      <td>8.0</td>\n",
       "      <td>Hampton</td>\n",
       "      <td>2015-09-22</td>\n",
       "      <td>2016-02-06</td>\n",
       "      <td>1.0</td>\n",
       "      <td>1.0</td>\n",
       "      <td>/</td>\n",
       "      <td>97.105.19.61</td>\n",
       "      <td>2018-01-26</td>\n",
       "      <td>09:55:03</td>\n",
       "      <td>2018-01-26 09:55:03</td>\n",
       "      <td>Web_dev</td>\n",
       "      <td>US</td>\n",
       "    </tr>\n",
       "    <tr>\n",
       "      <th>2018-01-26 09:56:02</th>\n",
       "      <td>8.0</td>\n",
       "      <td>Hampton</td>\n",
       "      <td>2015-09-22</td>\n",
       "      <td>2016-02-06</td>\n",
       "      <td>1.0</td>\n",
       "      <td>1.0</td>\n",
       "      <td>java-ii</td>\n",
       "      <td>97.105.19.61</td>\n",
       "      <td>2018-01-26</td>\n",
       "      <td>09:56:02</td>\n",
       "      <td>2018-01-26 09:56:02</td>\n",
       "      <td>Web_dev</td>\n",
       "      <td>US</td>\n",
       "    </tr>\n",
       "    <tr>\n",
       "      <th>2018-01-26 09:56:05</th>\n",
       "      <td>8.0</td>\n",
       "      <td>Hampton</td>\n",
       "      <td>2015-09-22</td>\n",
       "      <td>2016-02-06</td>\n",
       "      <td>1.0</td>\n",
       "      <td>1.0</td>\n",
       "      <td>java-ii/object-oriented-programming</td>\n",
       "      <td>97.105.19.61</td>\n",
       "      <td>2018-01-26</td>\n",
       "      <td>09:56:05</td>\n",
       "      <td>2018-01-26 09:56:05</td>\n",
       "      <td>Web_dev</td>\n",
       "      <td>US</td>\n",
       "    </tr>\n",
       "    <tr>\n",
       "      <th>2018-01-26 09:56:06</th>\n",
       "      <td>8.0</td>\n",
       "      <td>Hampton</td>\n",
       "      <td>2015-09-22</td>\n",
       "      <td>2016-02-06</td>\n",
       "      <td>1.0</td>\n",
       "      <td>1.0</td>\n",
       "      <td>slides/object_oriented_programming</td>\n",
       "      <td>97.105.19.61</td>\n",
       "      <td>2018-01-26</td>\n",
       "      <td>09:56:06</td>\n",
       "      <td>2018-01-26 09:56:06</td>\n",
       "      <td>Web_dev</td>\n",
       "      <td>US</td>\n",
       "    </tr>\n",
       "    <tr>\n",
       "      <th>2018-01-26 09:56:24</th>\n",
       "      <td>22.0</td>\n",
       "      <td>Teddy</td>\n",
       "      <td>2018-01-08</td>\n",
       "      <td>2018-05-17</td>\n",
       "      <td>1.0</td>\n",
       "      <td>2.0</td>\n",
       "      <td>javascript-i/conditionals</td>\n",
       "      <td>97.105.19.61</td>\n",
       "      <td>2018-01-26</td>\n",
       "      <td>09:56:24</td>\n",
       "      <td>2018-01-26 09:56:24</td>\n",
       "      <td>Web_dev</td>\n",
       "      <td>US</td>\n",
       "    </tr>\n",
       "    <tr>\n",
       "      <th>...</th>\n",
       "      <td>...</td>\n",
       "      <td>...</td>\n",
       "      <td>...</td>\n",
       "      <td>...</td>\n",
       "      <td>...</td>\n",
       "      <td>...</td>\n",
       "      <td>...</td>\n",
       "      <td>...</td>\n",
       "      <td>...</td>\n",
       "      <td>...</td>\n",
       "      <td>...</td>\n",
       "      <td>...</td>\n",
       "      <td>...</td>\n",
       "    </tr>\n",
       "    <tr>\n",
       "      <th>2021-04-21 16:42:09</th>\n",
       "      <td>28.0</td>\n",
       "      <td>Staff</td>\n",
       "      <td>2014-02-04</td>\n",
       "      <td>2014-02-04</td>\n",
       "      <td>3.0</td>\n",
       "      <td>64.0</td>\n",
       "      <td>jquery/ajax/weather-map</td>\n",
       "      <td>71.150.217.33</td>\n",
       "      <td>2021-04-21</td>\n",
       "      <td>16:42:09</td>\n",
       "      <td>2021-04-21 16:42:09</td>\n",
       "      <td>Staff</td>\n",
       "      <td>test2</td>\n",
       "    </tr>\n",
       "    <tr>\n",
       "      <th>2021-04-21 16:44:37</th>\n",
       "      <td>28.0</td>\n",
       "      <td>Staff</td>\n",
       "      <td>2014-02-04</td>\n",
       "      <td>2014-02-04</td>\n",
       "      <td>3.0</td>\n",
       "      <td>744.0</td>\n",
       "      <td>anomaly-detection/discrete-probabilistic-methods</td>\n",
       "      <td>24.160.137.86</td>\n",
       "      <td>2021-04-21</td>\n",
       "      <td>16:44:37</td>\n",
       "      <td>2021-04-21 16:44:37</td>\n",
       "      <td>Staff</td>\n",
       "      <td>test2</td>\n",
       "    </tr>\n",
       "    <tr>\n",
       "      <th>2021-04-21 16:44:39</th>\n",
       "      <td>28.0</td>\n",
       "      <td>Staff</td>\n",
       "      <td>2014-02-04</td>\n",
       "      <td>2014-02-04</td>\n",
       "      <td>3.0</td>\n",
       "      <td>64.0</td>\n",
       "      <td>jquery/mapbox-api</td>\n",
       "      <td>71.150.217.33</td>\n",
       "      <td>2021-04-21</td>\n",
       "      <td>16:44:39</td>\n",
       "      <td>2021-04-21 16:44:39</td>\n",
       "      <td>Staff</td>\n",
       "      <td>test2</td>\n",
       "    </tr>\n",
       "    <tr>\n",
       "      <th>0</th>\n",
       "      <td>NaN</td>\n",
       "      <td>SHampton</td>\n",
       "      <td>NaT</td>\n",
       "      <td>NaT</td>\n",
       "      <td>NaN</td>\n",
       "      <td>NaN</td>\n",
       "      <td>NaN</td>\n",
       "      <td>NaN</td>\n",
       "      <td>NaT</td>\n",
       "      <td>NaN</td>\n",
       "      <td>NaT</td>\n",
       "      <td>NaN</td>\n",
       "      <td>test2</td>\n",
       "    </tr>\n",
       "    <tr>\n",
       "      <th>1</th>\n",
       "      <td>NaN</td>\n",
       "      <td>NaN</td>\n",
       "      <td>NaT</td>\n",
       "      <td>NaT</td>\n",
       "      <td>NaN</td>\n",
       "      <td>NaN</td>\n",
       "      <td>NaN</td>\n",
       "      <td>NaN</td>\n",
       "      <td>NaT</td>\n",
       "      <td>NaN</td>\n",
       "      <td>NaT</td>\n",
       "      <td>NaN</td>\n",
       "      <td>test2</td>\n",
       "    </tr>\n",
       "  </tbody>\n",
       "</table>\n",
       "<p>900225 rows × 13 columns</p>\n",
       "</div>"
      ],
      "text/plain": [
       "                     cohort_id      name start_date   end_date  program_id  \\\n",
       "date_time                                                                    \n",
       "2018-01-26 09:55:03        8.0   Hampton 2015-09-22 2016-02-06         1.0   \n",
       "2018-01-26 09:56:02        8.0   Hampton 2015-09-22 2016-02-06         1.0   \n",
       "2018-01-26 09:56:05        8.0   Hampton 2015-09-22 2016-02-06         1.0   \n",
       "2018-01-26 09:56:06        8.0   Hampton 2015-09-22 2016-02-06         1.0   \n",
       "2018-01-26 09:56:24       22.0     Teddy 2018-01-08 2018-05-17         1.0   \n",
       "...                        ...       ...        ...        ...         ...   \n",
       "2021-04-21 16:42:09       28.0     Staff 2014-02-04 2014-02-04         3.0   \n",
       "2021-04-21 16:44:37       28.0     Staff 2014-02-04 2014-02-04         3.0   \n",
       "2021-04-21 16:44:39       28.0     Staff 2014-02-04 2014-02-04         3.0   \n",
       "0                          NaN  SHampton        NaT        NaT         NaN   \n",
       "1                          NaN       NaN        NaT        NaT         NaN   \n",
       "\n",
       "                     user_id  \\\n",
       "date_time                      \n",
       "2018-01-26 09:55:03      1.0   \n",
       "2018-01-26 09:56:02      1.0   \n",
       "2018-01-26 09:56:05      1.0   \n",
       "2018-01-26 09:56:06      1.0   \n",
       "2018-01-26 09:56:24      2.0   \n",
       "...                      ...   \n",
       "2021-04-21 16:42:09     64.0   \n",
       "2021-04-21 16:44:37    744.0   \n",
       "2021-04-21 16:44:39     64.0   \n",
       "0                        NaN   \n",
       "1                        NaN   \n",
       "\n",
       "                                                                 path  \\\n",
       "date_time                                                               \n",
       "2018-01-26 09:55:03                                                 /   \n",
       "2018-01-26 09:56:02                                           java-ii   \n",
       "2018-01-26 09:56:05               java-ii/object-oriented-programming   \n",
       "2018-01-26 09:56:06                slides/object_oriented_programming   \n",
       "2018-01-26 09:56:24                         javascript-i/conditionals   \n",
       "...                                                               ...   \n",
       "2021-04-21 16:42:09                           jquery/ajax/weather-map   \n",
       "2021-04-21 16:44:37  anomaly-detection/discrete-probabilistic-methods   \n",
       "2021-04-21 16:44:39                                 jquery/mapbox-api   \n",
       "0                                                                 NaN   \n",
       "1                                                                 NaN   \n",
       "\n",
       "                                ip       date      time           date_time  \\\n",
       "date_time                                                                     \n",
       "2018-01-26 09:55:03   97.105.19.61 2018-01-26  09:55:03 2018-01-26 09:55:03   \n",
       "2018-01-26 09:56:02   97.105.19.61 2018-01-26  09:56:02 2018-01-26 09:56:02   \n",
       "2018-01-26 09:56:05   97.105.19.61 2018-01-26  09:56:05 2018-01-26 09:56:05   \n",
       "2018-01-26 09:56:06   97.105.19.61 2018-01-26  09:56:06 2018-01-26 09:56:06   \n",
       "2018-01-26 09:56:24   97.105.19.61 2018-01-26  09:56:24 2018-01-26 09:56:24   \n",
       "...                            ...        ...       ...                 ...   \n",
       "2021-04-21 16:42:09  71.150.217.33 2021-04-21  16:42:09 2021-04-21 16:42:09   \n",
       "2021-04-21 16:44:37  24.160.137.86 2021-04-21  16:44:37 2021-04-21 16:44:37   \n",
       "2021-04-21 16:44:39  71.150.217.33 2021-04-21  16:44:39 2021-04-21 16:44:39   \n",
       "0                              NaN        NaT       NaN                 NaT   \n",
       "1                              NaN        NaT       NaN                 NaT   \n",
       "\n",
       "                     program ip_origin_country  \n",
       "date_time                                       \n",
       "2018-01-26 09:55:03  Web_dev                US  \n",
       "2018-01-26 09:56:02  Web_dev                US  \n",
       "2018-01-26 09:56:05  Web_dev                US  \n",
       "2018-01-26 09:56:06  Web_dev                US  \n",
       "2018-01-26 09:56:24  Web_dev                US  \n",
       "...                      ...               ...  \n",
       "2021-04-21 16:42:09    Staff             test2  \n",
       "2021-04-21 16:44:37    Staff             test2  \n",
       "2021-04-21 16:44:39    Staff             test2  \n",
       "0                        NaN             test2  \n",
       "1                        NaN             test2  \n",
       "\n",
       "[900225 rows x 13 columns]"
      ]
     },
     "execution_count": 333,
     "metadata": {},
     "output_type": "execute_result"
    }
   ],
   "source": [
    "df"
   ]
  }
 ],
 "metadata": {
  "kernelspec": {
   "display_name": "Python 3 (ipykernel)",
   "language": "python",
   "name": "python3"
  },
  "language_info": {
   "codemirror_mode": {
    "name": "ipython",
    "version": 3
   },
   "file_extension": ".py",
   "mimetype": "text/x-python",
   "name": "python",
   "nbconvert_exporter": "python",
   "pygments_lexer": "ipython3",
   "version": "3.9.13"
  }
 },
 "nbformat": 4,
 "nbformat_minor": 5
}
