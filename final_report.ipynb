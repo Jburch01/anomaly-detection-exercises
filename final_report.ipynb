{
 "cells": [
  {
   "cell_type": "code",
   "execution_count": 1,
   "id": "73cde545-f549-4468-bcee-ce31b6efd099",
   "metadata": {},
   "outputs": [],
   "source": [
    "import pandas as pd\n",
    "import numpy as np\n",
    "\n",
    "import matplotlib.pyplot as plt\n",
    "import seaborn as sns\n",
    "from env import get_db_url\n",
    "\n",
    "# from ip2geotools.databases.noncommercial import DbIpCity"
   ]
  },
  {
   "cell_type": "markdown",
   "id": "7429e62e-4518-4bf1-b5eb-26a9d3852f37",
   "metadata": {},
   "source": [
    "# Notice:\n",
    "#### 1. \n",
    "A my_sql server with special access was used to obtain the data. If you have credentials then use the env_template.py to acquire the data. Instructions inside file. \n",
    "\n",
    "#### 2.\n",
    "There is an import that was used to create a csv called ip_origins. The code has been commented out and all that is need is to use the ip_origins.csv. If you would like to recreate the csv using the code here are the steps to do so. \n",
    "- pip install ip2geotools\n",
    "- un comment all of the code \n",
    "- run\n",
    "\n",
    "#### *Disclaimer* \n",
    "- The api that is used to create the csv was used with a free accesess key and will not do it in one go. It will take several days due the limitations of the free version. Which is why only about 1/3 of ip's were checked. "
   ]
  },
  {
   "cell_type": "markdown",
   "id": "8c938711-da4f-4865-acec-59a9a31a656b",
   "metadata": {},
   "source": [
    "## Acquire/Prep"
   ]
  },
  {
   "cell_type": "code",
   "execution_count": 2,
   "id": "f998782f-c8ac-4e97-bdc1-9616a966863c",
   "metadata": {},
   "outputs": [],
   "source": [
    "try:\n",
    "    df = pd.read_csv('logs.csv')\n",
    "except FileNotFoundError:\n",
    "    url = get_db_url('curriculum_logs')\n",
    "    query = \"select id, name, start_date, end_date, program_id, user_id, path, ip , date, time from cohorts right join logs on cohorts.id = logs.cohort_id\"\n",
    "    df = pd.read_sql(query, url)\n",
    "    df.to_csv('logs.csv', index=False)\n"
   ]
  },
  {
   "cell_type": "code",
   "execution_count": 3,
   "id": "8e1dc7bd-74ac-4684-88a6-6f483bec8ac9",
   "metadata": {},
   "outputs": [
    {
     "name": "stdout",
     "output_type": "stream",
     "text": [
      "<class 'pandas.core.frame.DataFrame'>\n",
      "RangeIndex: 900223 entries, 0 to 900222\n",
      "Data columns (total 10 columns):\n",
      " #   Column      Non-Null Count   Dtype  \n",
      "---  ------      --------------   -----  \n",
      " 0   id          847330 non-null  float64\n",
      " 1   name        847330 non-null  object \n",
      " 2   start_date  847330 non-null  object \n",
      " 3   end_date    847330 non-null  object \n",
      " 4   program_id  847330 non-null  float64\n",
      " 5   user_id     900223 non-null  int64  \n",
      " 6   path        900222 non-null  object \n",
      " 7   ip          900223 non-null  object \n",
      " 8   date        900223 non-null  object \n",
      " 9   time        900223 non-null  object \n",
      "dtypes: float64(2), int64(1), object(7)\n",
      "memory usage: 68.7+ MB\n"
     ]
    }
   ],
   "source": [
    "df.info()"
   ]
  },
  {
   "cell_type": "code",
   "execution_count": 4,
   "id": "aa37d2ee-98c6-4549-8dc5-592c319a3f99",
   "metadata": {},
   "outputs": [
    {
     "data": {
      "text/plain": [
       "id            52893\n",
       "name          52893\n",
       "start_date    52893\n",
       "end_date      52893\n",
       "program_id    52893\n",
       "user_id           0\n",
       "path              1\n",
       "ip                0\n",
       "date              0\n",
       "time              0\n",
       "dtype: int64"
      ]
     },
     "execution_count": 4,
     "metadata": {},
     "output_type": "execute_result"
    }
   ],
   "source": [
    "df.isna().sum()"
   ]
  },
  {
   "cell_type": "code",
   "execution_count": 5,
   "id": "1d948519-6582-4a5e-a7c4-103105222926",
   "metadata": {},
   "outputs": [
    {
     "data": {
      "text/html": [
       "<div>\n",
       "<style scoped>\n",
       "    .dataframe tbody tr th:only-of-type {\n",
       "        vertical-align: middle;\n",
       "    }\n",
       "\n",
       "    .dataframe tbody tr th {\n",
       "        vertical-align: top;\n",
       "    }\n",
       "\n",
       "    .dataframe thead th {\n",
       "        text-align: right;\n",
       "    }\n",
       "</style>\n",
       "<table border=\"1\" class=\"dataframe\">\n",
       "  <thead>\n",
       "    <tr style=\"text-align: right;\">\n",
       "      <th></th>\n",
       "      <th>id</th>\n",
       "      <th>name</th>\n",
       "      <th>start_date</th>\n",
       "      <th>end_date</th>\n",
       "      <th>program_id</th>\n",
       "      <th>user_id</th>\n",
       "      <th>path</th>\n",
       "      <th>ip</th>\n",
       "      <th>date</th>\n",
       "      <th>time</th>\n",
       "    </tr>\n",
       "  </thead>\n",
       "  <tbody>\n",
       "    <tr>\n",
       "      <th>0</th>\n",
       "      <td>8.0</td>\n",
       "      <td>Hampton</td>\n",
       "      <td>2015-09-22</td>\n",
       "      <td>2016-02-06</td>\n",
       "      <td>1.0</td>\n",
       "      <td>1</td>\n",
       "      <td>/</td>\n",
       "      <td>97.105.19.61</td>\n",
       "      <td>2018-01-26</td>\n",
       "      <td>09:55:03</td>\n",
       "    </tr>\n",
       "    <tr>\n",
       "      <th>1</th>\n",
       "      <td>8.0</td>\n",
       "      <td>Hampton</td>\n",
       "      <td>2015-09-22</td>\n",
       "      <td>2016-02-06</td>\n",
       "      <td>1.0</td>\n",
       "      <td>1</td>\n",
       "      <td>java-ii</td>\n",
       "      <td>97.105.19.61</td>\n",
       "      <td>2018-01-26</td>\n",
       "      <td>09:56:02</td>\n",
       "    </tr>\n",
       "    <tr>\n",
       "      <th>2</th>\n",
       "      <td>8.0</td>\n",
       "      <td>Hampton</td>\n",
       "      <td>2015-09-22</td>\n",
       "      <td>2016-02-06</td>\n",
       "      <td>1.0</td>\n",
       "      <td>1</td>\n",
       "      <td>java-ii/object-oriented-programming</td>\n",
       "      <td>97.105.19.61</td>\n",
       "      <td>2018-01-26</td>\n",
       "      <td>09:56:05</td>\n",
       "    </tr>\n",
       "    <tr>\n",
       "      <th>3</th>\n",
       "      <td>8.0</td>\n",
       "      <td>Hampton</td>\n",
       "      <td>2015-09-22</td>\n",
       "      <td>2016-02-06</td>\n",
       "      <td>1.0</td>\n",
       "      <td>1</td>\n",
       "      <td>slides/object_oriented_programming</td>\n",
       "      <td>97.105.19.61</td>\n",
       "      <td>2018-01-26</td>\n",
       "      <td>09:56:06</td>\n",
       "    </tr>\n",
       "    <tr>\n",
       "      <th>4</th>\n",
       "      <td>22.0</td>\n",
       "      <td>Teddy</td>\n",
       "      <td>2018-01-08</td>\n",
       "      <td>2018-05-17</td>\n",
       "      <td>2.0</td>\n",
       "      <td>2</td>\n",
       "      <td>javascript-i/conditionals</td>\n",
       "      <td>97.105.19.61</td>\n",
       "      <td>2018-01-26</td>\n",
       "      <td>09:56:24</td>\n",
       "    </tr>\n",
       "  </tbody>\n",
       "</table>\n",
       "</div>"
      ],
      "text/plain": [
       "     id     name  start_date    end_date  program_id  user_id  \\\n",
       "0   8.0  Hampton  2015-09-22  2016-02-06         1.0        1   \n",
       "1   8.0  Hampton  2015-09-22  2016-02-06         1.0        1   \n",
       "2   8.0  Hampton  2015-09-22  2016-02-06         1.0        1   \n",
       "3   8.0  Hampton  2015-09-22  2016-02-06         1.0        1   \n",
       "4  22.0    Teddy  2018-01-08  2018-05-17         2.0        2   \n",
       "\n",
       "                                  path            ip        date      time  \n",
       "0                                    /  97.105.19.61  2018-01-26  09:55:03  \n",
       "1                              java-ii  97.105.19.61  2018-01-26  09:56:02  \n",
       "2  java-ii/object-oriented-programming  97.105.19.61  2018-01-26  09:56:05  \n",
       "3   slides/object_oriented_programming  97.105.19.61  2018-01-26  09:56:06  \n",
       "4            javascript-i/conditionals  97.105.19.61  2018-01-26  09:56:24  "
      ]
     },
     "execution_count": 5,
     "metadata": {},
     "output_type": "execute_result"
    }
   ],
   "source": [
    "df.head()"
   ]
  },
  {
   "cell_type": "code",
   "execution_count": 6,
   "id": "071d2f35-a247-4720-a355-9a35480a7462",
   "metadata": {},
   "outputs": [],
   "source": [
    "df['date_time'] = df.date + ' ' + df.time"
   ]
  },
  {
   "cell_type": "code",
   "execution_count": 7,
   "id": "36bdf893-1045-4e6f-83dc-67a96eb526c4",
   "metadata": {
    "tags": []
   },
   "outputs": [],
   "source": [
    "df.date_time = pd.to_datetime(df.date_time)"
   ]
  },
  {
   "cell_type": "code",
   "execution_count": 8,
   "id": "e2436018-05bf-4acd-96bc-e619825b3d93",
   "metadata": {},
   "outputs": [
    {
     "data": {
      "text/html": [
       "<div>\n",
       "<style scoped>\n",
       "    .dataframe tbody tr th:only-of-type {\n",
       "        vertical-align: middle;\n",
       "    }\n",
       "\n",
       "    .dataframe tbody tr th {\n",
       "        vertical-align: top;\n",
       "    }\n",
       "\n",
       "    .dataframe thead th {\n",
       "        text-align: right;\n",
       "    }\n",
       "</style>\n",
       "<table border=\"1\" class=\"dataframe\">\n",
       "  <thead>\n",
       "    <tr style=\"text-align: right;\">\n",
       "      <th></th>\n",
       "      <th>id</th>\n",
       "      <th>name</th>\n",
       "      <th>start_date</th>\n",
       "      <th>end_date</th>\n",
       "      <th>program_id</th>\n",
       "      <th>user_id</th>\n",
       "      <th>path</th>\n",
       "      <th>ip</th>\n",
       "      <th>date</th>\n",
       "      <th>time</th>\n",
       "      <th>date_time</th>\n",
       "    </tr>\n",
       "  </thead>\n",
       "  <tbody>\n",
       "    <tr>\n",
       "      <th>0</th>\n",
       "      <td>8.0</td>\n",
       "      <td>Hampton</td>\n",
       "      <td>2015-09-22</td>\n",
       "      <td>2016-02-06</td>\n",
       "      <td>1.0</td>\n",
       "      <td>1</td>\n",
       "      <td>/</td>\n",
       "      <td>97.105.19.61</td>\n",
       "      <td>2018-01-26</td>\n",
       "      <td>09:55:03</td>\n",
       "      <td>2018-01-26 09:55:03</td>\n",
       "    </tr>\n",
       "    <tr>\n",
       "      <th>1</th>\n",
       "      <td>8.0</td>\n",
       "      <td>Hampton</td>\n",
       "      <td>2015-09-22</td>\n",
       "      <td>2016-02-06</td>\n",
       "      <td>1.0</td>\n",
       "      <td>1</td>\n",
       "      <td>java-ii</td>\n",
       "      <td>97.105.19.61</td>\n",
       "      <td>2018-01-26</td>\n",
       "      <td>09:56:02</td>\n",
       "      <td>2018-01-26 09:56:02</td>\n",
       "    </tr>\n",
       "    <tr>\n",
       "      <th>2</th>\n",
       "      <td>8.0</td>\n",
       "      <td>Hampton</td>\n",
       "      <td>2015-09-22</td>\n",
       "      <td>2016-02-06</td>\n",
       "      <td>1.0</td>\n",
       "      <td>1</td>\n",
       "      <td>java-ii/object-oriented-programming</td>\n",
       "      <td>97.105.19.61</td>\n",
       "      <td>2018-01-26</td>\n",
       "      <td>09:56:05</td>\n",
       "      <td>2018-01-26 09:56:05</td>\n",
       "    </tr>\n",
       "    <tr>\n",
       "      <th>3</th>\n",
       "      <td>8.0</td>\n",
       "      <td>Hampton</td>\n",
       "      <td>2015-09-22</td>\n",
       "      <td>2016-02-06</td>\n",
       "      <td>1.0</td>\n",
       "      <td>1</td>\n",
       "      <td>slides/object_oriented_programming</td>\n",
       "      <td>97.105.19.61</td>\n",
       "      <td>2018-01-26</td>\n",
       "      <td>09:56:06</td>\n",
       "      <td>2018-01-26 09:56:06</td>\n",
       "    </tr>\n",
       "    <tr>\n",
       "      <th>4</th>\n",
       "      <td>22.0</td>\n",
       "      <td>Teddy</td>\n",
       "      <td>2018-01-08</td>\n",
       "      <td>2018-05-17</td>\n",
       "      <td>2.0</td>\n",
       "      <td>2</td>\n",
       "      <td>javascript-i/conditionals</td>\n",
       "      <td>97.105.19.61</td>\n",
       "      <td>2018-01-26</td>\n",
       "      <td>09:56:24</td>\n",
       "      <td>2018-01-26 09:56:24</td>\n",
       "    </tr>\n",
       "  </tbody>\n",
       "</table>\n",
       "</div>"
      ],
      "text/plain": [
       "     id     name  start_date    end_date  program_id  user_id  \\\n",
       "0   8.0  Hampton  2015-09-22  2016-02-06         1.0        1   \n",
       "1   8.0  Hampton  2015-09-22  2016-02-06         1.0        1   \n",
       "2   8.0  Hampton  2015-09-22  2016-02-06         1.0        1   \n",
       "3   8.0  Hampton  2015-09-22  2016-02-06         1.0        1   \n",
       "4  22.0    Teddy  2018-01-08  2018-05-17         2.0        2   \n",
       "\n",
       "                                  path            ip        date      time  \\\n",
       "0                                    /  97.105.19.61  2018-01-26  09:55:03   \n",
       "1                              java-ii  97.105.19.61  2018-01-26  09:56:02   \n",
       "2  java-ii/object-oriented-programming  97.105.19.61  2018-01-26  09:56:05   \n",
       "3   slides/object_oriented_programming  97.105.19.61  2018-01-26  09:56:06   \n",
       "4            javascript-i/conditionals  97.105.19.61  2018-01-26  09:56:24   \n",
       "\n",
       "            date_time  \n",
       "0 2018-01-26 09:55:03  \n",
       "1 2018-01-26 09:56:02  \n",
       "2 2018-01-26 09:56:05  \n",
       "3 2018-01-26 09:56:06  \n",
       "4 2018-01-26 09:56:24  "
      ]
     },
     "execution_count": 8,
     "metadata": {},
     "output_type": "execute_result"
    }
   ],
   "source": [
    "df.head()"
   ]
  },
  {
   "cell_type": "code",
   "execution_count": 9,
   "id": "2303409a-397b-4c6a-81bc-2154bb5287d5",
   "metadata": {},
   "outputs": [
    {
     "name": "stdout",
     "output_type": "stream",
     "text": [
      "<class 'pandas.core.frame.DataFrame'>\n",
      "RangeIndex: 900223 entries, 0 to 900222\n",
      "Data columns (total 11 columns):\n",
      " #   Column      Non-Null Count   Dtype         \n",
      "---  ------      --------------   -----         \n",
      " 0   id          847330 non-null  float64       \n",
      " 1   name        847330 non-null  object        \n",
      " 2   start_date  847330 non-null  object        \n",
      " 3   end_date    847330 non-null  object        \n",
      " 4   program_id  847330 non-null  float64       \n",
      " 5   user_id     900223 non-null  int64         \n",
      " 6   path        900222 non-null  object        \n",
      " 7   ip          900223 non-null  object        \n",
      " 8   date        900223 non-null  object        \n",
      " 9   time        900223 non-null  object        \n",
      " 10  date_time   900223 non-null  datetime64[ns]\n",
      "dtypes: datetime64[ns](1), float64(2), int64(1), object(7)\n",
      "memory usage: 75.5+ MB\n"
     ]
    }
   ],
   "source": [
    "df.info()"
   ]
  },
  {
   "cell_type": "code",
   "execution_count": 10,
   "id": "3007484b-af3b-4cff-9f43-b946fb20f176",
   "metadata": {
    "tags": []
   },
   "outputs": [],
   "source": [
    "df.set_index(df.date_time, inplace=True)"
   ]
  },
  {
   "cell_type": "code",
   "execution_count": 11,
   "id": "1e1096c1-2a79-448e-9e61-cd9b87f1d042",
   "metadata": {},
   "outputs": [
    {
     "data": {
      "text/html": [
       "<div>\n",
       "<style scoped>\n",
       "    .dataframe tbody tr th:only-of-type {\n",
       "        vertical-align: middle;\n",
       "    }\n",
       "\n",
       "    .dataframe tbody tr th {\n",
       "        vertical-align: top;\n",
       "    }\n",
       "\n",
       "    .dataframe thead th {\n",
       "        text-align: right;\n",
       "    }\n",
       "</style>\n",
       "<table border=\"1\" class=\"dataframe\">\n",
       "  <thead>\n",
       "    <tr style=\"text-align: right;\">\n",
       "      <th></th>\n",
       "      <th>id</th>\n",
       "      <th>name</th>\n",
       "      <th>start_date</th>\n",
       "      <th>end_date</th>\n",
       "      <th>program_id</th>\n",
       "      <th>user_id</th>\n",
       "      <th>path</th>\n",
       "      <th>ip</th>\n",
       "      <th>date</th>\n",
       "    </tr>\n",
       "    <tr>\n",
       "      <th>date_time</th>\n",
       "      <th></th>\n",
       "      <th></th>\n",
       "      <th></th>\n",
       "      <th></th>\n",
       "      <th></th>\n",
       "      <th></th>\n",
       "      <th></th>\n",
       "      <th></th>\n",
       "      <th></th>\n",
       "    </tr>\n",
       "  </thead>\n",
       "  <tbody>\n",
       "    <tr>\n",
       "      <th>2018-01-26 09:55:03</th>\n",
       "      <td>8.0</td>\n",
       "      <td>Hampton</td>\n",
       "      <td>2015-09-22</td>\n",
       "      <td>2016-02-06</td>\n",
       "      <td>1.0</td>\n",
       "      <td>1</td>\n",
       "      <td>/</td>\n",
       "      <td>97.105.19.61</td>\n",
       "      <td>2018-01-26</td>\n",
       "    </tr>\n",
       "    <tr>\n",
       "      <th>2018-01-26 09:56:02</th>\n",
       "      <td>8.0</td>\n",
       "      <td>Hampton</td>\n",
       "      <td>2015-09-22</td>\n",
       "      <td>2016-02-06</td>\n",
       "      <td>1.0</td>\n",
       "      <td>1</td>\n",
       "      <td>java-ii</td>\n",
       "      <td>97.105.19.61</td>\n",
       "      <td>2018-01-26</td>\n",
       "    </tr>\n",
       "    <tr>\n",
       "      <th>2018-01-26 09:56:05</th>\n",
       "      <td>8.0</td>\n",
       "      <td>Hampton</td>\n",
       "      <td>2015-09-22</td>\n",
       "      <td>2016-02-06</td>\n",
       "      <td>1.0</td>\n",
       "      <td>1</td>\n",
       "      <td>java-ii/object-oriented-programming</td>\n",
       "      <td>97.105.19.61</td>\n",
       "      <td>2018-01-26</td>\n",
       "    </tr>\n",
       "    <tr>\n",
       "      <th>2018-01-26 09:56:06</th>\n",
       "      <td>8.0</td>\n",
       "      <td>Hampton</td>\n",
       "      <td>2015-09-22</td>\n",
       "      <td>2016-02-06</td>\n",
       "      <td>1.0</td>\n",
       "      <td>1</td>\n",
       "      <td>slides/object_oriented_programming</td>\n",
       "      <td>97.105.19.61</td>\n",
       "      <td>2018-01-26</td>\n",
       "    </tr>\n",
       "    <tr>\n",
       "      <th>2018-01-26 09:56:24</th>\n",
       "      <td>22.0</td>\n",
       "      <td>Teddy</td>\n",
       "      <td>2018-01-08</td>\n",
       "      <td>2018-05-17</td>\n",
       "      <td>2.0</td>\n",
       "      <td>2</td>\n",
       "      <td>javascript-i/conditionals</td>\n",
       "      <td>97.105.19.61</td>\n",
       "      <td>2018-01-26</td>\n",
       "    </tr>\n",
       "    <tr>\n",
       "      <th>...</th>\n",
       "      <td>...</td>\n",
       "      <td>...</td>\n",
       "      <td>...</td>\n",
       "      <td>...</td>\n",
       "      <td>...</td>\n",
       "      <td>...</td>\n",
       "      <td>...</td>\n",
       "      <td>...</td>\n",
       "      <td>...</td>\n",
       "    </tr>\n",
       "    <tr>\n",
       "      <th>2021-04-21 16:41:51</th>\n",
       "      <td>28.0</td>\n",
       "      <td>Staff</td>\n",
       "      <td>2014-02-04</td>\n",
       "      <td>2014-02-04</td>\n",
       "      <td>2.0</td>\n",
       "      <td>64</td>\n",
       "      <td>jquery/personal-site</td>\n",
       "      <td>71.150.217.33</td>\n",
       "      <td>2021-04-21</td>\n",
       "    </tr>\n",
       "    <tr>\n",
       "      <th>2021-04-21 16:42:02</th>\n",
       "      <td>28.0</td>\n",
       "      <td>Staff</td>\n",
       "      <td>2014-02-04</td>\n",
       "      <td>2014-02-04</td>\n",
       "      <td>2.0</td>\n",
       "      <td>64</td>\n",
       "      <td>jquery/mapbox-api</td>\n",
       "      <td>71.150.217.33</td>\n",
       "      <td>2021-04-21</td>\n",
       "    </tr>\n",
       "    <tr>\n",
       "      <th>2021-04-21 16:42:09</th>\n",
       "      <td>28.0</td>\n",
       "      <td>Staff</td>\n",
       "      <td>2014-02-04</td>\n",
       "      <td>2014-02-04</td>\n",
       "      <td>2.0</td>\n",
       "      <td>64</td>\n",
       "      <td>jquery/ajax/weather-map</td>\n",
       "      <td>71.150.217.33</td>\n",
       "      <td>2021-04-21</td>\n",
       "    </tr>\n",
       "    <tr>\n",
       "      <th>2021-04-21 16:44:37</th>\n",
       "      <td>28.0</td>\n",
       "      <td>Staff</td>\n",
       "      <td>2014-02-04</td>\n",
       "      <td>2014-02-04</td>\n",
       "      <td>2.0</td>\n",
       "      <td>744</td>\n",
       "      <td>anomaly-detection/discrete-probabilistic-methods</td>\n",
       "      <td>24.160.137.86</td>\n",
       "      <td>2021-04-21</td>\n",
       "    </tr>\n",
       "    <tr>\n",
       "      <th>2021-04-21 16:44:39</th>\n",
       "      <td>28.0</td>\n",
       "      <td>Staff</td>\n",
       "      <td>2014-02-04</td>\n",
       "      <td>2014-02-04</td>\n",
       "      <td>2.0</td>\n",
       "      <td>64</td>\n",
       "      <td>jquery/mapbox-api</td>\n",
       "      <td>71.150.217.33</td>\n",
       "      <td>2021-04-21</td>\n",
       "    </tr>\n",
       "  </tbody>\n",
       "</table>\n",
       "<p>900223 rows × 9 columns</p>\n",
       "</div>"
      ],
      "text/plain": [
       "                       id     name  start_date    end_date  program_id  \\\n",
       "date_time                                                                \n",
       "2018-01-26 09:55:03   8.0  Hampton  2015-09-22  2016-02-06         1.0   \n",
       "2018-01-26 09:56:02   8.0  Hampton  2015-09-22  2016-02-06         1.0   \n",
       "2018-01-26 09:56:05   8.0  Hampton  2015-09-22  2016-02-06         1.0   \n",
       "2018-01-26 09:56:06   8.0  Hampton  2015-09-22  2016-02-06         1.0   \n",
       "2018-01-26 09:56:24  22.0    Teddy  2018-01-08  2018-05-17         2.0   \n",
       "...                   ...      ...         ...         ...         ...   \n",
       "2021-04-21 16:41:51  28.0    Staff  2014-02-04  2014-02-04         2.0   \n",
       "2021-04-21 16:42:02  28.0    Staff  2014-02-04  2014-02-04         2.0   \n",
       "2021-04-21 16:42:09  28.0    Staff  2014-02-04  2014-02-04         2.0   \n",
       "2021-04-21 16:44:37  28.0    Staff  2014-02-04  2014-02-04         2.0   \n",
       "2021-04-21 16:44:39  28.0    Staff  2014-02-04  2014-02-04         2.0   \n",
       "\n",
       "                     user_id  \\\n",
       "date_time                      \n",
       "2018-01-26 09:55:03        1   \n",
       "2018-01-26 09:56:02        1   \n",
       "2018-01-26 09:56:05        1   \n",
       "2018-01-26 09:56:06        1   \n",
       "2018-01-26 09:56:24        2   \n",
       "...                      ...   \n",
       "2021-04-21 16:41:51       64   \n",
       "2021-04-21 16:42:02       64   \n",
       "2021-04-21 16:42:09       64   \n",
       "2021-04-21 16:44:37      744   \n",
       "2021-04-21 16:44:39       64   \n",
       "\n",
       "                                                                 path  \\\n",
       "date_time                                                               \n",
       "2018-01-26 09:55:03                                                 /   \n",
       "2018-01-26 09:56:02                                           java-ii   \n",
       "2018-01-26 09:56:05               java-ii/object-oriented-programming   \n",
       "2018-01-26 09:56:06                slides/object_oriented_programming   \n",
       "2018-01-26 09:56:24                         javascript-i/conditionals   \n",
       "...                                                               ...   \n",
       "2021-04-21 16:41:51                              jquery/personal-site   \n",
       "2021-04-21 16:42:02                                 jquery/mapbox-api   \n",
       "2021-04-21 16:42:09                           jquery/ajax/weather-map   \n",
       "2021-04-21 16:44:37  anomaly-detection/discrete-probabilistic-methods   \n",
       "2021-04-21 16:44:39                                 jquery/mapbox-api   \n",
       "\n",
       "                                ip        date  \n",
       "date_time                                       \n",
       "2018-01-26 09:55:03   97.105.19.61  2018-01-26  \n",
       "2018-01-26 09:56:02   97.105.19.61  2018-01-26  \n",
       "2018-01-26 09:56:05   97.105.19.61  2018-01-26  \n",
       "2018-01-26 09:56:06   97.105.19.61  2018-01-26  \n",
       "2018-01-26 09:56:24   97.105.19.61  2018-01-26  \n",
       "...                            ...         ...  \n",
       "2021-04-21 16:41:51  71.150.217.33  2021-04-21  \n",
       "2021-04-21 16:42:02  71.150.217.33  2021-04-21  \n",
       "2021-04-21 16:42:09  71.150.217.33  2021-04-21  \n",
       "2021-04-21 16:44:37  24.160.137.86  2021-04-21  \n",
       "2021-04-21 16:44:39  71.150.217.33  2021-04-21  \n",
       "\n",
       "[900223 rows x 9 columns]"
      ]
     },
     "execution_count": 11,
     "metadata": {},
     "output_type": "execute_result"
    }
   ],
   "source": [
    "df.drop(columns=['time', 'date_time'])"
   ]
  },
  {
   "cell_type": "code",
   "execution_count": 12,
   "id": "5b27aa34-7e57-441e-aca4-11a6e537651a",
   "metadata": {},
   "outputs": [],
   "source": [
    "df.loc[df['name'] == 'Staff', 'program_id'] = 5"
   ]
  },
  {
   "cell_type": "code",
   "execution_count": 13,
   "id": "37743f7a-a74f-4ea6-9e72-8aa68896056d",
   "metadata": {},
   "outputs": [
    {
     "data": {
      "text/html": [
       "<div>\n",
       "<style scoped>\n",
       "    .dataframe tbody tr th:only-of-type {\n",
       "        vertical-align: middle;\n",
       "    }\n",
       "\n",
       "    .dataframe tbody tr th {\n",
       "        vertical-align: top;\n",
       "    }\n",
       "\n",
       "    .dataframe thead th {\n",
       "        text-align: right;\n",
       "    }\n",
       "</style>\n",
       "<table border=\"1\" class=\"dataframe\">\n",
       "  <thead>\n",
       "    <tr style=\"text-align: right;\">\n",
       "      <th></th>\n",
       "      <th>id</th>\n",
       "      <th>name</th>\n",
       "      <th>start_date</th>\n",
       "      <th>end_date</th>\n",
       "      <th>program_id</th>\n",
       "      <th>user_id</th>\n",
       "      <th>path</th>\n",
       "      <th>ip</th>\n",
       "      <th>date</th>\n",
       "      <th>time</th>\n",
       "      <th>date_time</th>\n",
       "    </tr>\n",
       "    <tr>\n",
       "      <th>date_time</th>\n",
       "      <th></th>\n",
       "      <th></th>\n",
       "      <th></th>\n",
       "      <th></th>\n",
       "      <th></th>\n",
       "      <th></th>\n",
       "      <th></th>\n",
       "      <th></th>\n",
       "      <th></th>\n",
       "      <th></th>\n",
       "      <th></th>\n",
       "    </tr>\n",
       "  </thead>\n",
       "  <tbody>\n",
       "    <tr>\n",
       "      <th>2018-12-06 14:15:29</th>\n",
       "      <td>28.0</td>\n",
       "      <td>Staff</td>\n",
       "      <td>2014-02-04</td>\n",
       "      <td>2014-02-04</td>\n",
       "      <td>5.0</td>\n",
       "      <td>53</td>\n",
       "      <td>appendix/further-reading/java/intellij-tomcat-...</td>\n",
       "      <td>97.105.19.58</td>\n",
       "      <td>2018-12-06</td>\n",
       "      <td>14:15:29</td>\n",
       "      <td>2018-12-06 14:15:29</td>\n",
       "    </tr>\n",
       "    <tr>\n",
       "      <th>2018-12-06 14:25:40</th>\n",
       "      <td>28.0</td>\n",
       "      <td>Staff</td>\n",
       "      <td>2014-02-04</td>\n",
       "      <td>2014-02-04</td>\n",
       "      <td>5.0</td>\n",
       "      <td>314</td>\n",
       "      <td>javascript-i</td>\n",
       "      <td>97.105.19.58</td>\n",
       "      <td>2018-12-06</td>\n",
       "      <td>14:25:40</td>\n",
       "      <td>2018-12-06 14:25:40</td>\n",
       "    </tr>\n",
       "    <tr>\n",
       "      <th>2018-12-06 14:25:41</th>\n",
       "      <td>28.0</td>\n",
       "      <td>Staff</td>\n",
       "      <td>2014-02-04</td>\n",
       "      <td>2014-02-04</td>\n",
       "      <td>5.0</td>\n",
       "      <td>314</td>\n",
       "      <td>javascript-i/coffee-project</td>\n",
       "      <td>97.105.19.58</td>\n",
       "      <td>2018-12-06</td>\n",
       "      <td>14:25:41</td>\n",
       "      <td>2018-12-06 14:25:41</td>\n",
       "    </tr>\n",
       "    <tr>\n",
       "      <th>2018-12-06 15:31:29</th>\n",
       "      <td>28.0</td>\n",
       "      <td>Staff</td>\n",
       "      <td>2014-02-04</td>\n",
       "      <td>2014-02-04</td>\n",
       "      <td>5.0</td>\n",
       "      <td>40</td>\n",
       "      <td>spring</td>\n",
       "      <td>170.248.173.247</td>\n",
       "      <td>2018-12-06</td>\n",
       "      <td>15:31:29</td>\n",
       "      <td>2018-12-06 15:31:29</td>\n",
       "    </tr>\n",
       "    <tr>\n",
       "      <th>2018-12-06 15:31:33</th>\n",
       "      <td>28.0</td>\n",
       "      <td>Staff</td>\n",
       "      <td>2014-02-04</td>\n",
       "      <td>2014-02-04</td>\n",
       "      <td>5.0</td>\n",
       "      <td>40</td>\n",
       "      <td>spring/fundamentals/security</td>\n",
       "      <td>170.248.173.247</td>\n",
       "      <td>2018-12-06</td>\n",
       "      <td>15:31:33</td>\n",
       "      <td>2018-12-06 15:31:33</td>\n",
       "    </tr>\n",
       "    <tr>\n",
       "      <th>...</th>\n",
       "      <td>...</td>\n",
       "      <td>...</td>\n",
       "      <td>...</td>\n",
       "      <td>...</td>\n",
       "      <td>...</td>\n",
       "      <td>...</td>\n",
       "      <td>...</td>\n",
       "      <td>...</td>\n",
       "      <td>...</td>\n",
       "      <td>...</td>\n",
       "      <td>...</td>\n",
       "    </tr>\n",
       "    <tr>\n",
       "      <th>2021-04-21 16:41:51</th>\n",
       "      <td>28.0</td>\n",
       "      <td>Staff</td>\n",
       "      <td>2014-02-04</td>\n",
       "      <td>2014-02-04</td>\n",
       "      <td>5.0</td>\n",
       "      <td>64</td>\n",
       "      <td>jquery/personal-site</td>\n",
       "      <td>71.150.217.33</td>\n",
       "      <td>2021-04-21</td>\n",
       "      <td>16:41:51</td>\n",
       "      <td>2021-04-21 16:41:51</td>\n",
       "    </tr>\n",
       "    <tr>\n",
       "      <th>2021-04-21 16:42:02</th>\n",
       "      <td>28.0</td>\n",
       "      <td>Staff</td>\n",
       "      <td>2014-02-04</td>\n",
       "      <td>2014-02-04</td>\n",
       "      <td>5.0</td>\n",
       "      <td>64</td>\n",
       "      <td>jquery/mapbox-api</td>\n",
       "      <td>71.150.217.33</td>\n",
       "      <td>2021-04-21</td>\n",
       "      <td>16:42:02</td>\n",
       "      <td>2021-04-21 16:42:02</td>\n",
       "    </tr>\n",
       "    <tr>\n",
       "      <th>2021-04-21 16:42:09</th>\n",
       "      <td>28.0</td>\n",
       "      <td>Staff</td>\n",
       "      <td>2014-02-04</td>\n",
       "      <td>2014-02-04</td>\n",
       "      <td>5.0</td>\n",
       "      <td>64</td>\n",
       "      <td>jquery/ajax/weather-map</td>\n",
       "      <td>71.150.217.33</td>\n",
       "      <td>2021-04-21</td>\n",
       "      <td>16:42:09</td>\n",
       "      <td>2021-04-21 16:42:09</td>\n",
       "    </tr>\n",
       "    <tr>\n",
       "      <th>2021-04-21 16:44:37</th>\n",
       "      <td>28.0</td>\n",
       "      <td>Staff</td>\n",
       "      <td>2014-02-04</td>\n",
       "      <td>2014-02-04</td>\n",
       "      <td>5.0</td>\n",
       "      <td>744</td>\n",
       "      <td>anomaly-detection/discrete-probabilistic-methods</td>\n",
       "      <td>24.160.137.86</td>\n",
       "      <td>2021-04-21</td>\n",
       "      <td>16:44:37</td>\n",
       "      <td>2021-04-21 16:44:37</td>\n",
       "    </tr>\n",
       "    <tr>\n",
       "      <th>2021-04-21 16:44:39</th>\n",
       "      <td>28.0</td>\n",
       "      <td>Staff</td>\n",
       "      <td>2014-02-04</td>\n",
       "      <td>2014-02-04</td>\n",
       "      <td>5.0</td>\n",
       "      <td>64</td>\n",
       "      <td>jquery/mapbox-api</td>\n",
       "      <td>71.150.217.33</td>\n",
       "      <td>2021-04-21</td>\n",
       "      <td>16:44:39</td>\n",
       "      <td>2021-04-21 16:44:39</td>\n",
       "    </tr>\n",
       "  </tbody>\n",
       "</table>\n",
       "<p>84031 rows × 11 columns</p>\n",
       "</div>"
      ],
      "text/plain": [
       "                       id   name  start_date    end_date  program_id  user_id  \\\n",
       "date_time                                                                       \n",
       "2018-12-06 14:15:29  28.0  Staff  2014-02-04  2014-02-04         5.0       53   \n",
       "2018-12-06 14:25:40  28.0  Staff  2014-02-04  2014-02-04         5.0      314   \n",
       "2018-12-06 14:25:41  28.0  Staff  2014-02-04  2014-02-04         5.0      314   \n",
       "2018-12-06 15:31:29  28.0  Staff  2014-02-04  2014-02-04         5.0       40   \n",
       "2018-12-06 15:31:33  28.0  Staff  2014-02-04  2014-02-04         5.0       40   \n",
       "...                   ...    ...         ...         ...         ...      ...   \n",
       "2021-04-21 16:41:51  28.0  Staff  2014-02-04  2014-02-04         5.0       64   \n",
       "2021-04-21 16:42:02  28.0  Staff  2014-02-04  2014-02-04         5.0       64   \n",
       "2021-04-21 16:42:09  28.0  Staff  2014-02-04  2014-02-04         5.0       64   \n",
       "2021-04-21 16:44:37  28.0  Staff  2014-02-04  2014-02-04         5.0      744   \n",
       "2021-04-21 16:44:39  28.0  Staff  2014-02-04  2014-02-04         5.0       64   \n",
       "\n",
       "                                                                  path  \\\n",
       "date_time                                                                \n",
       "2018-12-06 14:15:29  appendix/further-reading/java/intellij-tomcat-...   \n",
       "2018-12-06 14:25:40                                       javascript-i   \n",
       "2018-12-06 14:25:41                        javascript-i/coffee-project   \n",
       "2018-12-06 15:31:29                                             spring   \n",
       "2018-12-06 15:31:33                       spring/fundamentals/security   \n",
       "...                                                                ...   \n",
       "2021-04-21 16:41:51                               jquery/personal-site   \n",
       "2021-04-21 16:42:02                                  jquery/mapbox-api   \n",
       "2021-04-21 16:42:09                            jquery/ajax/weather-map   \n",
       "2021-04-21 16:44:37   anomaly-detection/discrete-probabilistic-methods   \n",
       "2021-04-21 16:44:39                                  jquery/mapbox-api   \n",
       "\n",
       "                                  ip        date      time           date_time  \n",
       "date_time                                                                       \n",
       "2018-12-06 14:15:29     97.105.19.58  2018-12-06  14:15:29 2018-12-06 14:15:29  \n",
       "2018-12-06 14:25:40     97.105.19.58  2018-12-06  14:25:40 2018-12-06 14:25:40  \n",
       "2018-12-06 14:25:41     97.105.19.58  2018-12-06  14:25:41 2018-12-06 14:25:41  \n",
       "2018-12-06 15:31:29  170.248.173.247  2018-12-06  15:31:29 2018-12-06 15:31:29  \n",
       "2018-12-06 15:31:33  170.248.173.247  2018-12-06  15:31:33 2018-12-06 15:31:33  \n",
       "...                              ...         ...       ...                 ...  \n",
       "2021-04-21 16:41:51    71.150.217.33  2021-04-21  16:41:51 2021-04-21 16:41:51  \n",
       "2021-04-21 16:42:02    71.150.217.33  2021-04-21  16:42:02 2021-04-21 16:42:02  \n",
       "2021-04-21 16:42:09    71.150.217.33  2021-04-21  16:42:09 2021-04-21 16:42:09  \n",
       "2021-04-21 16:44:37    24.160.137.86  2021-04-21  16:44:37 2021-04-21 16:44:37  \n",
       "2021-04-21 16:44:39    71.150.217.33  2021-04-21  16:44:39 2021-04-21 16:44:39  \n",
       "\n",
       "[84031 rows x 11 columns]"
      ]
     },
     "execution_count": 13,
     "metadata": {},
     "output_type": "execute_result"
    }
   ],
   "source": [
    "df[df.name == \"Staff\"]"
   ]
  },
  {
   "cell_type": "code",
   "execution_count": 14,
   "id": "68df7c9c-600c-4f82-99cf-01a62e137246",
   "metadata": {},
   "outputs": [
    {
     "data": {
      "text/plain": [
       "2.0    629334\n",
       "3.0    103412\n",
       "5.0     84031\n",
       "1.0     30548\n",
       "4.0         5\n",
       "Name: program_id, dtype: int64"
      ]
     },
     "execution_count": 14,
     "metadata": {},
     "output_type": "execute_result"
    }
   ],
   "source": [
    "df.program_id.value_counts()"
   ]
  },
  {
   "cell_type": "code",
   "execution_count": 15,
   "id": "86724c14-b5db-4870-ba52-99106636c1ac",
   "metadata": {},
   "outputs": [
    {
     "data": {
      "text/html": [
       "<div>\n",
       "<style scoped>\n",
       "    .dataframe tbody tr th:only-of-type {\n",
       "        vertical-align: middle;\n",
       "    }\n",
       "\n",
       "    .dataframe tbody tr th {\n",
       "        vertical-align: top;\n",
       "    }\n",
       "\n",
       "    .dataframe thead th {\n",
       "        text-align: right;\n",
       "    }\n",
       "</style>\n",
       "<table border=\"1\" class=\"dataframe\">\n",
       "  <thead>\n",
       "    <tr style=\"text-align: right;\">\n",
       "      <th></th>\n",
       "      <th>id</th>\n",
       "      <th>name</th>\n",
       "      <th>start_date</th>\n",
       "      <th>end_date</th>\n",
       "      <th>program_id</th>\n",
       "      <th>user_id</th>\n",
       "      <th>path</th>\n",
       "      <th>ip</th>\n",
       "      <th>date</th>\n",
       "      <th>time</th>\n",
       "      <th>date_time</th>\n",
       "    </tr>\n",
       "    <tr>\n",
       "      <th>date_time</th>\n",
       "      <th></th>\n",
       "      <th></th>\n",
       "      <th></th>\n",
       "      <th></th>\n",
       "      <th></th>\n",
       "      <th></th>\n",
       "      <th></th>\n",
       "      <th></th>\n",
       "      <th></th>\n",
       "      <th></th>\n",
       "      <th></th>\n",
       "    </tr>\n",
       "  </thead>\n",
       "  <tbody>\n",
       "    <tr>\n",
       "      <th>2018-03-22 19:01:49</th>\n",
       "      <td>9.0</td>\n",
       "      <td>Apollo</td>\n",
       "      <td>2015-03-30</td>\n",
       "      <td>2015-07-29</td>\n",
       "      <td>4.0</td>\n",
       "      <td>152</td>\n",
       "      <td>/</td>\n",
       "      <td>207.68.209.17</td>\n",
       "      <td>2018-03-22</td>\n",
       "      <td>19:01:49</td>\n",
       "      <td>2018-03-22 19:01:49</td>\n",
       "    </tr>\n",
       "    <tr>\n",
       "      <th>2018-03-22 19:01:54</th>\n",
       "      <td>9.0</td>\n",
       "      <td>Apollo</td>\n",
       "      <td>2015-03-30</td>\n",
       "      <td>2015-07-29</td>\n",
       "      <td>4.0</td>\n",
       "      <td>152</td>\n",
       "      <td>content/html-css</td>\n",
       "      <td>207.68.209.17</td>\n",
       "      <td>2018-03-22</td>\n",
       "      <td>19:01:54</td>\n",
       "      <td>2018-03-22 19:01:54</td>\n",
       "    </tr>\n",
       "    <tr>\n",
       "      <th>2018-03-22 19:01:54</th>\n",
       "      <td>9.0</td>\n",
       "      <td>Apollo</td>\n",
       "      <td>2015-03-30</td>\n",
       "      <td>2015-07-29</td>\n",
       "      <td>4.0</td>\n",
       "      <td>152</td>\n",
       "      <td>content/html-css/gitbook/images/favicon.ico</td>\n",
       "      <td>207.68.209.17</td>\n",
       "      <td>2018-03-22</td>\n",
       "      <td>19:01:54</td>\n",
       "      <td>2018-03-22 19:01:54</td>\n",
       "    </tr>\n",
       "    <tr>\n",
       "      <th>2018-03-22 19:02:47</th>\n",
       "      <td>9.0</td>\n",
       "      <td>Apollo</td>\n",
       "      <td>2015-03-30</td>\n",
       "      <td>2015-07-29</td>\n",
       "      <td>4.0</td>\n",
       "      <td>152</td>\n",
       "      <td>content/html-css</td>\n",
       "      <td>207.68.209.17</td>\n",
       "      <td>2018-03-22</td>\n",
       "      <td>19:02:47</td>\n",
       "      <td>2018-03-22 19:02:47</td>\n",
       "    </tr>\n",
       "    <tr>\n",
       "      <th>2018-03-22 19:02:52</th>\n",
       "      <td>9.0</td>\n",
       "      <td>Apollo</td>\n",
       "      <td>2015-03-30</td>\n",
       "      <td>2015-07-29</td>\n",
       "      <td>4.0</td>\n",
       "      <td>152</td>\n",
       "      <td>content/html-css/introduction.html</td>\n",
       "      <td>207.68.209.17</td>\n",
       "      <td>2018-03-22</td>\n",
       "      <td>19:02:52</td>\n",
       "      <td>2018-03-22 19:02:52</td>\n",
       "    </tr>\n",
       "  </tbody>\n",
       "</table>\n",
       "</div>"
      ],
      "text/plain": [
       "                      id    name  start_date    end_date  program_id  user_id  \\\n",
       "date_time                                                                       \n",
       "2018-03-22 19:01:49  9.0  Apollo  2015-03-30  2015-07-29         4.0      152   \n",
       "2018-03-22 19:01:54  9.0  Apollo  2015-03-30  2015-07-29         4.0      152   \n",
       "2018-03-22 19:01:54  9.0  Apollo  2015-03-30  2015-07-29         4.0      152   \n",
       "2018-03-22 19:02:47  9.0  Apollo  2015-03-30  2015-07-29         4.0      152   \n",
       "2018-03-22 19:02:52  9.0  Apollo  2015-03-30  2015-07-29         4.0      152   \n",
       "\n",
       "                                                            path  \\\n",
       "date_time                                                          \n",
       "2018-03-22 19:01:49                                            /   \n",
       "2018-03-22 19:01:54                             content/html-css   \n",
       "2018-03-22 19:01:54  content/html-css/gitbook/images/favicon.ico   \n",
       "2018-03-22 19:02:47                             content/html-css   \n",
       "2018-03-22 19:02:52           content/html-css/introduction.html   \n",
       "\n",
       "                                ip        date      time           date_time  \n",
       "date_time                                                                     \n",
       "2018-03-22 19:01:49  207.68.209.17  2018-03-22  19:01:49 2018-03-22 19:01:49  \n",
       "2018-03-22 19:01:54  207.68.209.17  2018-03-22  19:01:54 2018-03-22 19:01:54  \n",
       "2018-03-22 19:01:54  207.68.209.17  2018-03-22  19:01:54 2018-03-22 19:01:54  \n",
       "2018-03-22 19:02:47  207.68.209.17  2018-03-22  19:02:47 2018-03-22 19:02:47  \n",
       "2018-03-22 19:02:52  207.68.209.17  2018-03-22  19:02:52 2018-03-22 19:02:52  "
      ]
     },
     "execution_count": 15,
     "metadata": {},
     "output_type": "execute_result"
    }
   ],
   "source": [
    "df[df.program_id == 4]"
   ]
  },
  {
   "cell_type": "code",
   "execution_count": 305,
   "id": "4083da24-8385-4776-8be0-af07afcdbc69",
   "metadata": {},
   "outputs": [
    {
     "name": "stderr",
     "output_type": "stream",
     "text": [
      "/var/folders/ng/82m_197x6jd7ysrq5l2vxd280000gn/T/ipykernel_32150/2718205872.py:1: UserWarning: This pattern is interpreted as a regular expression, and has match groups. To actually get the groups, use str.extract.\n",
      "  df[df.program_id == 1].path.str.contains('(javascript|java|html|css|jquery|object_oriented_programming)').value_counts()\n"
     ]
    },
    {
     "data": {
      "text/plain": [
       "True     432648\n",
       "False    227234\n",
       "Name: path, dtype: int64"
      ]
     },
     "execution_count": 305,
     "metadata": {},
     "output_type": "execute_result"
    }
   ],
   "source": [
    "df[df.program_id == 1].path.str.contains('(javascript|java|html|css|jquery|object_oriented_programming)').value_counts()\n"
   ]
  },
  {
   "cell_type": "markdown",
   "id": "c747ba5f-db61-409a-b68a-51602729fd78",
   "metadata": {},
   "source": [
    "- program_id 1 is most likely web_dev based on the amount of times that webdev curriculum courses are accesed"
   ]
  },
  {
   "cell_type": "code",
   "execution_count": 309,
   "id": "147e9d98-b218-4164-867e-d013d0e6882a",
   "metadata": {},
   "outputs": [
    {
     "name": "stderr",
     "output_type": "stream",
     "text": [
      "/var/folders/ng/82m_197x6jd7ysrq5l2vxd280000gn/T/ipykernel_32150/761621176.py:1: UserWarning: This pattern is interpreted as a regular expression, and has match groups. To actually get the groups, use str.extract.\n",
      "  df[df.program_id == 2].path.str.contains('(javascript|java|html|css|jquery|object_oriented_programming)').value_counts()\n"
     ]
    },
    {
     "data": {
      "text/plain": [
       "False    103086\n",
       "True        325\n",
       "Name: path, dtype: int64"
      ]
     },
     "execution_count": 309,
     "metadata": {},
     "output_type": "execute_result"
    }
   ],
   "source": [
    "df[df.program_id == 2].path.str.contains('(javascript|java|html|css|jquery|object_oriented_programming)').value_counts()"
   ]
  },
  {
   "cell_type": "markdown",
   "id": "a051d7f3-bcf6-43b8-804b-4802382606d0",
   "metadata": {},
   "source": [
    "- program_id 2 is most likely web_dev based on the amount of times that webdev curriculum courses are accesed"
   ]
  },
  {
   "cell_type": "code",
   "execution_count": 308,
   "id": "cee76b91-72be-42c0-9f35-a4216b28cf3c",
   "metadata": {},
   "outputs": [
    {
     "name": "stderr",
     "output_type": "stream",
     "text": [
      "/var/folders/ng/82m_197x6jd7ysrq5l2vxd280000gn/T/ipykernel_32150/654221564.py:1: UserWarning: This pattern is interpreted as a regular expression, and has match groups. To actually get the groups, use str.extract.\n",
      "  df[df.program_id == 3].path.str.contains('(javascript|java|html|css|jquery)').value_counts()\n"
     ]
    },
    {
     "data": {
      "text/plain": [
       "False    52290\n",
       "True     31741\n",
       "Name: path, dtype: int64"
      ]
     },
     "execution_count": 308,
     "metadata": {},
     "output_type": "execute_result"
    }
   ],
   "source": [
    "df[df.program_id == 3].path.str.contains('(javascript|java|html|css|jquery)').value_counts()"
   ]
  },
  {
   "cell_type": "code",
   "execution_count": 310,
   "id": "4f825584-c058-4f93-8051-3f6f56eba97b",
   "metadata": {},
   "outputs": [
    {
     "name": "stderr",
     "output_type": "stream",
     "text": [
      "/var/folders/ng/82m_197x6jd7ysrq5l2vxd280000gn/T/ipykernel_32150/154440998.py:1: UserWarning: This pattern is interpreted as a regular expression, and has match groups. To actually get the groups, use str.extract.\n",
      "  df[df.program_id == 4].path.str.contains('(javascript|java|html|css|jquery)').value_counts()\n"
     ]
    },
    {
     "data": {
      "text/plain": [
       "True     4\n",
       "False    1\n",
       "Name: path, dtype: int64"
      ]
     },
     "execution_count": 310,
     "metadata": {},
     "output_type": "execute_result"
    }
   ],
   "source": [
    "df[df.program_id == 4].path.str.contains('(javascript|java|html|css|jquery)').value_counts()"
   ]
  },
  {
   "cell_type": "code",
   "execution_count": 19,
   "id": "c29b428f-7796-4041-b5c2-6419aed33197",
   "metadata": {},
   "outputs": [
    {
     "name": "stderr",
     "output_type": "stream",
     "text": [
      "/var/folders/ng/82m_197x6jd7ysrq5l2vxd280000gn/T/ipykernel_32150/3745163319.py:1: UserWarning: This pattern is interpreted as a regular expression, and has match groups. To actually get the groups, use str.extract.\n",
      "  df[df.program_id == 5].path.str.contains('(javascript|java|html|css|jquery)').value_counts()\n"
     ]
    },
    {
     "data": {
      "text/plain": [
       "False    52290\n",
       "True     31741\n",
       "Name: path, dtype: int64"
      ]
     },
     "execution_count": 19,
     "metadata": {},
     "output_type": "execute_result"
    }
   ],
   "source": [
    "df[df.program_id == 5].path.str.contains('(javascript|java|html|css|jquery)').value_counts()"
   ]
  },
  {
   "cell_type": "markdown",
   "id": "2b5b78e7-057e-4808-a8b7-ff5bc73d344d",
   "metadata": {},
   "source": [
    "- program id 3 is most likely Data scicence based off the lack of webdev courses accesed.  "
   ]
  },
  {
   "cell_type": "code",
   "execution_count": 20,
   "id": "38dd0234-9dc0-4b41-a053-48c8bac68a81",
   "metadata": {},
   "outputs": [],
   "source": [
    "# takes program 1 and 2 and sets both to 1 for WEBDEV\n",
    "df.program_id = np.where((df.program_id == 1) | (df.program_id == 2), 1, df.program_id)"
   ]
  },
  {
   "cell_type": "code",
   "execution_count": 21,
   "id": "736b5698-d918-4773-a330-6d8187ef2bb4",
   "metadata": {},
   "outputs": [],
   "source": [
    "# takes program 3 and changes it to 2 for Data Science\n",
    "df.loc[df.program_id == 3, 'program_id'] = 2"
   ]
  },
  {
   "cell_type": "code",
   "execution_count": 22,
   "id": "a2768509-ae4f-4071-9783-29b18b9857c8",
   "metadata": {},
   "outputs": [],
   "source": [
    "# changes the staff program id to 3\n",
    "df.loc[df['name'] == 'Staff', 'program_id'] = 3"
   ]
  },
  {
   "cell_type": "markdown",
   "id": "8009f55e-3c20-400b-84c5-0dd180df9a7e",
   "metadata": {},
   "source": [
    "- program id 3 is staff \n",
    "- program id 4 is a random early student form 2015 that had accessed the curicculum again after the logs were being recorded "
   ]
  },
  {
   "cell_type": "code",
   "execution_count": 311,
   "id": "e4c0d33a-52a4-40c9-9448-65019def5085",
   "metadata": {},
   "outputs": [
    {
     "data": {
      "text/plain": [
       "1.0    659882\n",
       "2.0    103412\n",
       "3.0     84031\n",
       "0.0     52893\n",
       "4.0         5\n",
       "Name: program_id, dtype: int64"
      ]
     },
     "execution_count": 311,
     "metadata": {},
     "output_type": "execute_result"
    }
   ],
   "source": [
    "df.program_id.value_counts()"
   ]
  },
  {
   "cell_type": "code",
   "execution_count": 24,
   "id": "55f97b45-9b09-4bc9-a28f-5d0c1659b712",
   "metadata": {},
   "outputs": [],
   "source": [
    "conditions = [\n",
    "    df['program_id'] == 1,\n",
    "    df['program_id'] == 2,\n",
    "    df['program_id'] == 3\n",
    "]\n",
    "\n",
    "choices = [\n",
    "    'Web_dev',\n",
    "    'Data Science',\n",
    "    'Staff'\n",
    "]\n",
    "\n",
    "df['program'] = np.select(conditions, choices)\n",
    "    \n",
    "    "
   ]
  },
  {
   "cell_type": "code",
   "execution_count": 73,
   "id": "4e60aac7-4a85-4b57-bb6d-eb30c94be75e",
   "metadata": {},
   "outputs": [],
   "source": [
    "df.rename(columns={'id': 'cohort_id'}, inplace=True)"
   ]
  },
  {
   "cell_type": "code",
   "execution_count": 26,
   "id": "6c06db61-d234-456c-84fd-ce79dc25b082",
   "metadata": {},
   "outputs": [],
   "source": [
    "df.fillna(0, inplace=True)"
   ]
  },
  {
   "cell_type": "code",
   "execution_count": 27,
   "id": "7778ed67-3a70-42fa-ac1f-633e4568cbc4",
   "metadata": {},
   "outputs": [
    {
     "data": {
      "text/plain": [
       "id            0\n",
       "name          0\n",
       "start_date    0\n",
       "end_date      0\n",
       "program_id    0\n",
       "user_id       0\n",
       "path          0\n",
       "ip            0\n",
       "date          0\n",
       "time          0\n",
       "date_time     0\n",
       "program       0\n",
       "dtype: int64"
      ]
     },
     "execution_count": 27,
     "metadata": {},
     "output_type": "execute_result"
    }
   ],
   "source": [
    "df.isna().sum()"
   ]
  },
  {
   "cell_type": "markdown",
   "id": "8aa41772-dbbc-4217-8128-667c9dfc987c",
   "metadata": {},
   "source": [
    "#### Is there any suspicious activity, such as users/machines/etc accessing the curriculum who shouldn’t be? Does it appear that any web-scraping is happening? Are there any suspicious IP addresses?"
   ]
  },
  {
   "cell_type": "code",
   "execution_count": 506,
   "id": "8038f660-e319-44ce-b101-9761ecb8e022",
   "metadata": {},
   "outputs": [],
   "source": [
    "# df.ip.nunique()"
   ]
  },
  {
   "cell_type": "code",
   "execution_count": 29,
   "id": "403f1be4-bb94-4352-bb8e-28f06154e5c9",
   "metadata": {},
   "outputs": [],
   "source": [
    "# unique_ip = df['ip'].unique().tolist()"
   ]
  },
  {
   "cell_type": "code",
   "execution_count": 505,
   "id": "12cbb9f4-66b5-45ac-abed-1c82fcd09396",
   "metadata": {},
   "outputs": [],
   "source": [
    "# len(unique_ip)"
   ]
  },
  {
   "cell_type": "code",
   "execution_count": 190,
   "id": "75643929-b20a-4d05-9a53-96400f04da22",
   "metadata": {},
   "outputs": [],
   "source": [
    "# ip_dict = {}"
   ]
  },
  {
   "cell_type": "code",
   "execution_count": 493,
   "id": "8f437d86-fcfa-4db4-a50d-b92c597f06fb",
   "metadata": {},
   "outputs": [],
   "source": [
    "# for ip in unique_ip:\n",
    "#     if ip in ip_dict:\n",
    "#         pass\n",
    "#     else:\n",
    "#         response = DbIpCity.get(ip, api_key='free')\n",
    "#         ip_dict[ip] = response.country\n",
    " \n"
   ]
  },
  {
   "cell_type": "code",
   "execution_count": 504,
   "id": "989fcbe9-0bf1-459e-9d41-8900cc75546a",
   "metadata": {},
   "outputs": [],
   "source": [
    "# len(ip_dict)"
   ]
  },
  {
   "cell_type": "code",
   "execution_count": 502,
   "id": "df82a8b7-7463-421c-9a57-43fd0cee2a93",
   "metadata": {},
   "outputs": [],
   "source": [
    "# ip_orgins = pd.DataFrame.from_dict(ip_dict, orient='index', columns=['country']).reset_index()\n",
    "ip_orgins = pd.read_csv('ip_orgins.csv')"
   ]
  },
  {
   "cell_type": "code",
   "execution_count": 503,
   "id": "6cee110a-8bef-4439-ae05-346922a203d1",
   "metadata": {},
   "outputs": [
    {
     "data": {
      "text/html": [
       "<div>\n",
       "<style scoped>\n",
       "    .dataframe tbody tr th:only-of-type {\n",
       "        vertical-align: middle;\n",
       "    }\n",
       "\n",
       "    .dataframe tbody tr th {\n",
       "        vertical-align: top;\n",
       "    }\n",
       "\n",
       "    .dataframe thead th {\n",
       "        text-align: right;\n",
       "    }\n",
       "</style>\n",
       "<table border=\"1\" class=\"dataframe\">\n",
       "  <thead>\n",
       "    <tr style=\"text-align: right;\">\n",
       "      <th></th>\n",
       "      <th>ip</th>\n",
       "      <th>country</th>\n",
       "    </tr>\n",
       "  </thead>\n",
       "  <tbody>\n",
       "    <tr>\n",
       "      <th>0</th>\n",
       "      <td>97.105.19.61</td>\n",
       "      <td>US</td>\n",
       "    </tr>\n",
       "    <tr>\n",
       "      <th>1</th>\n",
       "      <td>71.137.146.71</td>\n",
       "      <td>US</td>\n",
       "    </tr>\n",
       "    <tr>\n",
       "      <th>2</th>\n",
       "      <td>209.205.123.242</td>\n",
       "      <td>US</td>\n",
       "    </tr>\n",
       "    <tr>\n",
       "      <th>3</th>\n",
       "      <td>192.171.117.210</td>\n",
       "      <td>US</td>\n",
       "    </tr>\n",
       "    <tr>\n",
       "      <th>4</th>\n",
       "      <td>12.189.101.90</td>\n",
       "      <td>US</td>\n",
       "    </tr>\n",
       "    <tr>\n",
       "      <th>...</th>\n",
       "      <td>...</td>\n",
       "      <td>...</td>\n",
       "    </tr>\n",
       "    <tr>\n",
       "      <th>1562</th>\n",
       "      <td>99.203.155.225</td>\n",
       "      <td>US</td>\n",
       "    </tr>\n",
       "    <tr>\n",
       "      <th>1563</th>\n",
       "      <td>107.77.219.51</td>\n",
       "      <td>US</td>\n",
       "    </tr>\n",
       "    <tr>\n",
       "      <th>1564</th>\n",
       "      <td>64.9.239.21</td>\n",
       "      <td>US</td>\n",
       "    </tr>\n",
       "    <tr>\n",
       "      <th>1565</th>\n",
       "      <td>99.203.154.30</td>\n",
       "      <td>US</td>\n",
       "    </tr>\n",
       "    <tr>\n",
       "      <th>1566</th>\n",
       "      <td>72.181.106.12</td>\n",
       "      <td>US</td>\n",
       "    </tr>\n",
       "  </tbody>\n",
       "</table>\n",
       "<p>1567 rows × 2 columns</p>\n",
       "</div>"
      ],
      "text/plain": [
       "                   ip country\n",
       "0        97.105.19.61      US\n",
       "1       71.137.146.71      US\n",
       "2     209.205.123.242      US\n",
       "3     192.171.117.210      US\n",
       "4       12.189.101.90      US\n",
       "...               ...     ...\n",
       "1562   99.203.155.225      US\n",
       "1563    107.77.219.51      US\n",
       "1564      64.9.239.21      US\n",
       "1565    99.203.154.30      US\n",
       "1566    72.181.106.12      US\n",
       "\n",
       "[1567 rows x 2 columns]"
      ]
     },
     "execution_count": 503,
     "metadata": {},
     "output_type": "execute_result"
    }
   ],
   "source": [
    "ip_orgins"
   ]
  },
  {
   "cell_type": "code",
   "execution_count": 400,
   "id": "22e5edd9-5f4d-4281-bdf6-96d5ee000ea2",
   "metadata": {},
   "outputs": [],
   "source": [
    "# ip_orgins.rename(columns={'index':'ip'},inplace=True)"
   ]
  },
  {
   "cell_type": "code",
   "execution_count": 501,
   "id": "306709e8-aa3c-4e11-9aa2-85516b68ae92",
   "metadata": {},
   "outputs": [],
   "source": [
    "# ip_orgins.to_csv('ip_orgins.csv',index=False)"
   ]
  },
  {
   "cell_type": "code",
   "execution_count": 408,
   "id": "916e7d12-4bc1-420c-bb3d-7922ec56039d",
   "metadata": {},
   "outputs": [],
   "source": [
    "sus_ip = ip_orgins[ip_orgins.country != 'US']"
   ]
  },
  {
   "cell_type": "code",
   "execution_count": 409,
   "id": "fc9895e6-76ed-4f7b-96cd-893b6affb7b3",
   "metadata": {},
   "outputs": [],
   "source": [
    "matching_ips = df['ip'].isin(sus_ip)"
   ]
  },
  {
   "cell_type": "code",
   "execution_count": 422,
   "id": "3c37b48c-d2df-43e7-90b4-6623efebf168",
   "metadata": {},
   "outputs": [],
   "source": [
    "sus_ip_activity = df[df['ip'].isin(sus_ip['ip'])]"
   ]
  },
  {
   "cell_type": "code",
   "execution_count": 429,
   "id": "07699f3e-993e-4620-a53d-cffc57b41298",
   "metadata": {},
   "outputs": [
    {
     "data": {
      "text/plain": [
       "/                                                              0.062977\n",
       "java-i/syntax-types-and-variables                              0.053435\n",
       "javascript-i                                                   0.036260\n",
       "javascript-ii                                                  0.032443\n",
       "javascript-ii/es6                                              0.030534\n",
       "                                                                 ...   \n",
       "content/javascript                                             0.001908\n",
       "content/javascript/objects/gitbook/images/favicon.ico          0.001908\n",
       "appendix/further-reading/java/intellij-tomcat-configuration    0.001908\n",
       "html-css/css-i/positioning                                     0.001908\n",
       "appendix/further-reading/javascript/array-splice               0.001908\n",
       "Name: path, Length: 125, dtype: float64"
      ]
     },
     "execution_count": 429,
     "metadata": {},
     "output_type": "execute_result"
    }
   ],
   "source": [
    "sus_ip_activity.path.value_counts(normalize=True).sort_values(ascending=False)"
   ]
  },
  {
   "cell_type": "markdown",
   "id": "f088c55d-e3cd-4acd-b22b-6add9c85343d",
   "metadata": {},
   "source": [
    "#### 1. Which lesson appears to attract the most traffic consistently across cohorts (per program)?"
   ]
  },
  {
   "cell_type": "code",
   "execution_count": 231,
   "id": "9695e731-0219-4c5d-bca9-84613966909b",
   "metadata": {},
   "outputs": [],
   "source": [
    "df2 = df[df.path != '/']"
   ]
  },
  {
   "cell_type": "code",
   "execution_count": 232,
   "id": "6f0996a5-18d7-4d9b-bb9e-1469a80d96a2",
   "metadata": {},
   "outputs": [],
   "source": [
    "cohort_path_visit_counts = df2.groupby(['cohort_id', 'path']).size().reset_index(name='visit_count')"
   ]
  },
  {
   "cell_type": "code",
   "execution_count": 234,
   "id": "89270558-ace8-44b1-bde1-e6cfb5ae1c1a",
   "metadata": {},
   "outputs": [
    {
     "data": {
      "text/plain": [
       "0        48434\n",
       "1        48434\n",
       "2        48434\n",
       "3        48434\n",
       "4        48434\n",
       "         ...  \n",
       "14625     1541\n",
       "14626     1541\n",
       "14627     1541\n",
       "14628     1541\n",
       "14629     1541\n",
       "Name: visit_count, Length: 14630, dtype: int64"
      ]
     },
     "execution_count": 234,
     "metadata": {},
     "output_type": "execute_result"
    }
   ],
   "source": [
    "cohort_total"
   ]
  },
  {
   "cell_type": "code",
   "execution_count": 235,
   "id": "885fbff1-7d48-4799-9c69-5054320cd809",
   "metadata": {},
   "outputs": [],
   "source": [
    "cohort_path_visit_counts['visits_precent'] = cohort_path_visit_counts.visit_count/cohort_total"
   ]
  },
  {
   "cell_type": "code",
   "execution_count": 241,
   "id": "eb87038f-ecc6-455e-a118-c841907dc2ff",
   "metadata": {},
   "outputs": [
    {
     "data": {
      "text/plain": [
       "path\n",
       "prework/versioning/github    0.167000\n",
       "prework/databases            0.067597\n",
       "content/html-css             0.029863\n",
       "mkdocs/search_index.json     0.026619\n",
       "javascript-i                 0.025642\n",
       "Name: visits_precent, dtype: float64"
      ]
     },
     "execution_count": 241,
     "metadata": {},
     "output_type": "execute_result"
    }
   ],
   "source": [
    "cohort_path_visit_counts.groupby('path').visits_precent.mean().sort_values(ascending=False).head()"
   ]
  },
  {
   "cell_type": "code",
   "execution_count": 242,
   "id": "d0c19c30-29c9-4d5e-844f-d9f2fc732b52",
   "metadata": {},
   "outputs": [],
   "source": [
    "program_path_visit_counts = df2.groupby(['program_id', 'path']).size().reset_index(name='visit_count')  "
   ]
  },
  {
   "cell_type": "code",
   "execution_count": 244,
   "id": "85a1b8fa-c53a-4189-a879-91f6dfbb0c52",
   "metadata": {},
   "outputs": [],
   "source": [
    "program_total = program_path_visit_counts.groupby('program_id').visit_count.transform('sum')"
   ]
  },
  {
   "cell_type": "code",
   "execution_count": 246,
   "id": "34a69074-fadc-4ede-bf48-b4fdb4897406",
   "metadata": {},
   "outputs": [],
   "source": [
    "program_path_visit_counts['visits_precent'] = program_path_visit_counts.visit_count/program_total"
   ]
  },
  {
   "cell_type": "code",
   "execution_count": 356,
   "id": "c480b9d2-c94d-436b-8dd4-778c2d64463c",
   "metadata": {},
   "outputs": [
    {
     "data": {
      "text/html": [
       "<div>\n",
       "<style scoped>\n",
       "    .dataframe tbody tr th:only-of-type {\n",
       "        vertical-align: middle;\n",
       "    }\n",
       "\n",
       "    .dataframe tbody tr th {\n",
       "        vertical-align: top;\n",
       "    }\n",
       "\n",
       "    .dataframe thead th {\n",
       "        text-align: right;\n",
       "    }\n",
       "</style>\n",
       "<table border=\"1\" class=\"dataframe\">\n",
       "  <thead>\n",
       "    <tr style=\"text-align: right;\">\n",
       "      <th></th>\n",
       "      <th>program_id</th>\n",
       "      <th>path</th>\n",
       "      <th>visit_count</th>\n",
       "      <th>visits_precent</th>\n",
       "    </tr>\n",
       "  </thead>\n",
       "  <tbody>\n",
       "    <tr>\n",
       "      <th>2378</th>\n",
       "      <td>1.0</td>\n",
       "      <td>toc</td>\n",
       "      <td>16669</td>\n",
       "      <td>0.026512</td>\n",
       "    </tr>\n",
       "    <tr>\n",
       "      <th>2083</th>\n",
       "      <td>1.0</td>\n",
       "      <td>javascript-i</td>\n",
       "      <td>16376</td>\n",
       "      <td>0.026046</td>\n",
       "    </tr>\n",
       "    <tr>\n",
       "      <th>2284</th>\n",
       "      <td>1.0</td>\n",
       "      <td>search/search_index.json</td>\n",
       "      <td>13982</td>\n",
       "      <td>0.022239</td>\n",
       "    </tr>\n",
       "    <tr>\n",
       "      <th>1970</th>\n",
       "      <td>1.0</td>\n",
       "      <td>html-css</td>\n",
       "      <td>11827</td>\n",
       "      <td>0.018811</td>\n",
       "    </tr>\n",
       "    <tr>\n",
       "      <th>2056</th>\n",
       "      <td>1.0</td>\n",
       "      <td>java-iii</td>\n",
       "      <td>11769</td>\n",
       "      <td>0.018719</td>\n",
       "    </tr>\n",
       "    <tr>\n",
       "      <th>...</th>\n",
       "      <td>...</td>\n",
       "      <td>...</td>\n",
       "      <td>...</td>\n",
       "      <td>...</td>\n",
       "    </tr>\n",
       "    <tr>\n",
       "      <th>1568</th>\n",
       "      <td>1.0</td>\n",
       "      <td>content/examples/appendix</td>\n",
       "      <td>1</td>\n",
       "      <td>0.000002</td>\n",
       "    </tr>\n",
       "    <tr>\n",
       "      <th>1566</th>\n",
       "      <td>1.0</td>\n",
       "      <td>content/control-structures-ii</td>\n",
       "      <td>1</td>\n",
       "      <td>0.000002</td>\n",
       "    </tr>\n",
       "    <tr>\n",
       "      <th>1564</th>\n",
       "      <td>1.0</td>\n",
       "      <td>content/conditionals.html</td>\n",
       "      <td>1</td>\n",
       "      <td>0.000002</td>\n",
       "    </tr>\n",
       "    <tr>\n",
       "      <th>1550</th>\n",
       "      <td>1.0</td>\n",
       "      <td>content/appendix/javascript/javascript/functio...</td>\n",
       "      <td>1</td>\n",
       "      <td>0.000002</td>\n",
       "    </tr>\n",
       "    <tr>\n",
       "      <th>2398</th>\n",
       "      <td>1.0</td>\n",
       "      <td>wp-login</td>\n",
       "      <td>1</td>\n",
       "      <td>0.000002</td>\n",
       "    </tr>\n",
       "  </tbody>\n",
       "</table>\n",
       "<p>1288 rows × 4 columns</p>\n",
       "</div>"
      ],
      "text/plain": [
       "      program_id                                               path  \\\n",
       "2378         1.0                                                toc   \n",
       "2083         1.0                                       javascript-i   \n",
       "2284         1.0                           search/search_index.json   \n",
       "1970         1.0                                           html-css   \n",
       "2056         1.0                                           java-iii   \n",
       "...          ...                                                ...   \n",
       "1568         1.0                          content/examples/appendix   \n",
       "1566         1.0                      content/control-structures-ii   \n",
       "1564         1.0                          content/conditionals.html   \n",
       "1550         1.0  content/appendix/javascript/javascript/functio...   \n",
       "2398         1.0                                           wp-login   \n",
       "\n",
       "      visit_count  visits_precent  \n",
       "2378        16669        0.026512  \n",
       "2083        16376        0.026046  \n",
       "2284        13982        0.022239  \n",
       "1970        11827        0.018811  \n",
       "2056        11769        0.018719  \n",
       "...           ...             ...  \n",
       "1568            1        0.000002  \n",
       "1566            1        0.000002  \n",
       "1564            1        0.000002  \n",
       "1550            1        0.000002  \n",
       "2398            1        0.000002  \n",
       "\n",
       "[1288 rows x 4 columns]"
      ]
     },
     "execution_count": 356,
     "metadata": {},
     "output_type": "execute_result"
    }
   ],
   "source": [
    "program_path_visit_counts[program_path_visit_counts.program_id == 1].sort_values(by='visits_precent', ascending=False)"
   ]
  },
  {
   "cell_type": "code",
   "execution_count": 357,
   "id": "8223af24-85a6-45e0-aa3e-a210f6987052",
   "metadata": {},
   "outputs": [
    {
     "data": {
      "text/html": [
       "<div>\n",
       "<style scoped>\n",
       "    .dataframe tbody tr th:only-of-type {\n",
       "        vertical-align: middle;\n",
       "    }\n",
       "\n",
       "    .dataframe tbody tr th {\n",
       "        vertical-align: top;\n",
       "    }\n",
       "\n",
       "    .dataframe thead th {\n",
       "        text-align: right;\n",
       "    }\n",
       "</style>\n",
       "<table border=\"1\" class=\"dataframe\">\n",
       "  <thead>\n",
       "    <tr style=\"text-align: right;\">\n",
       "      <th></th>\n",
       "      <th>program_id</th>\n",
       "      <th>path</th>\n",
       "      <th>visit_count</th>\n",
       "      <th>visits_precent</th>\n",
       "    </tr>\n",
       "  </thead>\n",
       "  <tbody>\n",
       "    <tr>\n",
       "      <th>2991</th>\n",
       "      <td>2.0</td>\n",
       "      <td>search/search_index.json</td>\n",
       "      <td>2203</td>\n",
       "      <td>0.023176</td>\n",
       "    </tr>\n",
       "    <tr>\n",
       "      <th>2796</th>\n",
       "      <td>2.0</td>\n",
       "      <td>classification/overview</td>\n",
       "      <td>1785</td>\n",
       "      <td>0.018779</td>\n",
       "    </tr>\n",
       "    <tr>\n",
       "      <th>2418</th>\n",
       "      <td>2.0</td>\n",
       "      <td>1-fundamentals/modern-data-scientist.jpg</td>\n",
       "      <td>1655</td>\n",
       "      <td>0.017411</td>\n",
       "    </tr>\n",
       "    <tr>\n",
       "      <th>2416</th>\n",
       "      <td>2.0</td>\n",
       "      <td>1-fundamentals/AI-ML-DL-timeline.jpg</td>\n",
       "      <td>1651</td>\n",
       "      <td>0.017369</td>\n",
       "    </tr>\n",
       "    <tr>\n",
       "      <th>2404</th>\n",
       "      <td>2.0</td>\n",
       "      <td>1-fundamentals/1.1-intro-to-data-science</td>\n",
       "      <td>1633</td>\n",
       "      <td>0.017180</td>\n",
       "    </tr>\n",
       "    <tr>\n",
       "      <th>...</th>\n",
       "      <td>...</td>\n",
       "      <td>...</td>\n",
       "      <td>...</td>\n",
       "      <td>...</td>\n",
       "    </tr>\n",
       "    <tr>\n",
       "      <th>2806</th>\n",
       "      <td>2.0</td>\n",
       "      <td>cli/4-navigating-the-filesystem</td>\n",
       "      <td>1</td>\n",
       "      <td>0.000011</td>\n",
       "    </tr>\n",
       "    <tr>\n",
       "      <th>2982</th>\n",
       "      <td>2.0</td>\n",
       "      <td>regression/project/null</td>\n",
       "      <td>1</td>\n",
       "      <td>0.000011</td>\n",
       "    </tr>\n",
       "    <tr>\n",
       "      <th>2825</th>\n",
       "      <td>2.0</td>\n",
       "      <td>creating-charts</td>\n",
       "      <td>1</td>\n",
       "      <td>0.000011</td>\n",
       "    </tr>\n",
       "    <tr>\n",
       "      <th>2828</th>\n",
       "      <td>2.0</td>\n",
       "      <td>curie-statistics-assessment</td>\n",
       "      <td>1</td>\n",
       "      <td>0.000011</td>\n",
       "    </tr>\n",
       "    <tr>\n",
       "      <th>2399</th>\n",
       "      <td>2.0</td>\n",
       "      <td>0</td>\n",
       "      <td>1</td>\n",
       "      <td>0.000011</td>\n",
       "    </tr>\n",
       "  </tbody>\n",
       "</table>\n",
       "<p>682 rows × 4 columns</p>\n",
       "</div>"
      ],
      "text/plain": [
       "      program_id                                      path  visit_count  \\\n",
       "2991         2.0                  search/search_index.json         2203   \n",
       "2796         2.0                   classification/overview         1785   \n",
       "2418         2.0  1-fundamentals/modern-data-scientist.jpg         1655   \n",
       "2416         2.0      1-fundamentals/AI-ML-DL-timeline.jpg         1651   \n",
       "2404         2.0  1-fundamentals/1.1-intro-to-data-science         1633   \n",
       "...          ...                                       ...          ...   \n",
       "2806         2.0           cli/4-navigating-the-filesystem            1   \n",
       "2982         2.0                   regression/project/null            1   \n",
       "2825         2.0                           creating-charts            1   \n",
       "2828         2.0               curie-statistics-assessment            1   \n",
       "2399         2.0                                         0            1   \n",
       "\n",
       "      visits_precent  \n",
       "2991        0.023176  \n",
       "2796        0.018779  \n",
       "2418        0.017411  \n",
       "2416        0.017369  \n",
       "2404        0.017180  \n",
       "...              ...  \n",
       "2806        0.000011  \n",
       "2982        0.000011  \n",
       "2825        0.000011  \n",
       "2828        0.000011  \n",
       "2399        0.000011  \n",
       "\n",
       "[682 rows x 4 columns]"
      ]
     },
     "execution_count": 357,
     "metadata": {},
     "output_type": "execute_result"
    }
   ],
   "source": [
    "program_path_visit_counts[program_path_visit_counts.program_id == 2].sort_values(by='visits_precent', ascending=False)"
   ]
  },
  {
   "cell_type": "code",
   "execution_count": 247,
   "id": "e988e2d9-6194-4956-a44c-23ef09e4abfa",
   "metadata": {},
   "outputs": [
    {
     "data": {
      "text/plain": [
       "path\n",
       "content/html-css                               0.125211\n",
       "content/html-css/gitbook/images/favicon.ico    0.062594\n",
       "content/html-css/introduction.html             0.062584\n",
       "search/search_index.json                       0.025941\n",
       "javascript-i                                   0.016411\n",
       "Name: visits_precent, dtype: float64"
      ]
     },
     "execution_count": 247,
     "metadata": {},
     "output_type": "execute_result"
    }
   ],
   "source": [
    "program_path_visit_counts.groupby('path').visits_precent.mean().sort_values(ascending=False).head()"
   ]
  },
  {
   "cell_type": "markdown",
   "id": "cb4c76a1-540e-4656-aa38-06cedb597189",
   "metadata": {
    "tags": []
   },
   "source": [
    "#### 2. Is there a cohort that referred to a lesson significantly more than other cohorts seemed to gloss over?"
   ]
  },
  {
   "cell_type": "code",
   "execution_count": null,
   "id": "078a6dde-ee73-4bb3-a1fd-3e958ff8a392",
   "metadata": {},
   "outputs": [],
   "source": []
  },
  {
   "cell_type": "markdown",
   "id": "ce85d362-7926-450e-b5da-2782c4ae24a5",
   "metadata": {},
   "source": [
    "#### 3. Are there students who, when active, hardly access the curriculum? If so, what information do you have about these students?"
   ]
  },
  {
   "cell_type": "code",
   "execution_count": 251,
   "id": "e270a427-3004-427f-8756-b013f8bcd63a",
   "metadata": {},
   "outputs": [],
   "source": [
    "df.end_date = pd.to_datetime(df.end_date)"
   ]
  },
  {
   "cell_type": "code",
   "execution_count": 261,
   "id": "c1660ed2-b346-4a6e-9a04-c12081b026d9",
   "metadata": {},
   "outputs": [],
   "source": [
    "df.start_date = pd.to_datetime(df.start_date)"
   ]
  },
  {
   "cell_type": "code",
   "execution_count": 263,
   "id": "69557ab8-6068-42d8-b20c-1ce487ee76d9",
   "metadata": {},
   "outputs": [],
   "source": [
    "active_entries = df[df.index < df.end_date]"
   ]
  },
  {
   "cell_type": "code",
   "execution_count": 266,
   "id": "9e0ce672-a829-4201-9fdb-beb53f5ce347",
   "metadata": {},
   "outputs": [],
   "source": [
    "total_user_entries = active_entries.groupby(['user_id']).path.count()"
   ]
  },
  {
   "cell_type": "code",
   "execution_count": 272,
   "id": "30d57dea-eeb9-4e35-822d-f15746c039cc",
   "metadata": {},
   "outputs": [],
   "source": [
    "unique_user_entries = active_entries.groupby(['user_id']).path.nunique()"
   ]
  },
  {
   "cell_type": "code",
   "execution_count": 270,
   "id": "8959108c-2851-43b9-95a0-8acbb40390db",
   "metadata": {},
   "outputs": [
    {
     "name": "stderr",
     "output_type": "stream",
     "text": [
      "/var/folders/ng/82m_197x6jd7ysrq5l2vxd280000gn/T/ipykernel_32150/3432496927.py:1: SettingWithCopyWarning: \n",
      "A value is trying to be set on a copy of a slice from a DataFrame.\n",
      "Try using .loc[row_indexer,col_indexer] = value instead\n",
      "\n",
      "See the caveats in the documentation: https://pandas.pydata.org/pandas-docs/stable/user_guide/indexing.html#returning-a-view-versus-a-copy\n",
      "  active_entries['duration'] = active_entries.end_date - active_entries.start_date\n"
     ]
    }
   ],
   "source": [
    "active_entries['duration'] = active_entries.end_date - active_entries.start_date"
   ]
  },
  {
   "cell_type": "code",
   "execution_count": 464,
   "id": "3165ce36-3eee-44a4-96a1-212df95c4602",
   "metadata": {},
   "outputs": [],
   "source": [
    "low_acivity_users = unique_user_entries.sort_values(ascending=True).head(40)"
   ]
  },
  {
   "cell_type": "code",
   "execution_count": 473,
   "id": "2efcf33a-9145-40c2-9420-4dc802856dca",
   "metadata": {},
   "outputs": [
    {
     "name": "stdout",
     "output_type": "stream",
     "text": [
      "918.0 1 0 days 16:59:56\n",
      "940.0 1 0 days 17:00:37\n",
      "619.0 1 0 days 14:10:17\n",
      "879.0 1 1 days 12:21:18\n",
      "278.0 3 121 days 14:59:07\n",
      "832.0 3 77 days 14:22:39\n",
      "956.0 4 3 days 15:32:22\n",
      "388.0 4 1 days 12:19:23\n",
      "679.0 5 1 days 08:05:15\n",
      "539.0 5 0 days 16:54:45\n",
      "812.0 6 166 days 01:46:07\n",
      "64.0 8 78 days 09:37:12\n",
      "889.0 9 8 days 10:26:19\n",
      "487.0 9 11 days 15:43:38\n",
      "968.0 9 8 days 15:25:42\n",
      "981.0 9 37 days 11:01:23\n",
      "772.0 9 2 days 14:54:20\n",
      "697.0 10 0 days 15:26:39\n",
      "340.0 10 0 days 18:45:22\n",
      "941.0 10 0 days 17:01:07\n",
      "963.0 10 8 days 11:30:29\n",
      "976.0 10 9 days 10:25:09\n",
      "572.0 11 1 days 16:13:23\n",
      "972.0 11 9 days 10:42:27\n",
      "965.0 12 8 days 21:12:55\n",
      "977.0 12 9 days 09:46:37\n",
      "964.0 12 9 days 09:36:56\n",
      "971.0 12 8 days 11:42:09\n",
      "961.0 12 8 days 12:04:53\n",
      "975.0 13 9 days 10:19:32\n",
      "967.0 13 9 days 09:44:12\n",
      "960.0 14 9 days 09:56:59\n",
      "957.0 14 9 days 10:28:26\n",
      "959.0 14 8 days 21:08:32\n",
      "973.0 15 9 days 10:26:14\n",
      "529.0 15 4 days 10:54:44\n",
      "49.0 16 131 days 09:08:24\n",
      "962.0 16 8 days 16:28:32\n",
      "41.0 16 134 days 15:17:24\n",
      "966.0 16 9 days 10:54:23\n"
     ]
    }
   ],
   "source": [
    "for index, value in low_acivity_users.items():\n",
    "    student_durration = active_entries[active_entries.user_id == index].index.max() - active_entries[active_entries.user_id == index].max().start_date\n",
    "    print(index, value, student_durration)"
   ]
  },
  {
   "cell_type": "markdown",
   "id": "f3dd0c4f-a78d-4298-ab4a-add8f642de2b",
   "metadata": {},
   "source": [
    "#### 5. At some point in 2019, the ability for students and alumni to access both curriculums (web dev to ds, ds to web dev) should have been shut off. Do you see any evidence of that happening? Did it happen before?"
   ]
  },
  {
   "cell_type": "code",
   "execution_count": null,
   "id": "70711903-10bb-4fc6-9070-f37b60cc983e",
   "metadata": {},
   "outputs": [],
   "source": [
    "df[df.program_id == 3].path.str.contains('(javascript|java|html|css|jquery)').value_counts()"
   ]
  },
  {
   "cell_type": "code",
   "execution_count": 312,
   "id": "ac614167-cd4b-40fe-9eed-abde38db0264",
   "metadata": {},
   "outputs": [
    {
     "name": "stderr",
     "output_type": "stream",
     "text": [
      "/var/folders/ng/82m_197x6jd7ysrq5l2vxd280000gn/T/ipykernel_32150/1515820089.py:1: UserWarning: This pattern is interpreted as a regular expression, and has match groups. To actually get the groups, use str.extract.\n",
      "  ds_students_webdev = df[(df.program == 'Data Science') & (df.path.str.contains('(javascript|java|html|css|jquery|object_oriented_programming)'))]\n"
     ]
    }
   ],
   "source": [
    "ds_students_webdev = df[(df.program == 'Data Science') & (df.path.str.contains('(javascript|java|html|css|jquery|object_oriented_programming)'))]"
   ]
  },
  {
   "cell_type": "code",
   "execution_count": 431,
   "id": "b67eed2f-a2e0-4b68-851b-ef7eba0fe1f5",
   "metadata": {},
   "outputs": [],
   "source": [
    "ds_students_webdev.index = pd.to_datetime(ds_students_webdev.index)"
   ]
  },
  {
   "cell_type": "code",
   "execution_count": 339,
   "id": "a51280b6-3414-4a6e-8c9b-a70f331858da",
   "metadata": {},
   "outputs": [
    {
     "data": {
      "image/png": "[encoded data removed]",
      "text/plain": [
       "<Figure size 640x480 with 1 Axes>"
      ]
     },
     "metadata": {},
     "output_type": "display_data"
    }
   ],
   "source": [
    "ds_students_webdev.path.resample('M').count().plot()\n",
    "plt.show()"
   ]
  },
  {
   "cell_type": "markdown",
   "id": "4089ae3b-7b0b-49af-9a51-997938b47c77",
   "metadata": {},
   "source": [
    "#### 6. What topics are grads continuing to reference after graduation and into their jobs (for each program)?"
   ]
  },
  {
   "cell_type": "markdown",
   "id": "dec10616-4303-4746-813e-31cbdba4c57a",
   "metadata": {},
   "source": [
    "#### 7. Which lessons are least accessed?"
   ]
  },
  {
   "cell_type": "code",
   "execution_count": 482,
   "id": "1dee92f2-1e7f-4d5a-b449-1f462b157922",
   "metadata": {},
   "outputs": [],
   "source": [
    "counts = df.groupby('path').size().sort_values(ascending=True)\n"
   ]
  },
  {
   "cell_type": "code",
   "execution_count": 487,
   "id": "697a8086-2f59-48f6-9b42-a7cf6f49b8fd",
   "metadata": {},
   "outputs": [
    {
     "data": {
      "text/plain": [
       "path\n",
       "11.00_Intro.md                                                      21\n",
       "content/php_ii/control-structures-i/while.html                      21\n",
       "python/working-with-files                                           21\n",
       "9-timeseries/3-acquire                                              21\n",
       "9-timeseries/working-with-time-series-data-with-pandas              21\n",
       "extra-challenges/mysql/mysql-extra-exercises                        21\n",
       "appendix/postwork/pdf-parser                                        21\n",
       "13._Storytelling                                                    21\n",
       "content/javascript/objects/math.html                                21\n",
       "content/javascript/arrays/gitbook/images/favicon.ico                21\n",
       "content/laravel/quickstart/seeders.html                             22\n",
       "9-timeseries/4-prep                                                 22\n",
       "content/php_i/intro-to-operators/gitbook/images/favicon.ico         22\n",
       "content/php_i/intro-to-operators/logical-operators.html             22\n",
       "12.3_Developing_Data_Products                                       22\n",
       "slides/alumni-tech-survey-2018                                      22\n",
       "content/html-css/css-ii/gitbook/images/favicon.ico                  22\n",
       "Classification_Project                                              22\n",
       "6-classification/2-intro-to-classification                          22\n",
       "4-python/custom-sorting-functions                                   22\n",
       "13.4_Present                                                        22\n",
       "content/php_i/types-and-variables-ii/constants.html                 22\n",
       "content/php_ii/command-line/gitbook/images/favicon.ico              22\n",
       "6-regression/ridge-regression                                       22\n",
       "mysql/intro-jdbc                                                    22\n",
       "appendix/professional-development/interview-questions-behavioral    22\n",
       "content/javascript_ii/map-filter-reduce.html                        22\n",
       "javascript-i/manipulating                                           22\n",
       "6-classification/6.1-logistic-regression                            22\n",
       "content/php_iv/php-with-mysql/prepared-statements.html              23\n",
       "content/php_iv/classes-and-objects-ii/inheritance.html              23\n",
       "content/git/working-in-teams.html                                   23\n",
       "9.5_DBSCAN_to_detect_anomalies                                      23\n",
       "12.02_Recommenders                                                  23\n",
       "content/php_ii/control-structures-i/if-continued.html               23\n",
       "9-anomaly-detection/exercises                                       23\n",
       "content/php_i/intro-to-operators/assignment-operators.html          23\n",
       "10.00_Intro.md                                                      23\n",
       "Model_NaiveBayes                                                    23\n",
       "spring/form-model-binding                                           23\n",
       "appendix/postwork/memory-game                                       23\n",
       "spring/views                                                        24\n",
       "content/mysql/intro-to-mysql/users.html                             24\n",
       "9-timeseries/6.2-prophet                                            24\n",
       "3-vocabulary.md                                                     24\n",
       "acquire                                                             24\n",
       "11.06.01_Model_TopicModeling                                        24\n",
       "appendix/further-reading/devtools-configuration                     24\n",
       "appendix/postwork/facebook-clone                                    24\n",
       "6-regression/2-regression-excel                                     24\n",
       "dtype: int64"
      ]
     },
     "execution_count": 487,
     "metadata": {},
     "output_type": "execute_result"
    }
   ],
   "source": [
    "less_than_50 = counts[(counts < 50) & (counts > 20)]\n",
    "less_than_50.head(50)"
   ]
  }
 ],
 "metadata": {
  "kernelspec": {
   "display_name": "Python 3 (ipykernel)",
   "language": "python",
   "name": "python3"
  },
  "language_info": {
   "codemirror_mode": {
    "name": "ipython",
    "version": 3
   },
   "file_extension": ".py",
   "mimetype": "text/x-python",
   "name": "python",
   "nbconvert_exporter": "python",
   "pygments_lexer": "ipython3",
   "version": "3.9.13"
  }
 },
 "nbformat": 4,
 "nbformat_minor": 5
}
