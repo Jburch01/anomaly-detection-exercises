{
 "cells": [
  {
   "cell_type": "code",
   "execution_count": 1,
   "id": "73cde545-f549-4468-bcee-ce31b6efd099",
   "metadata": {},
   "outputs": [],
   "source": [
    "import pandas as pd\n",
    "import numpy as np\n",
    "\n",
    "import matplotlib.pyplot as plt\n",
    "import seaborn as sns\n",
    "\n"
   ]
  },
  {
   "cell_type": "markdown",
   "id": "8c938711-da4f-4865-acec-59a9a31a656b",
   "metadata": {},
   "source": [
    "## Acquire/Prep"
   ]
  },
  {
   "cell_type": "code",
   "execution_count": 2,
   "id": "f998782f-c8ac-4e97-bdc1-9616a966863c",
   "metadata": {},
   "outputs": [],
   "source": [
    "# try:\n",
    "#     df = pd.read_csv('logs.csv')\n",
    "# except FileNotFoundError:\n",
    "#     url = get_db_url('curriculum_logs')\n",
    "#     query = \"select id, name, start_date, end_date, program_id, user_id, path, ip , date, time from cohorts right join logs on cohorts.id = logs.cohort_id\"\n",
    "#     df = pd.read_sql(query, url)\n",
    "#     df.to_csv('logs.csv', index=False)\n"
   ]
  },
  {
   "cell_type": "code",
   "execution_count": null,
   "id": "6e18ef95-6e5a-4226-8641-8c81ca8566b4",
   "metadata": {},
   "outputs": [],
   "source": [
    "df = w.get_prepped_data()"
   ]
  },
  {
   "cell_type": "code",
   "execution_count": 3,
   "id": "8e1dc7bd-74ac-4684-88a6-6f483bec8ac9",
   "metadata": {},
   "outputs": [
    {
     "name": "stdout",
     "output_type": "stream",
     "text": [
      "<class 'pandas.core.frame.DataFrame'>\n",
      "RangeIndex: 900223 entries, 0 to 900222\n",
      "Data columns (total 10 columns):\n",
      " #   Column      Non-Null Count   Dtype  \n",
      "---  ------      --------------   -----  \n",
      " 0   id          847330 non-null  float64\n",
      " 1   name        847330 non-null  object \n",
      " 2   start_date  847330 non-null  object \n",
      " 3   end_date    847330 non-null  object \n",
      " 4   program_id  847330 non-null  float64\n",
      " 5   user_id     900223 non-null  int64  \n",
      " 6   path        900222 non-null  object \n",
      " 7   ip          900223 non-null  object \n",
      " 8   date        900223 non-null  object \n",
      " 9   time        900223 non-null  object \n",
      "dtypes: float64(2), int64(1), object(7)\n",
      "memory usage: 68.7+ MB\n"
     ]
    }
   ],
   "source": [
    "df.info()"
   ]
  },
  {
   "cell_type": "code",
   "execution_count": 4,
   "id": "aa37d2ee-98c6-4549-8dc5-592c319a3f99",
   "metadata": {},
   "outputs": [
    {
     "data": {
      "text/plain": [
       "id            52893\n",
       "name          52893\n",
       "start_date    52893\n",
       "end_date      52893\n",
       "program_id    52893\n",
       "user_id           0\n",
       "path              1\n",
       "ip                0\n",
       "date              0\n",
       "time              0\n",
       "dtype: int64"
      ]
     },
     "execution_count": 4,
     "metadata": {},
     "output_type": "execute_result"
    }
   ],
   "source": [
    "df.isna().sum()"
   ]
  },
  {
   "cell_type": "code",
   "execution_count": 5,
   "id": "1d948519-6582-4a5e-a7c4-103105222926",
   "metadata": {},
   "outputs": [
    {
     "data": {
      "text/html": [
       "<div>\n",
       "<style scoped>\n",
       "    .dataframe tbody tr th:only-of-type {\n",
       "        vertical-align: middle;\n",
       "    }\n",
       "\n",
       "    .dataframe tbody tr th {\n",
       "        vertical-align: top;\n",
       "    }\n",
       "\n",
       "    .dataframe thead th {\n",
       "        text-align: right;\n",
       "    }\n",
       "</style>\n",
       "<table border=\"1\" class=\"dataframe\">\n",
       "  <thead>\n",
       "    <tr style=\"text-align: right;\">\n",
       "      <th></th>\n",
       "      <th>id</th>\n",
       "      <th>name</th>\n",
       "      <th>start_date</th>\n",
       "      <th>end_date</th>\n",
       "      <th>program_id</th>\n",
       "      <th>user_id</th>\n",
       "      <th>path</th>\n",
       "      <th>ip</th>\n",
       "      <th>date</th>\n",
       "      <th>time</th>\n",
       "    </tr>\n",
       "  </thead>\n",
       "  <tbody>\n",
       "    <tr>\n",
       "      <th>0</th>\n",
       "      <td>8.0</td>\n",
       "      <td>Hampton</td>\n",
       "      <td>2015-09-22</td>\n",
       "      <td>2016-02-06</td>\n",
       "      <td>1.0</td>\n",
       "      <td>1</td>\n",
       "      <td>/</td>\n",
       "      <td>97.105.19.61</td>\n",
       "      <td>2018-01-26</td>\n",
       "      <td>09:55:03</td>\n",
       "    </tr>\n",
       "    <tr>\n",
       "      <th>1</th>\n",
       "      <td>8.0</td>\n",
       "      <td>Hampton</td>\n",
       "      <td>2015-09-22</td>\n",
       "      <td>2016-02-06</td>\n",
       "      <td>1.0</td>\n",
       "      <td>1</td>\n",
       "      <td>java-ii</td>\n",
       "      <td>97.105.19.61</td>\n",
       "      <td>2018-01-26</td>\n",
       "      <td>09:56:02</td>\n",
       "    </tr>\n",
       "    <tr>\n",
       "      <th>2</th>\n",
       "      <td>8.0</td>\n",
       "      <td>Hampton</td>\n",
       "      <td>2015-09-22</td>\n",
       "      <td>2016-02-06</td>\n",
       "      <td>1.0</td>\n",
       "      <td>1</td>\n",
       "      <td>java-ii/object-oriented-programming</td>\n",
       "      <td>97.105.19.61</td>\n",
       "      <td>2018-01-26</td>\n",
       "      <td>09:56:05</td>\n",
       "    </tr>\n",
       "    <tr>\n",
       "      <th>3</th>\n",
       "      <td>8.0</td>\n",
       "      <td>Hampton</td>\n",
       "      <td>2015-09-22</td>\n",
       "      <td>2016-02-06</td>\n",
       "      <td>1.0</td>\n",
       "      <td>1</td>\n",
       "      <td>slides/object_oriented_programming</td>\n",
       "      <td>97.105.19.61</td>\n",
       "      <td>2018-01-26</td>\n",
       "      <td>09:56:06</td>\n",
       "    </tr>\n",
       "    <tr>\n",
       "      <th>4</th>\n",
       "      <td>22.0</td>\n",
       "      <td>Teddy</td>\n",
       "      <td>2018-01-08</td>\n",
       "      <td>2018-05-17</td>\n",
       "      <td>2.0</td>\n",
       "      <td>2</td>\n",
       "      <td>javascript-i/conditionals</td>\n",
       "      <td>97.105.19.61</td>\n",
       "      <td>2018-01-26</td>\n",
       "      <td>09:56:24</td>\n",
       "    </tr>\n",
       "  </tbody>\n",
       "</table>\n",
       "</div>"
      ],
      "text/plain": [
       "     id     name  start_date    end_date  program_id  user_id  \\\n",
       "0   8.0  Hampton  2015-09-22  2016-02-06         1.0        1   \n",
       "1   8.0  Hampton  2015-09-22  2016-02-06         1.0        1   \n",
       "2   8.0  Hampton  2015-09-22  2016-02-06         1.0        1   \n",
       "3   8.0  Hampton  2015-09-22  2016-02-06         1.0        1   \n",
       "4  22.0    Teddy  2018-01-08  2018-05-17         2.0        2   \n",
       "\n",
       "                                  path            ip        date      time  \n",
       "0                                    /  97.105.19.61  2018-01-26  09:55:03  \n",
       "1                              java-ii  97.105.19.61  2018-01-26  09:56:02  \n",
       "2  java-ii/object-oriented-programming  97.105.19.61  2018-01-26  09:56:05  \n",
       "3   slides/object_oriented_programming  97.105.19.61  2018-01-26  09:56:06  \n",
       "4            javascript-i/conditionals  97.105.19.61  2018-01-26  09:56:24  "
      ]
     },
     "execution_count": 5,
     "metadata": {},
     "output_type": "execute_result"
    }
   ],
   "source": [
    "df.head()"
   ]
  },
  {
   "cell_type": "code",
   "execution_count": 6,
   "id": "071d2f35-a247-4720-a355-9a35480a7462",
   "metadata": {},
   "outputs": [],
   "source": [
    "df['date_time'] = df.date + ' ' + df.time"
   ]
  },
  {
   "cell_type": "code",
   "execution_count": 7,
   "id": "36bdf893-1045-4e6f-83dc-67a96eb526c4",
   "metadata": {
    "tags": []
   },
   "outputs": [],
   "source": [
    "df.date_time = pd.to_datetime(df.date_time)"
   ]
  },
  {
   "cell_type": "code",
   "execution_count": 8,
   "id": "e2436018-05bf-4acd-96bc-e619825b3d93",
   "metadata": {},
   "outputs": [
    {
     "data": {
      "text/html": [
       "<div>\n",
       "<style scoped>\n",
       "    .dataframe tbody tr th:only-of-type {\n",
       "        vertical-align: middle;\n",
       "    }\n",
       "\n",
       "    .dataframe tbody tr th {\n",
       "        vertical-align: top;\n",
       "    }\n",
       "\n",
       "    .dataframe thead th {\n",
       "        text-align: right;\n",
       "    }\n",
       "</style>\n",
       "<table border=\"1\" class=\"dataframe\">\n",
       "  <thead>\n",
       "    <tr style=\"text-align: right;\">\n",
       "      <th></th>\n",
       "      <th>id</th>\n",
       "      <th>name</th>\n",
       "      <th>start_date</th>\n",
       "      <th>end_date</th>\n",
       "      <th>program_id</th>\n",
       "      <th>user_id</th>\n",
       "      <th>path</th>\n",
       "      <th>ip</th>\n",
       "      <th>date</th>\n",
       "      <th>time</th>\n",
       "      <th>date_time</th>\n",
       "    </tr>\n",
       "  </thead>\n",
       "  <tbody>\n",
       "    <tr>\n",
       "      <th>0</th>\n",
       "      <td>8.0</td>\n",
       "      <td>Hampton</td>\n",
       "      <td>2015-09-22</td>\n",
       "      <td>2016-02-06</td>\n",
       "      <td>1.0</td>\n",
       "      <td>1</td>\n",
       "      <td>/</td>\n",
       "      <td>97.105.19.61</td>\n",
       "      <td>2018-01-26</td>\n",
       "      <td>09:55:03</td>\n",
       "      <td>2018-01-26 09:55:03</td>\n",
       "    </tr>\n",
       "    <tr>\n",
       "      <th>1</th>\n",
       "      <td>8.0</td>\n",
       "      <td>Hampton</td>\n",
       "      <td>2015-09-22</td>\n",
       "      <td>2016-02-06</td>\n",
       "      <td>1.0</td>\n",
       "      <td>1</td>\n",
       "      <td>java-ii</td>\n",
       "      <td>97.105.19.61</td>\n",
       "      <td>2018-01-26</td>\n",
       "      <td>09:56:02</td>\n",
       "      <td>2018-01-26 09:56:02</td>\n",
       "    </tr>\n",
       "    <tr>\n",
       "      <th>2</th>\n",
       "      <td>8.0</td>\n",
       "      <td>Hampton</td>\n",
       "      <td>2015-09-22</td>\n",
       "      <td>2016-02-06</td>\n",
       "      <td>1.0</td>\n",
       "      <td>1</td>\n",
       "      <td>java-ii/object-oriented-programming</td>\n",
       "      <td>97.105.19.61</td>\n",
       "      <td>2018-01-26</td>\n",
       "      <td>09:56:05</td>\n",
       "      <td>2018-01-26 09:56:05</td>\n",
       "    </tr>\n",
       "    <tr>\n",
       "      <th>3</th>\n",
       "      <td>8.0</td>\n",
       "      <td>Hampton</td>\n",
       "      <td>2015-09-22</td>\n",
       "      <td>2016-02-06</td>\n",
       "      <td>1.0</td>\n",
       "      <td>1</td>\n",
       "      <td>slides/object_oriented_programming</td>\n",
       "      <td>97.105.19.61</td>\n",
       "      <td>2018-01-26</td>\n",
       "      <td>09:56:06</td>\n",
       "      <td>2018-01-26 09:56:06</td>\n",
       "    </tr>\n",
       "    <tr>\n",
       "      <th>4</th>\n",
       "      <td>22.0</td>\n",
       "      <td>Teddy</td>\n",
       "      <td>2018-01-08</td>\n",
       "      <td>2018-05-17</td>\n",
       "      <td>2.0</td>\n",
       "      <td>2</td>\n",
       "      <td>javascript-i/conditionals</td>\n",
       "      <td>97.105.19.61</td>\n",
       "      <td>2018-01-26</td>\n",
       "      <td>09:56:24</td>\n",
       "      <td>2018-01-26 09:56:24</td>\n",
       "    </tr>\n",
       "  </tbody>\n",
       "</table>\n",
       "</div>"
      ],
      "text/plain": [
       "     id     name  start_date    end_date  program_id  user_id  \\\n",
       "0   8.0  Hampton  2015-09-22  2016-02-06         1.0        1   \n",
       "1   8.0  Hampton  2015-09-22  2016-02-06         1.0        1   \n",
       "2   8.0  Hampton  2015-09-22  2016-02-06         1.0        1   \n",
       "3   8.0  Hampton  2015-09-22  2016-02-06         1.0        1   \n",
       "4  22.0    Teddy  2018-01-08  2018-05-17         2.0        2   \n",
       "\n",
       "                                  path            ip        date      time  \\\n",
       "0                                    /  97.105.19.61  2018-01-26  09:55:03   \n",
       "1                              java-ii  97.105.19.61  2018-01-26  09:56:02   \n",
       "2  java-ii/object-oriented-programming  97.105.19.61  2018-01-26  09:56:05   \n",
       "3   slides/object_oriented_programming  97.105.19.61  2018-01-26  09:56:06   \n",
       "4            javascript-i/conditionals  97.105.19.61  2018-01-26  09:56:24   \n",
       "\n",
       "            date_time  \n",
       "0 2018-01-26 09:55:03  \n",
       "1 2018-01-26 09:56:02  \n",
       "2 2018-01-26 09:56:05  \n",
       "3 2018-01-26 09:56:06  \n",
       "4 2018-01-26 09:56:24  "
      ]
     },
     "execution_count": 8,
     "metadata": {},
     "output_type": "execute_result"
    }
   ],
   "source": [
    "df.head()"
   ]
  },
  {
   "cell_type": "code",
   "execution_count": 9,
   "id": "2303409a-397b-4c6a-81bc-2154bb5287d5",
   "metadata": {},
   "outputs": [
    {
     "name": "stdout",
     "output_type": "stream",
     "text": [
      "<class 'pandas.core.frame.DataFrame'>\n",
      "RangeIndex: 900223 entries, 0 to 900222\n",
      "Data columns (total 11 columns):\n",
      " #   Column      Non-Null Count   Dtype         \n",
      "---  ------      --------------   -----         \n",
      " 0   id          847330 non-null  float64       \n",
      " 1   name        847330 non-null  object        \n",
      " 2   start_date  847330 non-null  object        \n",
      " 3   end_date    847330 non-null  object        \n",
      " 4   program_id  847330 non-null  float64       \n",
      " 5   user_id     900223 non-null  int64         \n",
      " 6   path        900222 non-null  object        \n",
      " 7   ip          900223 non-null  object        \n",
      " 8   date        900223 non-null  object        \n",
      " 9   time        900223 non-null  object        \n",
      " 10  date_time   900223 non-null  datetime64[ns]\n",
      "dtypes: datetime64[ns](1), float64(2), int64(1), object(7)\n",
      "memory usage: 75.5+ MB\n"
     ]
    }
   ],
   "source": [
    "df.info()"
   ]
  },
  {
   "cell_type": "code",
   "execution_count": 10,
   "id": "3007484b-af3b-4cff-9f43-b946fb20f176",
   "metadata": {
    "tags": []
   },
   "outputs": [],
   "source": [
    "df.set_index(df.date_time, inplace=True)"
   ]
  },
  {
   "cell_type": "code",
   "execution_count": 11,
   "id": "1e1096c1-2a79-448e-9e61-cd9b87f1d042",
   "metadata": {},
   "outputs": [
    {
     "data": {
      "text/html": [
       "<div>\n",
       "<style scoped>\n",
       "    .dataframe tbody tr th:only-of-type {\n",
       "        vertical-align: middle;\n",
       "    }\n",
       "\n",
       "    .dataframe tbody tr th {\n",
       "        vertical-align: top;\n",
       "    }\n",
       "\n",
       "    .dataframe thead th {\n",
       "        text-align: right;\n",
       "    }\n",
       "</style>\n",
       "<table border=\"1\" class=\"dataframe\">\n",
       "  <thead>\n",
       "    <tr style=\"text-align: right;\">\n",
       "      <th></th>\n",
       "      <th>id</th>\n",
       "      <th>name</th>\n",
       "      <th>start_date</th>\n",
       "      <th>end_date</th>\n",
       "      <th>program_id</th>\n",
       "      <th>user_id</th>\n",
       "      <th>path</th>\n",
       "      <th>ip</th>\n",
       "      <th>date</th>\n",
       "    </tr>\n",
       "    <tr>\n",
       "      <th>date_time</th>\n",
       "      <th></th>\n",
       "      <th></th>\n",
       "      <th></th>\n",
       "      <th></th>\n",
       "      <th></th>\n",
       "      <th></th>\n",
       "      <th></th>\n",
       "      <th></th>\n",
       "      <th></th>\n",
       "    </tr>\n",
       "  </thead>\n",
       "  <tbody>\n",
       "    <tr>\n",
       "      <th>2018-01-26 09:55:03</th>\n",
       "      <td>8.0</td>\n",
       "      <td>Hampton</td>\n",
       "      <td>2015-09-22</td>\n",
       "      <td>2016-02-06</td>\n",
       "      <td>1.0</td>\n",
       "      <td>1</td>\n",
       "      <td>/</td>\n",
       "      <td>97.105.19.61</td>\n",
       "      <td>2018-01-26</td>\n",
       "    </tr>\n",
       "    <tr>\n",
       "      <th>2018-01-26 09:56:02</th>\n",
       "      <td>8.0</td>\n",
       "      <td>Hampton</td>\n",
       "      <td>2015-09-22</td>\n",
       "      <td>2016-02-06</td>\n",
       "      <td>1.0</td>\n",
       "      <td>1</td>\n",
       "      <td>java-ii</td>\n",
       "      <td>97.105.19.61</td>\n",
       "      <td>2018-01-26</td>\n",
       "    </tr>\n",
       "    <tr>\n",
       "      <th>2018-01-26 09:56:05</th>\n",
       "      <td>8.0</td>\n",
       "      <td>Hampton</td>\n",
       "      <td>2015-09-22</td>\n",
       "      <td>2016-02-06</td>\n",
       "      <td>1.0</td>\n",
       "      <td>1</td>\n",
       "      <td>java-ii/object-oriented-programming</td>\n",
       "      <td>97.105.19.61</td>\n",
       "      <td>2018-01-26</td>\n",
       "    </tr>\n",
       "    <tr>\n",
       "      <th>2018-01-26 09:56:06</th>\n",
       "      <td>8.0</td>\n",
       "      <td>Hampton</td>\n",
       "      <td>2015-09-22</td>\n",
       "      <td>2016-02-06</td>\n",
       "      <td>1.0</td>\n",
       "      <td>1</td>\n",
       "      <td>slides/object_oriented_programming</td>\n",
       "      <td>97.105.19.61</td>\n",
       "      <td>2018-01-26</td>\n",
       "    </tr>\n",
       "    <tr>\n",
       "      <th>2018-01-26 09:56:24</th>\n",
       "      <td>22.0</td>\n",
       "      <td>Teddy</td>\n",
       "      <td>2018-01-08</td>\n",
       "      <td>2018-05-17</td>\n",
       "      <td>2.0</td>\n",
       "      <td>2</td>\n",
       "      <td>javascript-i/conditionals</td>\n",
       "      <td>97.105.19.61</td>\n",
       "      <td>2018-01-26</td>\n",
       "    </tr>\n",
       "    <tr>\n",
       "      <th>...</th>\n",
       "      <td>...</td>\n",
       "      <td>...</td>\n",
       "      <td>...</td>\n",
       "      <td>...</td>\n",
       "      <td>...</td>\n",
       "      <td>...</td>\n",
       "      <td>...</td>\n",
       "      <td>...</td>\n",
       "      <td>...</td>\n",
       "    </tr>\n",
       "    <tr>\n",
       "      <th>2021-04-21 16:41:51</th>\n",
       "      <td>28.0</td>\n",
       "      <td>Staff</td>\n",
       "      <td>2014-02-04</td>\n",
       "      <td>2014-02-04</td>\n",
       "      <td>2.0</td>\n",
       "      <td>64</td>\n",
       "      <td>jquery/personal-site</td>\n",
       "      <td>71.150.217.33</td>\n",
       "      <td>2021-04-21</td>\n",
       "    </tr>\n",
       "    <tr>\n",
       "      <th>2021-04-21 16:42:02</th>\n",
       "      <td>28.0</td>\n",
       "      <td>Staff</td>\n",
       "      <td>2014-02-04</td>\n",
       "      <td>2014-02-04</td>\n",
       "      <td>2.0</td>\n",
       "      <td>64</td>\n",
       "      <td>jquery/mapbox-api</td>\n",
       "      <td>71.150.217.33</td>\n",
       "      <td>2021-04-21</td>\n",
       "    </tr>\n",
       "    <tr>\n",
       "      <th>2021-04-21 16:42:09</th>\n",
       "      <td>28.0</td>\n",
       "      <td>Staff</td>\n",
       "      <td>2014-02-04</td>\n",
       "      <td>2014-02-04</td>\n",
       "      <td>2.0</td>\n",
       "      <td>64</td>\n",
       "      <td>jquery/ajax/weather-map</td>\n",
       "      <td>71.150.217.33</td>\n",
       "      <td>2021-04-21</td>\n",
       "    </tr>\n",
       "    <tr>\n",
       "      <th>2021-04-21 16:44:37</th>\n",
       "      <td>28.0</td>\n",
       "      <td>Staff</td>\n",
       "      <td>2014-02-04</td>\n",
       "      <td>2014-02-04</td>\n",
       "      <td>2.0</td>\n",
       "      <td>744</td>\n",
       "      <td>anomaly-detection/discrete-probabilistic-methods</td>\n",
       "      <td>24.160.137.86</td>\n",
       "      <td>2021-04-21</td>\n",
       "    </tr>\n",
       "    <tr>\n",
       "      <th>2021-04-21 16:44:39</th>\n",
       "      <td>28.0</td>\n",
       "      <td>Staff</td>\n",
       "      <td>2014-02-04</td>\n",
       "      <td>2014-02-04</td>\n",
       "      <td>2.0</td>\n",
       "      <td>64</td>\n",
       "      <td>jquery/mapbox-api</td>\n",
       "      <td>71.150.217.33</td>\n",
       "      <td>2021-04-21</td>\n",
       "    </tr>\n",
       "  </tbody>\n",
       "</table>\n",
       "<p>900223 rows × 9 columns</p>\n",
       "</div>"
      ],
      "text/plain": [
       "                       id     name  start_date    end_date  program_id  \\\n",
       "date_time                                                                \n",
       "2018-01-26 09:55:03   8.0  Hampton  2015-09-22  2016-02-06         1.0   \n",
       "2018-01-26 09:56:02   8.0  Hampton  2015-09-22  2016-02-06         1.0   \n",
       "2018-01-26 09:56:05   8.0  Hampton  2015-09-22  2016-02-06         1.0   \n",
       "2018-01-26 09:56:06   8.0  Hampton  2015-09-22  2016-02-06         1.0   \n",
       "2018-01-26 09:56:24  22.0    Teddy  2018-01-08  2018-05-17         2.0   \n",
       "...                   ...      ...         ...         ...         ...   \n",
       "2021-04-21 16:41:51  28.0    Staff  2014-02-04  2014-02-04         2.0   \n",
       "2021-04-21 16:42:02  28.0    Staff  2014-02-04  2014-02-04         2.0   \n",
       "2021-04-21 16:42:09  28.0    Staff  2014-02-04  2014-02-04         2.0   \n",
       "2021-04-21 16:44:37  28.0    Staff  2014-02-04  2014-02-04         2.0   \n",
       "2021-04-21 16:44:39  28.0    Staff  2014-02-04  2014-02-04         2.0   \n",
       "\n",
       "                     user_id  \\\n",
       "date_time                      \n",
       "2018-01-26 09:55:03        1   \n",
       "2018-01-26 09:56:02        1   \n",
       "2018-01-26 09:56:05        1   \n",
       "2018-01-26 09:56:06        1   \n",
       "2018-01-26 09:56:24        2   \n",
       "...                      ...   \n",
       "2021-04-21 16:41:51       64   \n",
       "2021-04-21 16:42:02       64   \n",
       "2021-04-21 16:42:09       64   \n",
       "2021-04-21 16:44:37      744   \n",
       "2021-04-21 16:44:39       64   \n",
       "\n",
       "                                                                 path  \\\n",
       "date_time                                                               \n",
       "2018-01-26 09:55:03                                                 /   \n",
       "2018-01-26 09:56:02                                           java-ii   \n",
       "2018-01-26 09:56:05               java-ii/object-oriented-programming   \n",
       "2018-01-26 09:56:06                slides/object_oriented_programming   \n",
       "2018-01-26 09:56:24                         javascript-i/conditionals   \n",
       "...                                                               ...   \n",
       "2021-04-21 16:41:51                              jquery/personal-site   \n",
       "2021-04-21 16:42:02                                 jquery/mapbox-api   \n",
       "2021-04-21 16:42:09                           jquery/ajax/weather-map   \n",
       "2021-04-21 16:44:37  anomaly-detection/discrete-probabilistic-methods   \n",
       "2021-04-21 16:44:39                                 jquery/mapbox-api   \n",
       "\n",
       "                                ip        date  \n",
       "date_time                                       \n",
       "2018-01-26 09:55:03   97.105.19.61  2018-01-26  \n",
       "2018-01-26 09:56:02   97.105.19.61  2018-01-26  \n",
       "2018-01-26 09:56:05   97.105.19.61  2018-01-26  \n",
       "2018-01-26 09:56:06   97.105.19.61  2018-01-26  \n",
       "2018-01-26 09:56:24   97.105.19.61  2018-01-26  \n",
       "...                            ...         ...  \n",
       "2021-04-21 16:41:51  71.150.217.33  2021-04-21  \n",
       "2021-04-21 16:42:02  71.150.217.33  2021-04-21  \n",
       "2021-04-21 16:42:09  71.150.217.33  2021-04-21  \n",
       "2021-04-21 16:44:37  24.160.137.86  2021-04-21  \n",
       "2021-04-21 16:44:39  71.150.217.33  2021-04-21  \n",
       "\n",
       "[900223 rows x 9 columns]"
      ]
     },
     "execution_count": 11,
     "metadata": {},
     "output_type": "execute_result"
    }
   ],
   "source": [
    "df.drop(columns=['time', 'date_time'])"
   ]
  },
  {
   "cell_type": "code",
   "execution_count": 12,
   "id": "5b27aa34-7e57-441e-aca4-11a6e537651a",
   "metadata": {},
   "outputs": [],
   "source": [
    "df.loc[df['name'] == 'Staff', 'program_id'] = 5"
   ]
  },
  {
   "cell_type": "code",
   "execution_count": 13,
   "id": "37743f7a-a74f-4ea6-9e72-8aa68896056d",
   "metadata": {},
   "outputs": [
    {
     "data": {
      "text/html": [
       "<div>\n",
       "<style scoped>\n",
       "    .dataframe tbody tr th:only-of-type {\n",
       "        vertical-align: middle;\n",
       "    }\n",
       "\n",
       "    .dataframe tbody tr th {\n",
       "        vertical-align: top;\n",
       "    }\n",
       "\n",
       "    .dataframe thead th {\n",
       "        text-align: right;\n",
       "    }\n",
       "</style>\n",
       "<table border=\"1\" class=\"dataframe\">\n",
       "  <thead>\n",
       "    <tr style=\"text-align: right;\">\n",
       "      <th></th>\n",
       "      <th>id</th>\n",
       "      <th>name</th>\n",
       "      <th>start_date</th>\n",
       "      <th>end_date</th>\n",
       "      <th>program_id</th>\n",
       "      <th>user_id</th>\n",
       "      <th>path</th>\n",
       "      <th>ip</th>\n",
       "      <th>date</th>\n",
       "      <th>time</th>\n",
       "      <th>date_time</th>\n",
       "    </tr>\n",
       "    <tr>\n",
       "      <th>date_time</th>\n",
       "      <th></th>\n",
       "      <th></th>\n",
       "      <th></th>\n",
       "      <th></th>\n",
       "      <th></th>\n",
       "      <th></th>\n",
       "      <th></th>\n",
       "      <th></th>\n",
       "      <th></th>\n",
       "      <th></th>\n",
       "      <th></th>\n",
       "    </tr>\n",
       "  </thead>\n",
       "  <tbody>\n",
       "    <tr>\n",
       "      <th>2018-12-06 14:15:29</th>\n",
       "      <td>28.0</td>\n",
       "      <td>Staff</td>\n",
       "      <td>2014-02-04</td>\n",
       "      <td>2014-02-04</td>\n",
       "      <td>5.0</td>\n",
       "      <td>53</td>\n",
       "      <td>appendix/further-reading/java/intellij-tomcat-...</td>\n",
       "      <td>97.105.19.58</td>\n",
       "      <td>2018-12-06</td>\n",
       "      <td>14:15:29</td>\n",
       "      <td>2018-12-06 14:15:29</td>\n",
       "    </tr>\n",
       "    <tr>\n",
       "      <th>2018-12-06 14:25:40</th>\n",
       "      <td>28.0</td>\n",
       "      <td>Staff</td>\n",
       "      <td>2014-02-04</td>\n",
       "      <td>2014-02-04</td>\n",
       "      <td>5.0</td>\n",
       "      <td>314</td>\n",
       "      <td>javascript-i</td>\n",
       "      <td>97.105.19.58</td>\n",
       "      <td>2018-12-06</td>\n",
       "      <td>14:25:40</td>\n",
       "      <td>2018-12-06 14:25:40</td>\n",
       "    </tr>\n",
       "    <tr>\n",
       "      <th>2018-12-06 14:25:41</th>\n",
       "      <td>28.0</td>\n",
       "      <td>Staff</td>\n",
       "      <td>2014-02-04</td>\n",
       "      <td>2014-02-04</td>\n",
       "      <td>5.0</td>\n",
       "      <td>314</td>\n",
       "      <td>javascript-i/coffee-project</td>\n",
       "      <td>97.105.19.58</td>\n",
       "      <td>2018-12-06</td>\n",
       "      <td>14:25:41</td>\n",
       "      <td>2018-12-06 14:25:41</td>\n",
       "    </tr>\n",
       "    <tr>\n",
       "      <th>2018-12-06 15:31:29</th>\n",
       "      <td>28.0</td>\n",
       "      <td>Staff</td>\n",
       "      <td>2014-02-04</td>\n",
       "      <td>2014-02-04</td>\n",
       "      <td>5.0</td>\n",
       "      <td>40</td>\n",
       "      <td>spring</td>\n",
       "      <td>170.248.173.247</td>\n",
       "      <td>2018-12-06</td>\n",
       "      <td>15:31:29</td>\n",
       "      <td>2018-12-06 15:31:29</td>\n",
       "    </tr>\n",
       "    <tr>\n",
       "      <th>2018-12-06 15:31:33</th>\n",
       "      <td>28.0</td>\n",
       "      <td>Staff</td>\n",
       "      <td>2014-02-04</td>\n",
       "      <td>2014-02-04</td>\n",
       "      <td>5.0</td>\n",
       "      <td>40</td>\n",
       "      <td>spring/fundamentals/security</td>\n",
       "      <td>170.248.173.247</td>\n",
       "      <td>2018-12-06</td>\n",
       "      <td>15:31:33</td>\n",
       "      <td>2018-12-06 15:31:33</td>\n",
       "    </tr>\n",
       "    <tr>\n",
       "      <th>...</th>\n",
       "      <td>...</td>\n",
       "      <td>...</td>\n",
       "      <td>...</td>\n",
       "      <td>...</td>\n",
       "      <td>...</td>\n",
       "      <td>...</td>\n",
       "      <td>...</td>\n",
       "      <td>...</td>\n",
       "      <td>...</td>\n",
       "      <td>...</td>\n",
       "      <td>...</td>\n",
       "    </tr>\n",
       "    <tr>\n",
       "      <th>2021-04-21 16:41:51</th>\n",
       "      <td>28.0</td>\n",
       "      <td>Staff</td>\n",
       "      <td>2014-02-04</td>\n",
       "      <td>2014-02-04</td>\n",
       "      <td>5.0</td>\n",
       "      <td>64</td>\n",
       "      <td>jquery/personal-site</td>\n",
       "      <td>71.150.217.33</td>\n",
       "      <td>2021-04-21</td>\n",
       "      <td>16:41:51</td>\n",
       "      <td>2021-04-21 16:41:51</td>\n",
       "    </tr>\n",
       "    <tr>\n",
       "      <th>2021-04-21 16:42:02</th>\n",
       "      <td>28.0</td>\n",
       "      <td>Staff</td>\n",
       "      <td>2014-02-04</td>\n",
       "      <td>2014-02-04</td>\n",
       "      <td>5.0</td>\n",
       "      <td>64</td>\n",
       "      <td>jquery/mapbox-api</td>\n",
       "      <td>71.150.217.33</td>\n",
       "      <td>2021-04-21</td>\n",
       "      <td>16:42:02</td>\n",
       "      <td>2021-04-21 16:42:02</td>\n",
       "    </tr>\n",
       "    <tr>\n",
       "      <th>2021-04-21 16:42:09</th>\n",
       "      <td>28.0</td>\n",
       "      <td>Staff</td>\n",
       "      <td>2014-02-04</td>\n",
       "      <td>2014-02-04</td>\n",
       "      <td>5.0</td>\n",
       "      <td>64</td>\n",
       "      <td>jquery/ajax/weather-map</td>\n",
       "      <td>71.150.217.33</td>\n",
       "      <td>2021-04-21</td>\n",
       "      <td>16:42:09</td>\n",
       "      <td>2021-04-21 16:42:09</td>\n",
       "    </tr>\n",
       "    <tr>\n",
       "      <th>2021-04-21 16:44:37</th>\n",
       "      <td>28.0</td>\n",
       "      <td>Staff</td>\n",
       "      <td>2014-02-04</td>\n",
       "      <td>2014-02-04</td>\n",
       "      <td>5.0</td>\n",
       "      <td>744</td>\n",
       "      <td>anomaly-detection/discrete-probabilistic-methods</td>\n",
       "      <td>24.160.137.86</td>\n",
       "      <td>2021-04-21</td>\n",
       "      <td>16:44:37</td>\n",
       "      <td>2021-04-21 16:44:37</td>\n",
       "    </tr>\n",
       "    <tr>\n",
       "      <th>2021-04-21 16:44:39</th>\n",
       "      <td>28.0</td>\n",
       "      <td>Staff</td>\n",
       "      <td>2014-02-04</td>\n",
       "      <td>2014-02-04</td>\n",
       "      <td>5.0</td>\n",
       "      <td>64</td>\n",
       "      <td>jquery/mapbox-api</td>\n",
       "      <td>71.150.217.33</td>\n",
       "      <td>2021-04-21</td>\n",
       "      <td>16:44:39</td>\n",
       "      <td>2021-04-21 16:44:39</td>\n",
       "    </tr>\n",
       "  </tbody>\n",
       "</table>\n",
       "<p>84031 rows × 11 columns</p>\n",
       "</div>"
      ],
      "text/plain": [
       "                       id   name  start_date    end_date  program_id  user_id  \\\n",
       "date_time                                                                       \n",
       "2018-12-06 14:15:29  28.0  Staff  2014-02-04  2014-02-04         5.0       53   \n",
       "2018-12-06 14:25:40  28.0  Staff  2014-02-04  2014-02-04         5.0      314   \n",
       "2018-12-06 14:25:41  28.0  Staff  2014-02-04  2014-02-04         5.0      314   \n",
       "2018-12-06 15:31:29  28.0  Staff  2014-02-04  2014-02-04         5.0       40   \n",
       "2018-12-06 15:31:33  28.0  Staff  2014-02-04  2014-02-04         5.0       40   \n",
       "...                   ...    ...         ...         ...         ...      ...   \n",
       "2021-04-21 16:41:51  28.0  Staff  2014-02-04  2014-02-04         5.0       64   \n",
       "2021-04-21 16:42:02  28.0  Staff  2014-02-04  2014-02-04         5.0       64   \n",
       "2021-04-21 16:42:09  28.0  Staff  2014-02-04  2014-02-04         5.0       64   \n",
       "2021-04-21 16:44:37  28.0  Staff  2014-02-04  2014-02-04         5.0      744   \n",
       "2021-04-21 16:44:39  28.0  Staff  2014-02-04  2014-02-04         5.0       64   \n",
       "\n",
       "                                                                  path  \\\n",
       "date_time                                                                \n",
       "2018-12-06 14:15:29  appendix/further-reading/java/intellij-tomcat-...   \n",
       "2018-12-06 14:25:40                                       javascript-i   \n",
       "2018-12-06 14:25:41                        javascript-i/coffee-project   \n",
       "2018-12-06 15:31:29                                             spring   \n",
       "2018-12-06 15:31:33                       spring/fundamentals/security   \n",
       "...                                                                ...   \n",
       "2021-04-21 16:41:51                               jquery/personal-site   \n",
       "2021-04-21 16:42:02                                  jquery/mapbox-api   \n",
       "2021-04-21 16:42:09                            jquery/ajax/weather-map   \n",
       "2021-04-21 16:44:37   anomaly-detection/discrete-probabilistic-methods   \n",
       "2021-04-21 16:44:39                                  jquery/mapbox-api   \n",
       "\n",
       "                                  ip        date      time           date_time  \n",
       "date_time                                                                       \n",
       "2018-12-06 14:15:29     97.105.19.58  2018-12-06  14:15:29 2018-12-06 14:15:29  \n",
       "2018-12-06 14:25:40     97.105.19.58  2018-12-06  14:25:40 2018-12-06 14:25:40  \n",
       "2018-12-06 14:25:41     97.105.19.58  2018-12-06  14:25:41 2018-12-06 14:25:41  \n",
       "2018-12-06 15:31:29  170.248.173.247  2018-12-06  15:31:29 2018-12-06 15:31:29  \n",
       "2018-12-06 15:31:33  170.248.173.247  2018-12-06  15:31:33 2018-12-06 15:31:33  \n",
       "...                              ...         ...       ...                 ...  \n",
       "2021-04-21 16:41:51    71.150.217.33  2021-04-21  16:41:51 2021-04-21 16:41:51  \n",
       "2021-04-21 16:42:02    71.150.217.33  2021-04-21  16:42:02 2021-04-21 16:42:02  \n",
       "2021-04-21 16:42:09    71.150.217.33  2021-04-21  16:42:09 2021-04-21 16:42:09  \n",
       "2021-04-21 16:44:37    24.160.137.86  2021-04-21  16:44:37 2021-04-21 16:44:37  \n",
       "2021-04-21 16:44:39    71.150.217.33  2021-04-21  16:44:39 2021-04-21 16:44:39  \n",
       "\n",
       "[84031 rows x 11 columns]"
      ]
     },
     "execution_count": 13,
     "metadata": {},
     "output_type": "execute_result"
    }
   ],
   "source": [
    "df[df.name == \"Staff\"]"
   ]
  },
  {
   "cell_type": "code",
   "execution_count": 14,
   "id": "68df7c9c-600c-4f82-99cf-01a62e137246",
   "metadata": {},
   "outputs": [
    {
     "data": {
      "text/plain": [
       "2.0    629334\n",
       "3.0    103412\n",
       "5.0     84031\n",
       "1.0     30548\n",
       "4.0         5\n",
       "Name: program_id, dtype: int64"
      ]
     },
     "execution_count": 14,
     "metadata": {},
     "output_type": "execute_result"
    }
   ],
   "source": [
    "df.program_id.value_counts()"
   ]
  },
  {
   "cell_type": "code",
   "execution_count": 15,
   "id": "86724c14-b5db-4870-ba52-99106636c1ac",
   "metadata": {},
   "outputs": [
    {
     "data": {
      "text/html": [
       "<div>\n",
       "<style scoped>\n",
       "    .dataframe tbody tr th:only-of-type {\n",
       "        vertical-align: middle;\n",
       "    }\n",
       "\n",
       "    .dataframe tbody tr th {\n",
       "        vertical-align: top;\n",
       "    }\n",
       "\n",
       "    .dataframe thead th {\n",
       "        text-align: right;\n",
       "    }\n",
       "</style>\n",
       "<table border=\"1\" class=\"dataframe\">\n",
       "  <thead>\n",
       "    <tr style=\"text-align: right;\">\n",
       "      <th></th>\n",
       "      <th>id</th>\n",
       "      <th>name</th>\n",
       "      <th>start_date</th>\n",
       "      <th>end_date</th>\n",
       "      <th>program_id</th>\n",
       "      <th>user_id</th>\n",
       "      <th>path</th>\n",
       "      <th>ip</th>\n",
       "      <th>date</th>\n",
       "      <th>time</th>\n",
       "      <th>date_time</th>\n",
       "    </tr>\n",
       "    <tr>\n",
       "      <th>date_time</th>\n",
       "      <th></th>\n",
       "      <th></th>\n",
       "      <th></th>\n",
       "      <th></th>\n",
       "      <th></th>\n",
       "      <th></th>\n",
       "      <th></th>\n",
       "      <th></th>\n",
       "      <th></th>\n",
       "      <th></th>\n",
       "      <th></th>\n",
       "    </tr>\n",
       "  </thead>\n",
       "  <tbody>\n",
       "    <tr>\n",
       "      <th>2018-03-22 19:01:49</th>\n",
       "      <td>9.0</td>\n",
       "      <td>Apollo</td>\n",
       "      <td>2015-03-30</td>\n",
       "      <td>2015-07-29</td>\n",
       "      <td>4.0</td>\n",
       "      <td>152</td>\n",
       "      <td>/</td>\n",
       "      <td>207.68.209.17</td>\n",
       "      <td>2018-03-22</td>\n",
       "      <td>19:01:49</td>\n",
       "      <td>2018-03-22 19:01:49</td>\n",
       "    </tr>\n",
       "    <tr>\n",
       "      <th>2018-03-22 19:01:54</th>\n",
       "      <td>9.0</td>\n",
       "      <td>Apollo</td>\n",
       "      <td>2015-03-30</td>\n",
       "      <td>2015-07-29</td>\n",
       "      <td>4.0</td>\n",
       "      <td>152</td>\n",
       "      <td>content/html-css</td>\n",
       "      <td>207.68.209.17</td>\n",
       "      <td>2018-03-22</td>\n",
       "      <td>19:01:54</td>\n",
       "      <td>2018-03-22 19:01:54</td>\n",
       "    </tr>\n",
       "    <tr>\n",
       "      <th>2018-03-22 19:01:54</th>\n",
       "      <td>9.0</td>\n",
       "      <td>Apollo</td>\n",
       "      <td>2015-03-30</td>\n",
       "      <td>2015-07-29</td>\n",
       "      <td>4.0</td>\n",
       "      <td>152</td>\n",
       "      <td>content/html-css/gitbook/images/favicon.ico</td>\n",
       "      <td>207.68.209.17</td>\n",
       "      <td>2018-03-22</td>\n",
       "      <td>19:01:54</td>\n",
       "      <td>2018-03-22 19:01:54</td>\n",
       "    </tr>\n",
       "    <tr>\n",
       "      <th>2018-03-22 19:02:47</th>\n",
       "      <td>9.0</td>\n",
       "      <td>Apollo</td>\n",
       "      <td>2015-03-30</td>\n",
       "      <td>2015-07-29</td>\n",
       "      <td>4.0</td>\n",
       "      <td>152</td>\n",
       "      <td>content/html-css</td>\n",
       "      <td>207.68.209.17</td>\n",
       "      <td>2018-03-22</td>\n",
       "      <td>19:02:47</td>\n",
       "      <td>2018-03-22 19:02:47</td>\n",
       "    </tr>\n",
       "    <tr>\n",
       "      <th>2018-03-22 19:02:52</th>\n",
       "      <td>9.0</td>\n",
       "      <td>Apollo</td>\n",
       "      <td>2015-03-30</td>\n",
       "      <td>2015-07-29</td>\n",
       "      <td>4.0</td>\n",
       "      <td>152</td>\n",
       "      <td>content/html-css/introduction.html</td>\n",
       "      <td>207.68.209.17</td>\n",
       "      <td>2018-03-22</td>\n",
       "      <td>19:02:52</td>\n",
       "      <td>2018-03-22 19:02:52</td>\n",
       "    </tr>\n",
       "  </tbody>\n",
       "</table>\n",
       "</div>"
      ],
      "text/plain": [
       "                      id    name  start_date    end_date  program_id  user_id  \\\n",
       "date_time                                                                       \n",
       "2018-03-22 19:01:49  9.0  Apollo  2015-03-30  2015-07-29         4.0      152   \n",
       "2018-03-22 19:01:54  9.0  Apollo  2015-03-30  2015-07-29         4.0      152   \n",
       "2018-03-22 19:01:54  9.0  Apollo  2015-03-30  2015-07-29         4.0      152   \n",
       "2018-03-22 19:02:47  9.0  Apollo  2015-03-30  2015-07-29         4.0      152   \n",
       "2018-03-22 19:02:52  9.0  Apollo  2015-03-30  2015-07-29         4.0      152   \n",
       "\n",
       "                                                            path  \\\n",
       "date_time                                                          \n",
       "2018-03-22 19:01:49                                            /   \n",
       "2018-03-22 19:01:54                             content/html-css   \n",
       "2018-03-22 19:01:54  content/html-css/gitbook/images/favicon.ico   \n",
       "2018-03-22 19:02:47                             content/html-css   \n",
       "2018-03-22 19:02:52           content/html-css/introduction.html   \n",
       "\n",
       "                                ip        date      time           date_time  \n",
       "date_time                                                                     \n",
       "2018-03-22 19:01:49  207.68.209.17  2018-03-22  19:01:49 2018-03-22 19:01:49  \n",
       "2018-03-22 19:01:54  207.68.209.17  2018-03-22  19:01:54 2018-03-22 19:01:54  \n",
       "2018-03-22 19:01:54  207.68.209.17  2018-03-22  19:01:54 2018-03-22 19:01:54  \n",
       "2018-03-22 19:02:47  207.68.209.17  2018-03-22  19:02:47 2018-03-22 19:02:47  \n",
       "2018-03-22 19:02:52  207.68.209.17  2018-03-22  19:02:52 2018-03-22 19:02:52  "
      ]
     },
     "execution_count": 15,
     "metadata": {},
     "output_type": "execute_result"
    }
   ],
   "source": [
    "df[df.program_id == 4]"
   ]
  },
  {
   "cell_type": "code",
   "execution_count": 16,
   "id": "4083da24-8385-4776-8be0-af07afcdbc69",
   "metadata": {},
   "outputs": [
    {
     "name": "stderr",
     "output_type": "stream",
     "text": [
      "/var/folders/ng/82m_197x6jd7ysrq5l2vxd280000gn/T/ipykernel_39243/2718205872.py:1: UserWarning: This pattern is interpreted as a regular expression, and has match groups. To actually get the groups, use str.extract.\n",
      "  df[df.program_id == 1].path.str.contains('(javascript|java|html|css|jquery|object_oriented_programming)').value_counts()\n"
     ]
    },
    {
     "data": {
      "text/plain": [
       "True     19677\n",
       "False    10871\n",
       "Name: path, dtype: int64"
      ]
     },
     "execution_count": 16,
     "metadata": {},
     "output_type": "execute_result"
    }
   ],
   "source": [
    "df[df.program_id == 1].path.str.contains('(javascript|java|html|css|jquery|object_oriented_programming)').value_counts()\n"
   ]
  },
  {
   "cell_type": "markdown",
   "id": "c747ba5f-db61-409a-b68a-51602729fd78",
   "metadata": {},
   "source": [
    "- program_id 1 is most likely web_dev based on the amount of times that webdev curriculum courses are accesed"
   ]
  },
  {
   "cell_type": "code",
   "execution_count": 17,
   "id": "147e9d98-b218-4164-867e-d013d0e6882a",
   "metadata": {},
   "outputs": [
    {
     "name": "stderr",
     "output_type": "stream",
     "text": [
      "/var/folders/ng/82m_197x6jd7ysrq5l2vxd280000gn/T/ipykernel_39243/761621176.py:1: UserWarning: This pattern is interpreted as a regular expression, and has match groups. To actually get the groups, use str.extract.\n",
      "  df[df.program_id == 2].path.str.contains('(javascript|java|html|css|jquery|object_oriented_programming)').value_counts()\n"
     ]
    },
    {
     "data": {
      "text/plain": [
       "True     412971\n",
       "False    216363\n",
       "Name: path, dtype: int64"
      ]
     },
     "execution_count": 17,
     "metadata": {},
     "output_type": "execute_result"
    }
   ],
   "source": [
    "df[df.program_id == 2].path.str.contains('(javascript|java|html|css|jquery|object_oriented_programming)').value_counts()"
   ]
  },
  {
   "cell_type": "markdown",
   "id": "a051d7f3-bcf6-43b8-804b-4802382606d0",
   "metadata": {},
   "source": [
    "- program_id 2 is most likely web_dev based on the amount of times that webdev curriculum courses are accesed"
   ]
  },
  {
   "cell_type": "code",
   "execution_count": 18,
   "id": "cee76b91-72be-42c0-9f35-a4216b28cf3c",
   "metadata": {},
   "outputs": [
    {
     "name": "stderr",
     "output_type": "stream",
     "text": [
      "/var/folders/ng/82m_197x6jd7ysrq5l2vxd280000gn/T/ipykernel_39243/654221564.py:1: UserWarning: This pattern is interpreted as a regular expression, and has match groups. To actually get the groups, use str.extract.\n",
      "  df[df.program_id == 3].path.str.contains('(javascript|java|html|css|jquery)').value_counts()\n"
     ]
    },
    {
     "data": {
      "text/plain": [
       "False    103086\n",
       "True        325\n",
       "Name: path, dtype: int64"
      ]
     },
     "execution_count": 18,
     "metadata": {},
     "output_type": "execute_result"
    }
   ],
   "source": [
    "df[df.program_id == 3].path.str.contains('(javascript|java|html|css|jquery)').value_counts()"
   ]
  },
  {
   "cell_type": "code",
   "execution_count": 19,
   "id": "4f825584-c058-4f93-8051-3f6f56eba97b",
   "metadata": {},
   "outputs": [
    {
     "name": "stderr",
     "output_type": "stream",
     "text": [
      "/var/folders/ng/82m_197x6jd7ysrq5l2vxd280000gn/T/ipykernel_39243/154440998.py:1: UserWarning: This pattern is interpreted as a regular expression, and has match groups. To actually get the groups, use str.extract.\n",
      "  df[df.program_id == 4].path.str.contains('(javascript|java|html|css|jquery)').value_counts()\n"
     ]
    },
    {
     "data": {
      "text/plain": [
       "True     4\n",
       "False    1\n",
       "Name: path, dtype: int64"
      ]
     },
     "execution_count": 19,
     "metadata": {},
     "output_type": "execute_result"
    }
   ],
   "source": [
    "df[df.program_id == 4].path.str.contains('(javascript|java|html|css|jquery)').value_counts()"
   ]
  },
  {
   "cell_type": "code",
   "execution_count": 20,
   "id": "c29b428f-7796-4041-b5c2-6419aed33197",
   "metadata": {},
   "outputs": [
    {
     "name": "stderr",
     "output_type": "stream",
     "text": [
      "/var/folders/ng/82m_197x6jd7ysrq5l2vxd280000gn/T/ipykernel_39243/3745163319.py:1: UserWarning: This pattern is interpreted as a regular expression, and has match groups. To actually get the groups, use str.extract.\n",
      "  df[df.program_id == 5].path.str.contains('(javascript|java|html|css|jquery)').value_counts()\n"
     ]
    },
    {
     "data": {
      "text/plain": [
       "False    52290\n",
       "True     31741\n",
       "Name: path, dtype: int64"
      ]
     },
     "execution_count": 20,
     "metadata": {},
     "output_type": "execute_result"
    }
   ],
   "source": [
    "df[df.program_id == 5].path.str.contains('(javascript|java|html|css|jquery)').value_counts()"
   ]
  },
  {
   "cell_type": "markdown",
   "id": "2b5b78e7-057e-4808-a8b7-ff5bc73d344d",
   "metadata": {},
   "source": [
    "- program id 3 is most likely Data scicence based off the lack of webdev courses accesed.  "
   ]
  },
  {
   "cell_type": "code",
   "execution_count": 21,
   "id": "38dd0234-9dc0-4b41-a053-48c8bac68a81",
   "metadata": {},
   "outputs": [],
   "source": [
    "# takes program 1 and 2 and sets both to 1 for WEBDEV\n",
    "df.program_id = np.where((df.program_id == 1) | (df.program_id == 2), 1, df.program_id)"
   ]
  },
  {
   "cell_type": "code",
   "execution_count": 22,
   "id": "736b5698-d918-4773-a330-6d8187ef2bb4",
   "metadata": {},
   "outputs": [],
   "source": [
    "# takes program 3 and changes it to 2 for Data Science\n",
    "df.loc[df.program_id == 3, 'program_id'] = 2"
   ]
  },
  {
   "cell_type": "code",
   "execution_count": 23,
   "id": "a2768509-ae4f-4071-9783-29b18b9857c8",
   "metadata": {},
   "outputs": [],
   "source": [
    "# changes the staff program id to 3\n",
    "df.loc[df['name'] == 'Staff', 'program_id'] = 3"
   ]
  },
  {
   "cell_type": "markdown",
   "id": "8009f55e-3c20-400b-84c5-0dd180df9a7e",
   "metadata": {},
   "source": [
    "- program id 3 is staff \n",
    "- program id 4 is a random early student form 2015 that had accessed the curicculum again after the logs were being recorded "
   ]
  },
  {
   "cell_type": "code",
   "execution_count": 24,
   "id": "e4c0d33a-52a4-40c9-9448-65019def5085",
   "metadata": {},
   "outputs": [
    {
     "data": {
      "text/plain": [
       "1.0    659882\n",
       "2.0    103412\n",
       "3.0     84031\n",
       "4.0         5\n",
       "Name: program_id, dtype: int64"
      ]
     },
     "execution_count": 24,
     "metadata": {},
     "output_type": "execute_result"
    }
   ],
   "source": [
    "df.program_id.value_counts()"
   ]
  },
  {
   "cell_type": "code",
   "execution_count": 25,
   "id": "55f97b45-9b09-4bc9-a28f-5d0c1659b712",
   "metadata": {},
   "outputs": [],
   "source": [
    "conditions = [\n",
    "    df['program_id'] == 1,\n",
    "    df['program_id'] == 2,\n",
    "    df['program_id'] == 3\n",
    "]\n",
    "\n",
    "choices = [\n",
    "    'Web_dev',\n",
    "    'Data Science',\n",
    "    'Staff'\n",
    "]\n",
    "\n",
    "df['program'] = np.select(conditions, choices)\n",
    "    \n",
    "    "
   ]
  },
  {
   "cell_type": "code",
   "execution_count": 26,
   "id": "4e60aac7-4a85-4b57-bb6d-eb30c94be75e",
   "metadata": {},
   "outputs": [],
   "source": [
    "df.rename(columns={'id': 'cohort_id'}, inplace=True)"
   ]
  },
  {
   "cell_type": "code",
   "execution_count": 27,
   "id": "6c06db61-d234-456c-84fd-ce79dc25b082",
   "metadata": {},
   "outputs": [],
   "source": [
    "df.fillna(0, inplace=True)"
   ]
  },
  {
   "cell_type": "code",
   "execution_count": 28,
   "id": "7778ed67-3a70-42fa-ac1f-633e4568cbc4",
   "metadata": {},
   "outputs": [
    {
     "data": {
      "text/plain": [
       "cohort_id     0\n",
       "name          0\n",
       "start_date    0\n",
       "end_date      0\n",
       "program_id    0\n",
       "user_id       0\n",
       "path          0\n",
       "ip            0\n",
       "date          0\n",
       "time          0\n",
       "date_time     0\n",
       "program       0\n",
       "dtype: int64"
      ]
     },
     "execution_count": 28,
     "metadata": {},
     "output_type": "execute_result"
    }
   ],
   "source": [
    "df.isna().sum()"
   ]
  }
 ],
 "metadata": {
  "kernelspec": {
   "display_name": "Python 3 (ipykernel)",
   "language": "python",
   "name": "python3"
  },
  "language_info": {
   "codemirror_mode": {
    "name": "ipython",
    "version": 3
   },
   "file_extension": ".py",
   "mimetype": "text/x-python",
   "name": "python",
   "nbconvert_exporter": "python",
   "pygments_lexer": "ipython3",
   "version": "3.9.13"
  }
 },
 "nbformat": 4,
 "nbformat_minor": 5
}
